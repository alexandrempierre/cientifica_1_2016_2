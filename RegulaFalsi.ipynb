{
 "cells": [
  {
   "cell_type": "code",
   "execution_count": 1,
   "metadata": {
    "collapsed": false
   },
   "outputs": [
    {
     "name": "stdout",
     "output_type": "stream",
     "text": [
      "Populating the interactive namespace from numpy and matplotlib\n"
     ]
    }
   ],
   "source": [
    "%pylab inline"
   ]
  },
  {
   "cell_type": "code",
   "execution_count": 31,
   "metadata": {
    "collapsed": true
   },
   "outputs": [],
   "source": [
    "global_prec=1e-5"
   ]
  },
  {
   "cell_type": "code",
   "execution_count": 32,
   "metadata": {
    "collapsed": true
   },
   "outputs": [],
   "source": [
    "def bissecao(f,a,b,prec=global_prec):\n",
    "    m=(a+b)/2\n",
    "    \n",
    "    if f(m) == 0 or abs(b-a)/2 < prec: return m\n",
    "    \n",
    "    if f(a)*f(m) < 0: return bissecao(f,a,m)\n",
    "    else: return bissecao(f,m,b)"
   ]
  },
  {
   "cell_type": "code",
   "execution_count": 33,
   "metadata": {
    "collapsed": true
   },
   "outputs": [],
   "source": [
    "def secante(f,x0,x1,prec=global_prec):\n",
    "    x2 = x0 - (x1-x0)*f(x0)/(f(x1)-f(x0))\n",
    "    \n",
    "    if abs(x2-x1) < prec or f(x2) == 0: return x2\n",
    "    else: return secante(f,x1,x2)"
   ]
  },
  {
   "cell_type": "code",
   "execution_count": 42,
   "metadata": {
    "collapsed": true
   },
   "outputs": [],
   "source": [
    "def regula_falsi(f,x0,x1,prec=global_prec):\n",
    "    x2 = x0 - (x1-x0)*f(x0)/(f(x1)-f(x0))\n",
    "    \n",
    "    if abs(x2-x1) < prec or f(x2) == 0: return x2\n",
    "    elif f(x0)*f(x2) < 0: return regula_falsi(f,x0,x2)\n",
    "    else: return regula_falsi(f,x1,x2)"
   ]
  },
  {
   "cell_type": "code",
   "execution_count": 43,
   "metadata": {
    "collapsed": false
   },
   "outputs": [
    {
     "data": {
      "text/plain": [
       "(3.14159265358952, 3.1415926535596483, 3.1415907462411603)"
      ]
     },
     "execution_count": 43,
     "metadata": {},
     "output_type": "execute_result"
    }
   ],
   "source": [
    "regula_falsi(sin,pi-.5,pi+1), secante(sin,pi-.5,pi+1), bissecao(sin,pi-.5,pi+1)"
   ]
  },
  {
   "cell_type": "code",
   "execution_count": 44,
   "metadata": {
    "collapsed": false
   },
   "outputs": [
    {
     "name": "stdout",
     "output_type": "stream",
     "text": [
      "1000 loops, best of 3: 386 µs per loop\n"
     ]
    }
   ],
   "source": [
    "%timeit bissecao(sin,pi-.5,pi+1)"
   ]
  },
  {
   "cell_type": "code",
   "execution_count": 45,
   "metadata": {
    "collapsed": false
   },
   "outputs": [
    {
     "name": "stdout",
     "output_type": "stream",
     "text": [
      "10000 loops, best of 3: 85.4 µs per loop\n"
     ]
    }
   ],
   "source": [
    "%timeit secante(sin,pi-.5,pi+1)"
   ]
  },
  {
   "cell_type": "code",
   "execution_count": 46,
   "metadata": {
    "collapsed": false
   },
   "outputs": [
    {
     "name": "stdout",
     "output_type": "stream",
     "text": [
      "10000 loops, best of 3: 116 µs per loop\n"
     ]
    }
   ],
   "source": [
    "%timeit regula_falsi(sin,pi-.5,pi+1)"
   ]
  },
  {
   "cell_type": "code",
   "execution_count": 49,
   "metadata": {
    "collapsed": true
   },
   "outputs": [],
   "source": [
    "def illinois(f,x0,x1,prec=global_prec):\n",
    "    #x2 = x0 - (x1-x0)*(f(x0)/2)/(f(x1)-f(x0)/2)\n",
    "    #x2 = x0 - (x1-x0/2)*f(x0)/(f(x1)/2-f(x0))\n",
    "    \n",
    "    #x2 = (x0*f(x1)/2-x1*f(x0))/(f(x1)/2-f(x0))\n",
    "    x2 = (x0*f(x1)-x1*f(x0)/2)/(f(x1)-f(x0)/2)\n",
    "    \n",
    "    if abs(x2-x1) < prec or f(x2) == 0: return x2\n",
    "    elif f(x0)*f(x2) < 0: return illinois(f,x0,x2)\n",
    "    else: return illinois(f,x1,x2)"
   ]
  },
  {
   "cell_type": "code",
   "execution_count": 50,
   "metadata": {
    "collapsed": false
   },
   "outputs": [
    {
     "name": "stdout",
     "output_type": "stream",
     "text": [
      "1000 loops, best of 3: 666 µs per loop\n"
     ]
    }
   ],
   "source": [
    "%timeit illinois(sin,pi-.5,pi+1)"
   ]
  },
  {
   "cell_type": "code",
   "execution_count": 51,
   "metadata": {
    "collapsed": true
   },
   "outputs": [],
   "source": [
    "def anderson_bjork(f,x0,x1,prec=global_prec):\n",
    "    x2 = (x0*f(x1)-x1*f(x0))/(f(x1)-f(x0))\n",
    "    \n",
    "    if abs(x2-x1) < prec or f(x2) == 0: return x2\n",
    "    elif f(x0)*f(x2) < 0: # f(x0) precisa de um peso m=f(x2)/f(x1)\n",
    "        m = f(x2)/f(x1)\n",
    "        m = 1/2 if m == 0 else m\n",
    "        x2 = x1 - f(x1)*(x0-x1)/(f(x0)*m-f(x1))\n",
    "        return illinois(f,x0,x2)\n",
    "    else: # f(x1) precisa de um peso m=f(x2)/f(x0)\n",
    "        m = f(x2)/f(x0)\n",
    "        m = 1/2 if m == 0 else m\n",
    "        x2 = x0 - f(x0)*(x1-x0)/(f(x1)*m-f(x0))\n",
    "        return illinois(f,x1,x2)"
   ]
  },
  {
   "cell_type": "code",
   "execution_count": 52,
   "metadata": {
    "collapsed": false
   },
   "outputs": [
    {
     "name": "stdout",
     "output_type": "stream",
     "text": [
      "1000 loops, best of 3: 928 µs per loop\n"
     ]
    }
   ],
   "source": [
    "%timeit anderson_bjork(sin,pi-.5,pi+1)"
   ]
  },
  {
   "cell_type": "code",
   "execution_count": null,
   "metadata": {
    "collapsed": true
   },
   "outputs": [],
   "source": []
  }
 ],
 "metadata": {
  "kernelspec": {
   "display_name": "Python 3",
   "language": "python",
   "name": "python3"
  },
  "language_info": {
   "codemirror_mode": {
    "name": "ipython",
    "version": 3
   },
   "file_extension": ".py",
   "mimetype": "text/x-python",
   "name": "python",
   "nbconvert_exporter": "python",
   "pygments_lexer": "ipython3",
   "version": "3.5.2"
  }
 },
 "nbformat": 4,
 "nbformat_minor": 0
}
