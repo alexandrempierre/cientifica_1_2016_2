{
 "cells": [
  {
   "cell_type": "code",
   "execution_count": null,
   "metadata": {
    "collapsed": true
   },
   "outputs": [],
   "source": [
    "from functools import reduce\n",
    "produto = lambda x,y : x*y\n",
    "\n",
    "def X(n,s='x'):\n",
    "    return [sym.symbols('{}_{}'.format(s,i+1), domain='R') for i in range(n)]\n",
    "\n",
    "def lagrange_basis(X,k):\n",
    "    x = sym.symbols('x')\n",
    "    return reduce(produto,[(x-x_i)/(X[k]-x_i) for i,x_i in enumerate(X) if i!=k],1)\n",
    "\n",
    "def lagrange_polynomial(X,Y):\n",
    "    L = 0\n",
    "    for i,x_i in enumerate(X):\n",
    "        L += Y[i]*lagrange_basis(X,i)\n",
    "    return sym.Poly(L,domain='R')\n",
    "\n",
    "I = sym.integrate(lagrange_polynomial([1,2,3],[1,0,0]))\n",
    "I(1) - I(-1)"
   ]
  },
  {
   "cell_type": "code",
   "execution_count": null,
   "metadata": {
    "collapsed": true
   },
   "outputs": [],
   "source": [
    "t = sym.symbols('t')\n",
    "p = (t**2 - 5*t + 6)/2\n",
    "p = sym.Poly(p,t,domain='R')\n",
    "I = sym.integrals.integrate(p,t)\n",
    "I(1) - I(-1)"
   ]
  }
 ],
 "metadata": {
  "kernelspec": {
   "display_name": "Python 3",
   "language": "python",
   "name": "python3"
  },
  "language_info": {
   "codemirror_mode": {
    "name": "ipython",
    "version": 3
   },
   "file_extension": ".py",
   "mimetype": "text/x-python",
   "name": "python",
   "nbconvert_exporter": "python",
   "pygments_lexer": "ipython3",
   "version": "3.5.2"
  }
 },
 "nbformat": 4,
 "nbformat_minor": 1
}
