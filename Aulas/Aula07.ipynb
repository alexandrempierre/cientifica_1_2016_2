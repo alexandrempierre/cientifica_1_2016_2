{
 "cells": [
  {
   "cell_type": "markdown",
   "metadata": {},
   "source": [
    "Plano de hoje\n",
    "-------------\n",
    "\n",
    "2. Usando o computador para calcular    \n",
    "    1. Indução e algoritmos recursivos\n",
    "    1. Aproximações sucessivas: bisseção, Newton\n",
    "    1. **$O(n)$, $o(\\varepsilon)$: notações para estimativas e complexidade computacional**"
   ]
  },
  {
   "cell_type": "markdown",
   "metadata": {},
   "source": [
    "# Revisão"
   ]
  },
  {
   "cell_type": "markdown",
   "metadata": {},
   "source": [
    "# Estimativas\n",
    "\n",
    "Vimos na aula passada que o método de Newton (quando converge) é muito mais rápido do que o método da bisseção.\n",
    "Vamos quantificar esta afirmação."
   ]
  },
  {
   "cell_type": "markdown",
   "metadata": {},
   "source": [
    "## Revisão: a velocidade do método da bisseção\n",
    "\n",
    "Como vimos nos gráficos da aula passada, a bisseção divide, a cada passo, o intervalo onde a raiz pode estar por dois.\n",
    "Assim, se chamamos de $n$ o número de passos efetuados, o erro (absoluto) será sempre\n",
    "$$ E_n \\leq C 2^{-n}. $$\n",
    "Aqui, $C$ é uma constante, que, no caso simples da bisseção, corresponde ao tamanho do intervalo inicial."
   ]
  },
  {
   "cell_type": "markdown",
   "metadata": {},
   "source": [
    "## A velocidade do método de Newton\n",
    "\n",
    "O método de Newton não converge sempre.\n",
    "\n",
    "Suponhamos, entretanto, que já estamos \"_suficientemente perto de uma raiz_\".\n",
    "O significado exato desta frase será determinado ao final da nossa argumentação.\n",
    "Esta é uma tática bastante comum, tanto neste curso como em geral:\n",
    "\n",
    "- tentamos provar o resultado para _funções boas_\n",
    "- se precisamos de alguma propriedade adicinoal (derivabilidade, etc...), apenas diminuímos a classe das \"funções boas\"\n",
    "- ao final, vemos quais hipóteses realmente foram necessárias."
   ]
  },
  {
   "cell_type": "markdown",
   "metadata": {},
   "source": [
    "### Erros\n",
    "\n",
    "Se estamos perto de uma raiz (digamos que $f(z) = 0$),\n",
    "então nosso ponto $x$ atual pode ser escrito como $x = z + \\varepsilon$, onde $\\varepsilon$ é o erro.\n",
    "Então o próximo ponto será:\n",
    "$$ y = x - f(x)/f'(x).$$\n",
    "Assim, o erro na etapa seguinte é dado por\n",
    "$$ y - z = (x - z) - f(x)/f'(x) = \\varepsilon - f(x)/f'(x) = e(y). $$\n",
    "Precisamos, portanto, estimar este valor para compreender quão rápido é o método de Newton.\n",
    "\n",
    "#### Expansão\n",
    "\n",
    "Já supusemos $f$ derivável.\n",
    "Para simplificar nossas contas, vamos supor $f$ **duas** vezes derivável.\n",
    "Assim, podemos escrever $f(x)$ em série de Taylor a partir de $z$:\n",
    "$$ f(x) = f(z) + \\varepsilon f'(z) + \\varepsilon^2 f''(z)/2 + r_2(x) = \\varepsilon f'(z) + \\varepsilon^2 f''(z)/2 + r_2(x)$$\n",
    "onde $r_2(x)$ é um resto pequeno.\n",
    "Este índice $2$ nos lembra que é um resto de segunda ordem.\n",
    "\n",
    "Mais ainda, também podemos escrever $f'(x)$ em série de Taylor, mas apenas à primeira ordem:\n",
    "$$ f'(x) = f'(z) + \\varepsilon f''(z) + r_1(x),$$\n",
    "com $r_1(x)$ o resto (agora apenas de primeira ordem).\n",
    "\n",
    "Substituímos tudo isso na fórmula do erro em $y$:\n",
    "$$\n",
    "\\begin{align}\n",
    "e(y) & = \\varepsilon - \\frac{\\varepsilon f'(z) + \\varepsilon^2 f''(z)/2 + r_2(x)}{f'(z) + \\varepsilon f''(z) + r_1(x)} \\\\\n",
    "     & = \\frac{\\varepsilon\\left(f'(z) + \\varepsilon f''(z) + r_1(x)\\right) - \\left(\\varepsilon f'(z) + \\varepsilon^2 f''(z)/2 + r_2(x)\\right)}{f'(z) + \\varepsilon f''(z) + r_1(x)} \\\\\n",
    "     & = \\frac{\\varepsilon^2 f''(z)/2 + \\varepsilon r_1(x) + r_2(x)}{f'(z) + \\varepsilon f''(z) + r_1(x)} \\\\\n",
    "     & = \\varepsilon^2 \\frac{f''(z)/2 + r_1(x)/\\varepsilon + r_2(x)/\\varepsilon^2}{f'(z) + \\varepsilon f''(z) + r_1(x)}.\n",
    "\\end{align}\n",
    "$$"
   ]
  },
  {
   "cell_type": "markdown",
   "metadata": {},
   "source": [
    "#### Termos dominantes\n",
    "\n",
    "O numerador tem três termos, mas o primeiro deles é um número ($f''(z)/2$), enquanto os outros são \"restos\".\n",
    "Por mais que eles apareçam \"divididos\", eles são divididos por \"pouco\", pois exatamente\n",
    "$$ \\begin{align}\n",
    "\\lim _ {x\\to z} \\frac{r_1(x)}{|x - z|} = 0 && \\lim _ {x\\to z} \\frac{r_2(x)}{|x - z|^2} = 0\n",
    "\\end{align} $$\n",
    "da definição de ser uma vez e duas vezes derivável.\n",
    "Assim, o termo dominante do numerador é a constante $f''(z)/2$.\n",
    "\n",
    "Para avaliar o denominador, vamos continuar nossas hipóteses: supomos que $f'(z)$ seja diferente de zero.\n",
    "Ou seja, supomos que $z$ não é um zero múltiplo de $f$.\n",
    "Com isso, o denominador da expressão acima,\n",
    "para $\\varepsilon$ suficientemente pequeno (estamos _suficientemente perto da raiz_!),\n",
    "será próximo de $f'(z)$, ou, melhor ainda, estará **longe de zero**.\n",
    "Portanto, a fração como um todo estará perto de\n",
    "$$\\frac{f''(z)}{2 f'(z)}. $$\n",
    "Mais ainda, podemos dizer que a fração será, em valor absoluto, menor do que o dobro disto (que chamamos $K$).\n",
    "Ou seja:\n",
    "$$ \\lvert e(y)\\rvert \\leq \\varepsilon^2 K. $$"
   ]
  },
  {
   "cell_type": "markdown",
   "metadata": {},
   "source": [
    "## Comparando\n",
    "\n",
    "Vimos, portanto, que o erro do método da bisseção satisfaz uma equação\n",
    "$$ e _ {n+1} = e_n / 2$$\n",
    "enquanto que o erro do método de Newton, dadas as condições apropriadas\n",
    "\n",
    "- $f'(z) \\neq 0$ e\n",
    "- já estarmos perto de $z$ para que o denominador não fique menor do que $f'(z)/2$ (em valor absoluto)\n",
    "\n",
    "satisfaz:\n",
    "$$ e _ {n+1} \\leq e_n^2 K. $$\n",
    "\n",
    "Ora, quando $e_n$ for pequeno (mais uma condição aparece aqui!), temos $e_n K < 1$.\n",
    "Na verdade, ao repetir este processo, vemos que $e_n K \\to 0$ também, já que $K$ é constante.\n",
    "Assim, o método de Newton converge mais rápido: não apenas dividimos o erro por uma constante,\n",
    "mas de fato a cada passo esta constante \"é maior ainda\".\n",
    "\n",
    "Na verdade, dada a presença do expoente 2, dizemos que o método de Newton apresenta convergência **quadrática**.\n",
    "A bisseção, no entanto, converge apenas **linearmente**, já que o expoente é um."
   ]
  },
  {
   "cell_type": "markdown",
   "metadata": {},
   "source": [
    "# $O(\\varepsilon)$ e $o(\\varepsilon)$, $O(n)$ e $o(n)$\n",
    "\n",
    "Durante este curso, vamos fazer diversas estimativas.\n",
    "Estimativas de erro, de velocidade de convergência, e de complexidade computacional (veja daqui a pouco).\n",
    "Precisamos de uma notação que nos ajude a pensar e comparar as estimativas.\n",
    "\n",
    "Vamos começar com $O(\\varepsilon)$ e $o(\\varepsilon)$, que será útil para as duas primeiras,\n",
    "e vamos entender as outras duas por analogia."
   ]
  },
  {
   "cell_type": "markdown",
   "metadata": {},
   "source": [
    "## Continuidade e derivação: análise quando $\\varepsilon \\to 0$.\n",
    "\n",
    "### Exemplo\n",
    "\n",
    "Vamos manter a notação do exemplo da bisseção, $x = z + \\varepsilon$.\n",
    "Quando $f$ é derivável em $z$, escrevemos a fórmula fundamental\n",
    "$$ f(x) = f(z) + \\varepsilon f'(z) + r_1(x). $$\n",
    "A exigência básica é que $\\lim _ {x\\to z} \\frac{r_1(x)}{|x - z|} = 0$.\n",
    "Ou seja, $r_1(x)$ é \"muito menor do que $\\varepsilon$ quando $\\varepsilon$ tende a zero.\n",
    "Para isso, usamos a notação $r_1(x) = o(\\varepsilon)$.\n",
    "\n",
    "Por outro lado, podemos simplesmente escrever que $f(x) - f(z)$ é menor do que $\\varepsilon f'(z) + r_1(x)$,\n",
    "e portanto $f(x) - f(z) = O(\\varepsilon)$.\n",
    "\n",
    "- Na verdade, $f(x) - f(z)$ é **da ordem de $\\varepsilon$** (quando $f'(z) \\neq 0$)\n",
    "  e para isso a notação precisa é $\\Theta(\\varepsilon)$.\n",
    "  Mas este nível de precisão não será necessário para nós.\n",
    "\n",
    "### Definição\n",
    "\n",
    "Sejam $f$ e $g$ duas funções reais.\n",
    "Dizemos que $f = o(g)$ quando $\\varepsilon \\to 0$ se:\n",
    "$$ \\lim _ {\\varepsilon \\to 0} \\frac{f(\\varepsilon)}{g(\\varepsilon)} = 0. $$\n",
    "Dizemos que $f = O(g)$ quando $\\varepsilon \\to 0$ se existir uma constante $C$ tal que, para $\\varepsilon$ suficientemente pequeno:\n",
    "$$ \\left\\lvert \\frac{f(\\varepsilon)}{g(\\varepsilon)} \\right\\rvert \\leq C. $$\n",
    "\n",
    "- Muitas vezes, omitimos o \"quando $\\varepsilon \\to 0$\" quando é claro do contexto que variável tende a zero. Por exemplo, se usamos $f = o(\\varepsilon^2)$.\n",
    "- Na verdade, seria melhor escrever $f \\in o(g)$ e $f \\in O(g)$, mas não é o hábito, e é muito prático usar a igualdade para fazer cálculos!\n",
    "\n",
    "### Mais um exemplo\n",
    "\n",
    "Lembre a definição de continuidade de uma função $f$ em $z$: $f(x) - f(z) \\to 0$ quando $x \\to z$.\n",
    "E $f(x) - f(z)$ seria um $r_0(x)$: uma função que, quando $\\varepsilon$ tende a zero, também tende a zero.\n",
    "Pode ser mais rápido, mais devagar, pouco importa: ela tende a zero.\n",
    "Este é o caso de uma função $o(1)$: ao dividir pela função constante igual a um, ela tende a zero!"
   ]
  },
  {
   "cell_type": "markdown",
   "metadata": {},
   "source": [
    "## Complexidade, crescimento: análise quando $n \\to \\infty$.\n",
    "\n",
    "Este caso é totalmente análogo ao anterior.\n",
    "Definimos $f = o(g)$ quando $n \\to \\infty$ (ou qualquer outra variável, mas no curso será mais comum usar $n$!) se o limite do quociente é zero; e $f = O(g)$ quando o quociente é limitado."
   ]
  },
  {
   "cell_type": "markdown",
   "metadata": {},
   "source": [
    "## A \"família padrão\"\n",
    "\n",
    "A grande vantagem da notação que introduzimos é que ela permite entender quem são os termos dominantes, e explicitá-los.\n",
    "Mais ainda, se porventura necessitamos de mais precisão (intermediária) ao fazer cálculos,\n",
    "podemos usar um termo de \"erro\" (que vai num $O$ ou num $o$) apropriado.\n",
    "\n",
    "Para isso, é bastante comum termos em mãos uma \"família\" de funções que sejam simples de analisar e úteis para comparar.\n",
    "A dita \"família padrão\" é, respectivamente:\n",
    "\n",
    "- Para $n \\to \\infty$: $f _ {A,k,\\alpha}(n) = A^n n^k (\\log n)^\\alpha$.\n",
    "- Para $\\varepsilon \\to 0$: $f _ {k,\\alpha} (\\varepsilon) = \\varepsilon^k (\\log \\varepsilon)^\\alpha$."
   ]
  },
  {
   "cell_type": "markdown",
   "metadata": {},
   "source": [
    "### Exercício resolvido em sala: refazer o método de Newton usando $o(\\varepsilon)$ e $O(\\varepsilon)$.\n",
    "\n",
    "Objetivo: manipular $O$ e $o$ algébricamente.\n",
    "Regras:\n",
    "\n",
    "- Adição\n",
    "- Produto\n",
    "- Quociente\n",
    "- Absorção"
   ]
  },
  {
   "cell_type": "markdown",
   "metadata": {},
   "source": [
    "# Complexidade computacional\n",
    "\n",
    "Uma noção simples (mas, para nós, suficiente) de complexidade computacional é:\n",
    "$$ \\text{O tempo que o programa leva, em função dos valores de entrada.} $$\n",
    "Assim, a complexidade de um programa é uma função, e muitas vezes vamos usar a família de $O_n$ para classificá-lo.\n",
    "Isso porque a maior parte das vezes vamos encarar nossas funções como tendo apenas um parâmetro, $n$.\n",
    "\n",
    "## Exemplo: o fatorial"
   ]
  },
  {
   "cell_type": "code",
   "execution_count": 1,
   "metadata": {
    "collapsed": false
   },
   "outputs": [],
   "source": [
    "def fatorial(n):\n",
    "    assert (isinstance(n, int))\n",
    "    assert (n >= 0)\n",
    "    \n",
    "    p = 1\n",
    "    while(n > 1):\n",
    "        p *= n\n",
    "        n -= 1\n",
    "\n",
    "    return p"
   ]
  },
  {
   "cell_type": "markdown",
   "metadata": {},
   "source": [
    "Vejamos quanto tempo leva para calcular alguns fatoriais.\n",
    "Para isso, utilisamos o módulo `timeit`."
   ]
  },
  {
   "cell_type": "code",
   "execution_count": 2,
   "metadata": {
    "collapsed": false
   },
   "outputs": [],
   "source": [
    "import timeit"
   ]
  },
  {
   "cell_type": "code",
   "execution_count": 3,
   "metadata": {
    "collapsed": false
   },
   "outputs": [
    {
     "name": "stdout",
     "output_type": "stream",
     "text": [
      "The slowest run took 5.74 times longer than the fastest. This could mean that an intermediate result is being cached \n",
      "1000000 loops, best of 3: 1.05 µs per loop\n",
      "100000 loops, best of 3: 11.5 µs per loop\n",
      "1000 loops, best of 3: 334 µs per loop\n",
      "10 loops, best of 3: 26.1 ms per loop\n"
     ]
    }
   ],
   "source": [
    "# No ipython, temos o %timeit, um \"comando mágico\":\n",
    "%timeit(fatorial(10))\n",
    "%timeit(fatorial(100))\n",
    "%timeit(fatorial(1000))\n",
    "%timeit(fatorial(10000))"
   ]
  },
  {
   "cell_type": "code",
   "execution_count": 4,
   "metadata": {
    "collapsed": false
   },
   "outputs": [
    {
     "data": {
      "text/plain": [
       "0.03486917191185057"
      ]
     },
     "execution_count": 4,
     "metadata": {},
     "output_type": "execute_result"
    }
   ],
   "source": [
    "# Senão, podemos usar o comando Python \"puro\"\n",
    "timeit.timeit(number=100, setup='from __main__ import fatorial', stmt='x = fatorial(1000)')"
   ]
  },
  {
   "cell_type": "markdown",
   "metadata": {},
   "source": [
    "## Dois códigos, duas performances\n",
    "\n",
    "A complexidade é **sempre** associada a um programa.\n",
    "Assim, podemos comparar as performances dos dois programas abaixo, que calculam números binomiais:"
   ]
  },
  {
   "cell_type": "code",
   "execution_count": 5,
   "metadata": {
    "collapsed": false
   },
   "outputs": [],
   "source": [
    "def binom(n,k):\n",
    "    assert(isinstance(n,int) and isinstance(k,int))\n",
    "    assert(0 <= n and 0 <= k and k <= n)\n",
    "    \n",
    "    i = 0\n",
    "    p = 1\n",
    "    while(i < k):\n",
    "        p = (p * (n-i))/(i+1)\n",
    "        i += 1\n",
    "    return p"
   ]
  },
  {
   "cell_type": "code",
   "execution_count": 10,
   "metadata": {
    "collapsed": false
   },
   "outputs": [],
   "source": [
    "def slow_binom(n,k):\n",
    "    assert(isinstance(n,int) and isinstance(k,int))\n",
    "    assert(0 <= n and 0 <= k and k <= n)\n",
    "    \n",
    "    return fatorial(n)//fatorial(k) // fatorial(n-k)"
   ]
  },
  {
   "cell_type": "code",
   "execution_count": 11,
   "metadata": {
    "collapsed": false
   },
   "outputs": [
    {
     "name": "stdout",
     "output_type": "stream",
     "text": [
      "20 escolhe 10\n",
      "100000 loops, best of 3: 2.58 µs per loop\n",
      "100000 loops, best of 3: 4.76 µs per loop\n",
      "200 escolhe 10\n",
      "100000 loops, best of 3: 2.54 µs per loop\n",
      "10000 loops, best of 3: 53.7 µs per loop\n",
      "200 escolhe 100\n",
      "10000 loops, best of 3: 21.4 µs per loop\n",
      "10000 loops, best of 3: 52.5 µs per loop\n"
     ]
    }
   ],
   "source": [
    "print(\"20 escolhe 10\")\n",
    "%timeit(binom(20,10))\n",
    "%timeit(slow_binom(20,10))\n",
    "\n",
    "print(\"200 escolhe 10\")\n",
    "%timeit(binom(200,10))\n",
    "%timeit(slow_binom(200,10))\n",
    "\n",
    "print(\"200 escolhe 100\")\n",
    "%timeit(binom(200,100))\n",
    "%timeit(slow_binom(200,100))"
   ]
  },
  {
   "cell_type": "code",
   "execution_count": 12,
   "metadata": {
    "collapsed": false
   },
   "outputs": [
    {
     "name": "stdout",
     "output_type": "stream",
     "text": [
      "Rápida\n",
      "The slowest run took 4.93 times longer than the fastest. This could mean that an intermediate result is being cached \n",
      "100000 loops, best of 3: 2.54 µs per loop\n",
      "100000 loops, best of 3: 2.62 µs per loop\n",
      "100000 loops, best of 3: 2.82 µs per loop\n",
      "100000 loops, best of 3: 2.73 µs per loop\n",
      "\n",
      "Devagar\n",
      "100000 loops, best of 3: 4.84 µs per loop\n",
      "10000 loops, best of 3: 54 µs per loop\n",
      "100 loops, best of 3: 2.25 ms per loop\n",
      "1 loops, best of 3: 212 ms per loop\n"
     ]
    }
   ],
   "source": [
    "print(\"Rápida\")\n",
    "%timeit(binom(20,10))\n",
    "%timeit(binom(200,10))\n",
    "%timeit(binom(2000,10))\n",
    "%timeit(binom(20000,10))\n",
    "\n",
    "print(\"\\nDevagar\")\n",
    "%timeit(slow_binom(20,10))\n",
    "%timeit(slow_binom(200,10))\n",
    "%timeit(slow_binom(2000,10))\n",
    "%timeit(slow_binom(20000,10))"
   ]
  },
  {
   "cell_type": "markdown",
   "metadata": {},
   "source": [
    "### Exercício\n",
    "\n",
    "Faça um gráfico da complexidade deste programa.\n",
    "Para isso, use a função `timeit` para produzir os valores de tempo.\n",
    "\n",
    "- Separe em duas partes, para evitar repetir várias vezes cálculos demorados:\n",
    "    - uma célula que calcula os tempos para vários valores de $n$\n",
    "    - uma outra para fazer o(s) gráfico(s)\n",
    "- Preste atenção na escala!"
   ]
  },
  {
   "cell_type": "code",
   "execution_count": 13,
   "metadata": {
    "collapsed": false
   },
   "outputs": [
    {
     "name": "stdout",
     "output_type": "stream",
     "text": [
      "Populating the interactive namespace from numpy and matplotlib\n"
     ]
    }
   ],
   "source": [
    "%pylab inline"
   ]
  },
  {
   "cell_type": "code",
   "execution_count": 17,
   "metadata": {
    "collapsed": false
   },
   "outputs": [
    {
     "data": {
      "image/png": "[encoded data removed]",
      "text/plain": [
       "<matplotlib.figure.Figure at 0x7f44632f3cf8>"
      ]
     },
     "metadata": {},
     "output_type": "display_data"
    }
   ],
   "source": [
    "loglog(xs , tempos, '-o');\n",
    "loglog(xs_large, tempos_large, '-og');"
   ]
  }
 ],
 "metadata": {
  "kernelspec": {
   "display_name": "Python 3",
   "language": "python",
   "name": "python3"
  },
  "language_info": {
   "codemirror_mode": {
    "name": "ipython",
    "version": 3
   },
   "file_extension": ".py",
   "mimetype": "text/x-python",
   "name": "python",
   "nbconvert_exporter": "python",
   "pygments_lexer": "ipython3",
   "version": "3.5.2"
  }
 },
 "nbformat": 4,
 "nbformat_minor": 0
}
