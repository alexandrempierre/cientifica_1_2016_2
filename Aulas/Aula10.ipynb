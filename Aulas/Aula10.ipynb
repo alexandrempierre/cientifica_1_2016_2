{
 "cells": [
  {
   "cell_type": "markdown",
   "metadata": {},
   "source": [
    "Plano de hoje\n",
    "-------------\n",
    "\n",
    "1. Ambiente de programação\n",
    "2. Usando o computador para calcular    \n",
    "3. Usando o computador para desenhar\n",
    "4. Usando o computador para integrar: quadraturas\n",
    "    1. **Fórmula do ponto médio e dos trapézios (Seções 4.3.1 e 4.3.2)**"
   ]
  },
  {
   "cell_type": "markdown",
   "metadata": {},
   "source": [
    "# Integrais\n",
    "\n",
    "A derivada de uma função (conhecida \"explicitamente\") sempre pode ser obtida aplicando-se as diversas regras de derivação.\n",
    "Assim, até um computador pode calcular _algebricamente_ a derivada de expressões explícitas _arbitrariamente complexas_, como\n",
    "$$f(x) = \\exp(x^3 - \\log^2(x)) + \\frac{\\sin(\\tan(1-x))}{\\cos(\\cos(x) - 2) + 1}.$$\n",
    "\n",
    "Mas para integrais não é tão simples obter expressões analíticas explícitas.\n",
    "De fato, desde [um teorema de Liouville de 1835][1],\n",
    "sabemos que existem funções cuja integral não pode ser expressa em \"termos simples\".\n",
    "Por exemplo $f(x) = \\exp(-x^2)$ é bastante \"simples\" em sua expressão, mas não tem uma \"integral simples\".\n",
    "\n",
    "[1]: https://en.wikipedia.org/wiki/Liouville%27s_theorem_(differential_algebra)"
   ]
  },
  {
   "cell_type": "markdown",
   "metadata": {},
   "source": [
    "Portanto, possuir métodos para calcular derivadas numericamente é ainda mais importante.\n",
    "E, felizmente, há diversos métodos, com bastante precisão."
   ]
  },
  {
   "cell_type": "markdown",
   "metadata": {},
   "source": [
    "# Integrais = somas de Riemann\n",
    "\n",
    "Vamos, aqui, nos concentrar no caso mais simples, mas também mais importante,\n",
    "do cálculo de uma integral _definida_ de uma função contínua: $$I = \\int_a^b f(x) \\, dx. $$\n",
    "\n",
    "Uma tal integral é o limite das _somas de Riemann_: $\\int f = \\lim_{n\\to\\infty} S_n$, onde\n",
    "$$S_n = \\sum _ {k = 0}^{n-1} f(x_k) \\cdot (d_k - c_k)$$\n",
    "onde $x_k$ será um ponto do intervalo $J_k = [c_k, d_k]$.\n",
    "Não apenas devemos ter um número cada vez maior de intervalos,\n",
    "mas o tamanho deles também deve diminuir:\n",
    "só garantimos que o limite existe quando o _maior comprimento_ dos intervalos $J_k$ tender a zero.\n",
    "\n",
    "Assim como fizemos para a derivada, onde \"paramos\" o limite antes de obter $h = 0$,\n",
    "vamos também, para a integral, calcular apenas $S_n$ para um $n$ suficientemente grande.\n",
    "E, também como fizemos para a derivada, vamos usar $h$ como variável principal.\n",
    "Aqui, $h$ será este \"maior comprimento\"."
   ]
  },
  {
   "cell_type": "markdown",
   "metadata": {},
   "source": [
    "## Uma fórmula de Cauchy\n",
    "\n",
    "Resta, então, ter um critério para escolher os intervalos $J_k$ e os pontos $x_k \\in J_k$.\n",
    "O mais natural para os $J_k$ é tomar todos eles \"iguais\", ou seja:\n",
    "$$ c_k = a + kh \\quad \\text{e}\\quad d_k = c_k + h, \\qquad \\text{onde } h = \\frac{b-a}{n}.$$\n",
    "\n",
    "Já para os $x_k$, o primeiro critério (historicamente) foi dado por Cauchy: $x_k = c_k$.\n",
    "(Riemann mostrou que não precisávamos de _nenhuma_ regra para os $x_k$:\n",
    "conquanto os intervalos diminuíssem e a função fosse contínua,\n",
    "as somas $S_n$ convergiriam para a sua integral.\n",
    "Mas isso não nos interessa aqui: **precisamos** dar uma regra para o computador poder calcular!)"
   ]
  },
  {
   "cell_type": "markdown",
   "metadata": {},
   "source": [
    "### Exercício:\n",
    "Implemente a soma de Cauchy."
   ]
  },
  {
   "cell_type": "code",
   "execution_count": 1,
   "metadata": {
    "collapsed": false
   },
   "outputs": [
    {
     "name": "stdout",
     "output_type": "stream",
     "text": [
      "Populating the interactive namespace from numpy and matplotlib\n"
     ]
    }
   ],
   "source": [
    "%pylab inline"
   ]
  },
  {
   "cell_type": "code",
   "execution_count": 2,
   "metadata": {
    "collapsed": false
   },
   "outputs": [],
   "source": [
    "def Cauchy_n(f,a,b,n=100):\n",
    "    h = (b-a)/n\n",
    "    Sn = sum([f(a+k*h)*h for k in arange(0,n)])\n",
    "    return Sn"
   ]
  },
  {
   "cell_type": "markdown",
   "metadata": {},
   "source": [
    "# Análise de erro\n",
    "\n",
    "O reflexo básico de toda esta seção será analisar como o erro $S_n - I$ tende a zero quando $n \\to \\infty$,\n",
    "ou, o que é o mesmo, quando $h \\to 0$.\n",
    "\n",
    "## Decomposição\n",
    "\n",
    "A primeira observação quanto ao erro é que este pode ser decomposto em uma _soma_ de $n$ erros diferentes.\n",
    "Isso porque, da aditividade da integral, temos:\n",
    "$$\\int_a^b f(x) \\, dx = \\sum _ {k=0}^{n-1} \\left( \\int _ {c_k}^{d_k} f(x) \\, dx \\right)\n",
    "                      = \\sum _ {k=0}^{n-1} I _ {n,k}$$\n",
    "onde, introduzimos a notação $I _ {n,k}$ para as integrais em cada intervalo.\n",
    "Isso dá uma decomposição de $I$ análoga à fórmula da soma de Cauchy, $S_n = \\sum_{k=0}^{n-1} S_{n,k}$.\n",
    "\n",
    "Assim, o _erro_ da soma de Cauchy será:\n",
    "$$S_n - I = \\sum_k \\big( S _ {n,k} - I _ {n,k} \\big) = \\sum_k e _ {n,k}. $$\n",
    "Obviamente, alguns erros podem ocorrer por excesso, e outros por falta,\n",
    "mas devemos nos previnir - matematicamente - para a pior conspiração possível."
   ]
  },
  {
   "cell_type": "markdown",
   "metadata": {},
   "source": [
    "## Erro de um termo: análise dos $e_{n,k}$.\n",
    "\n",
    "Como $f$ é contínua, o valor de $f(x)$ não varia muito dentro de um intervalo $J_k$.\n",
    "Mais ainda, conforme este intervalo diminui, menor será a variação de $f(x)$.\n",
    "A diferença entre o mínimo e o máximo de $f$ num intervalo $[x,y]$ é chamada de _oscilação_ de $f$ no intervalo,\n",
    "muitas vezes denotada $\\omega(f;x,y)$.\n",
    "\n",
    "Lembre, além disso, que a integral é uma \"área\", e portanto conforme $h$ diminui,\n",
    "também diminui o intervalo de integração, e com ele o valor da integral $I _ {n,k}$.\n",
    "Portanto, o erro diminui por duas razões quando $h \\to 0$: primeiramente,\n",
    "porque a função oscila menos num intervalo menor,\n",
    "segundo, porque a própria integral diminui de magnitude.\n",
    "\n",
    "Como já estamos treinados para pensar em erros relativos,\n",
    "percebemos que a diminuição importante do erro na integral\n",
    "vem da menor oscilação, e não da \"simples\" redução do intervalo de integração.\n",
    "Se a oscilação não diminuir, teremos um erro relativo essencialmente igual."
   ]
  },
  {
   "cell_type": "markdown",
   "metadata": {},
   "source": [
    "### Uma mudança de variáveis\n",
    "\n",
    "Vamos aplicar uma mudança de variáveis na integral $I_{n,k}$\n",
    "para que o intervalo de integração não dependa mais de $h$.\n",
    "Isso nos dá uma fórmula mais simples para os erros $e_{n,k}$.\n",
    "\n",
    "Primeiro, a integral:\n",
    "$$I _ {n,k} = \\int _ {c_k}^{d_k = c_k + h} f(x)\\,dx\n",
    "            = \\int_0^1 f \\big( c_k + th \\big) \\cdot h \\, dt\n",
    "            = h \\int_0^1 f \\big( c_k + th \\big)  \\, dt.$$\n",
    "E agora, o erro:\n",
    "$$e _ {n,k} = f(x_k) \\cdot h - I _ {n,k} = h \\int_0^1 \\big( f(x_k) - f(c_k + th) \\big) \\, dt.$$\n",
    "\n",
    "Podemos, daí, retirar uma estimativa do erro:\n",
    "$$\n",
    "\\lvert e _ {n,k} \\rvert\n",
    "   \\leq h \\int_0^1 \\bigl| f(x_k) - f(c_k + th) \\bigr| \\, dt\n",
    "   \\leq h \\int_0^1 \\omega(f; c_k, d_k) \\, dt\n",
    "   =    h \\cdot \\omega(f; c_k, d_k).\n",
    "$$"
   ]
  },
  {
   "cell_type": "markdown",
   "metadata": {},
   "source": [
    "## O erro total\n",
    "\n",
    "Como vimos anteriormente, o erro é a soma dos erros de cada termo,\n",
    "e poderia ocorrer que todos eles estivessem na mesma direção.\n",
    "Por isso, no pior dos casos, temos que\n",
    "$$\n",
    "\\left|S_n - I\\right|\n",
    "   \\leq \\sum _ {k=0}^{n-1} e _ {n,k}\n",
    "   \\leq h \\sum _ {k=0}^{n-1} \\omega(f; c_k, d_k).\n",
    "$$\n",
    "\n",
    "Como $f$ é contínua, quando $h \\to 0$, cada um dos $\\omega(f; c_k, d_k)$ diminui.\n",
    "Iremos, na verdade, estimar ainda mais grosseiramente:\n",
    "vamos usar $\\omega(f;h)$,\n",
    "que é o máximo da variação de $f$ sobre todos os intervalos de comprimento $h$ dentro de $[a,b]$.\n",
    "A continuidade _uniforme_ de $f$ no intervalo $[a,b]$ inteiro garante que $\\omega(f;h)$\n",
    "também tende a zero quando $h\\to0$.\n",
    "\n",
    "Assim, temos, para nossa estimativa:\n",
    "$$\\left|S_n - I\\right| \\leq h \\sum _ {k=0}^{n-1} \\omega(f;h) = nh \\, \\omega(f;h).$$\n",
    "Ora, da definição de $h$ temos que $b - a = nh$, logo:\n",
    "$$E_n \\leq (b-a) \\cdot \\omega\\left(f; \\frac{b-a}{n} \\right). $$\n",
    "\n",
    "Nesta fórmula, vemos bem que a importância de $n\\to \\infty$ (ou, equivalentemente, $h \\to 0$)\n",
    "reside na redução da oscilação da função, nos pequenos intervalos de discretização.\n",
    "Além disso, como só usamos a _continuidade_ de $f$,\n",
    "esta estimativa vale qualquer que seja o método de escolha dos pontos $x_k$."
   ]
  },
  {
   "cell_type": "markdown",
   "metadata": {},
   "source": [
    "### Exercício: erros de integração\n",
    "\n",
    "Faça um gráfico do erro de integração de $f(x) = \\sin(x)$ no intervalo $[0,\\pi]$, em função do número de pontos utilizados.\n",
    "Como você faria para estimar o erro ao integrar $\\exp(-x^2)$ no intervalo $[0,1]$?"
   ]
  },
  {
   "cell_type": "code",
   "execution_count": 10,
   "metadata": {
    "collapsed": false
   },
   "outputs": [],
   "source": [
    "def f(x): return sin(x)\n",
    "def g(x): return exp(-x**2)\n",
    "\n",
    "def oscilacao(f,a,b,n=100):\n",
    "    h = (b-a)/n\n",
    "    return sum([abs(f(a+(k+1)*h)-f(a+k*h)) for k in arange(0,n)])\n",
    "\n",
    "erro = lambda f,a,b,n=100 : oscilacao(f,a,b,n)*(b-a)/n"
   ]
  },
  {
   "cell_type": "code",
   "execution_count": 4,
   "metadata": {
    "collapsed": false
   },
   "outputs": [
    {
     "name": "stderr",
     "output_type": "stream",
     "text": [
      "/usr/lib/python3.5/site-packages/matplotlib/axes/_axes.py:531: UserWarning: No labelled objects found. Use label='...' kwarg on individual plots.\n",
      "  warnings.warn(\"No labelled objects found. \"\n"
     ]
    },
    {
     "data": {
      "image/png": "[encoded data removed]",
      "text/plain": [
       "<matplotlib.figure.Figure at 0x7f72c5cc1898>"
      ]
     },
     "metadata": {},
     "output_type": "display_data"
    }
   ],
   "source": [
    "# E nesta faça os gráficos\n",
    "xlabel('Número de passos')\n",
    "ylabel('Erro')\n",
    "title('Método de Cauchy para a integral')\n",
    "legend(loc=0);"
   ]
  },
  {
   "cell_type": "markdown",
   "metadata": {},
   "source": [
    "# Diminuindo o erro: a fórmula do valor médio e a fórmula dos trapézios\n",
    "\n",
    "Vimos que o erro ao considerar somas de Riemann (na verdade, deveríamos chamar de \"somas de Cauchy\" estas que usam o ponto inicial)\n",
    "tende a zero porque a oscilação da função diminui conforme o tamanho do intervalo considerado diminui.\n",
    "Será que é possível (analogamente às diferenças centrais) obter fórmulas que convirjam mais rápido?\n",
    "\n",
    "Em geral (ou seja, para funções apenas contínuas) isso não é possível,\n",
    "pois a oscilação $\\omega$ é o único mecanismo de controle que possuímos.\n",
    "Mas, seguindo o princípio geral do curso, \"mais derivadas = melhor convergência\",\n",
    "então vamos procurar métodos que nos dêem erros menores se supusermos que a função seja derivável.\n",
    "\n",
    "Começamos com funções uma vez deriváveis."
   ]
  },
  {
   "cell_type": "markdown",
   "metadata": {},
   "source": [
    "## Erro, com derivadas\n",
    "\n",
    "A primeira coisa a ser feita é estimar o erro da fórmula que já temos, supondo que $f$ seja derivável.\n",
    "Começamos com as somas de Cauchy, onde $x_k = c_k$:\n",
    "$$\\begin{align}\n",
    "e _ {n,k} & = h \\cdot \\left| f(c_k) - \\int_0^1 f(c_k + th) \\, dt \\right|\n",
    "     = h \\cdot \\left| \\int_0^1 \\big[ f(c_k) - f(c_k + th) \\big] \\, dt \\right| \\\\\n",
    "   & = h \\cdot \\left| \\int_0^1 f'(\\xi_t)(-th) \\, dt \\right|\n",
    "     = h^2 \\cdot \\left| \\int_0^1 f'(\\xi_t) t \\, dt \\right| \\\\\n",
    "   & \\leq h^2 \\cdot \\int_0^1 \\max \\bigl| f'(\\xi) \\bigr| t \\, dt\n",
    "     =    h^2 \\cdot \\max \\bigl| f'(\\xi) \\bigr| \\cdot \\int_0^1 t \\, dt\n",
    "     =    h^2 \\cdot \\max \\bigl| f'(\\xi) \\bigr| \\cdot \\frac{1}{2}\n",
    "\\end{align}$$\n",
    "onde usamos a fórmula do valor médio para derivada: $f(y) - f(x) = f'(\\xi)(y - x)$ para algum $\\xi \\in (x,y)$.\n",
    "\n",
    "Ao somar todos os $e _ {n,k}$, teremos então que o erro $E_n$ será, no máximo,\n",
    "$$\n",
    "\\def\\maxhalf{\\frac{\\max \\bigl| f'(\\xi) \\bigr|}{2}}\n",
    "E_n\n",
    "  \\leq \\sum _ {k=0}^{n-1} e _ {n,k}\n",
    "  \\leq n \\cdot h^2 \\maxhalf\n",
    "  \\leq h \\cdot (b - a) \\maxhalf.\n",
    "$$\n",
    "Assim, o erro da \"fórmula de Cauchy\" decresce linearmente com $h$.\n",
    "\n",
    "Obs: podemos obter esta estimativa da estimativa anterior e a seguinte relação:\n",
    "a oscilação de $f$ num intervalo é sempre menor do que o máximo do valor absoluto da derivada $f'$\n",
    "neste mesmo intervalo, vezes o comprimento do intervalo."
   ]
  },
  {
   "cell_type": "markdown",
   "metadata": {},
   "source": [
    "## Como diminuir o erro?\n",
    "\n",
    "Para reduzir o erro, podemos apostar em duas vertentes.\n",
    "Ou fazemos os erros $e _ {n,k}$ se compensarem, ou reduzimos os $e _ {n,k}$ diretamente.\n",
    "A primeira estratégia depende muito da função considerada, então vamos tentar arrumar um outro método.\n",
    "Em suma, gostaríamos de reduzir o erro\n",
    "$$\\big(\\text{Estimativa de $f$ no intervalo $[c_k, d_k]$}\\big) - \\int_0^1 f(c_k + th) \\, dt.$$\n",
    "\n",
    "Inspirados pela fórmula das diferenças centrais, podemos pensar que, se calcularmos $f$ no meio do intervalo,\n",
    "em vez de no bordo, o erro pode ser menor.\n",
    "Ou seja, usaremos $f(\\frac{c_k + d_k}{2})$ em vez de $f(c_k)$ como estimativa de $f$.\n",
    "Assim, em vez de calcularmos $S_n$, calcularemos\n",
    "$$M_n = \\sum_{k=0}^{n-1} f \\left(\\frac{c_k + d_k}{2} \\right) \\cdot h.$$\n",
    "Esta fórmula é conhecida como **fórmula do ponto médio**."
   ]
  },
  {
   "cell_type": "markdown",
   "metadata": {},
   "source": [
    "### Exercício:\n",
    "\n",
    "- Supondo que $f$ seja **duas** vezes diferenciável, estime o erro cometido pela fórmula do ponto médio. Aqui, para aproveitar a simetria ao máximo, introduza $m_k = \\frac{c_k + d_k}{2}$ e faça uma mudança de variáveis para o intervalo $[-1,1]$.\n",
    "- Implemente a fórmula do ponto médio.\n",
    "- Refaça os gráficos para as funções seno e gaussiana."
   ]
  },
  {
   "cell_type": "markdown",
   "metadata": {},
   "source": [
    "$$\\begin{align}\n",
    "e _ {n,k} & = \\left(\\frac{h}{2}\\int _ {-1}^1 f(m_k + th/2) \\, dt \\right)- h \\cdot f(m_k)\n",
    "      = \\frac{h}{2} \\left( \\int _ {-1}^1 f(m_k + th/2) - f(m_k) \\, dt \\right) \\\\\n",
    "    & = \\frac{h}{2} \\left( \\int _ {-1}^1 f'(m_k) \\frac{th}{2} + \\frac{f''(m_k)}{2} \\left(\\frac{th}{2}\\right)^2 + o(h^2) \\, dt \\right)\n",
    "      = \\left( \\frac{h}{2} \\right)^3 \\left( \\int _ {-1}^1 \\frac{f''(m_k)}{2} t^2 + o(1) \\, dt \\right) \\\\\n",
    "    & = \\left( \\frac{h}{2} \\right)^3 \\left( \\frac{f''(m_k)}{2} \\int _ {-1}^1 t^2 \\, dt + o(1) \\right) \\, dt\n",
    "      = \\left( \\frac{h}{2} \\right)^3 \\left( \\frac{f''(m_k)}{2} \\frac{2}{3} + o(1) \\right) \\\\\n",
    "\\text{Logo:} \\qquad \\\\\n",
    "E_n & = \\sum_k e _ {n,k} \\sim \\left( \\frac{h}{2} \\right)^3 \\left(\\frac{f'(b) - f'(a)}{2h} \\frac{2}{3} + o(1/h) \\right) \\\\\n",
    "    & = \\left( \\frac{h}{2} \\right)^2 \\frac{f'(b) - f'(a)}{6} + o(h^2)\n",
    "\\end{align}$$"
   ]
  },
  {
   "cell_type": "markdown",
   "metadata": {},
   "source": [
    "A simplificação da soma na última linha segue da própria fórmula do ponto médio para $f''$.\n",
    "Enfim, a estimativa de $\\sum_k o(1)$ segue de $n \\, o(1) = o(1/h)$ pois $nh = (b-a)$ está fixo."
   ]
  },
  {
   "cell_type": "markdown",
   "metadata": {},
   "source": [
    "Também é possível obter estimativas sem $o()$, usando o $\\max f''$:\n",
    "\n",
    "$$\\begin{align}\n",
    "\\lvert e _ {n,k} \\rvert\n",
    "   & \\leq \\left( \\frac{h}{2} \\right)^3 \\frac{\\max \\lvert f''(x) \\rvert}{2} \\frac{2}{3} \\\\\n",
    " E_n \\leq \\sum_k \\lvert e _ {n,k} \\rvert \\leq n \\, \\max \\lvert e _ {n,k} \\rvert\n",
    "   & \\leq \\frac{(b-a)}{2} \\left(\\frac{h}{2} \\right)^2 \\frac{\\max \\left| f''(x) \\right|}{2} \\frac{2}{3}.\n",
    "\\end{align}$$"
   ]
  },
  {
   "cell_type": "code",
   "execution_count": 5,
   "metadata": {
    "collapsed": false
   },
   "outputs": [],
   "source": [
    "def midpoint(f,a,b,n=100):\n",
    "    pass"
   ]
  },
  {
   "cell_type": "code",
   "execution_count": 6,
   "metadata": {
    "collapsed": false
   },
   "outputs": [],
   "source": [
    "# Gere as estimativas das integrais"
   ]
  },
  {
   "cell_type": "code",
   "execution_count": 7,
   "metadata": {
    "collapsed": false
   },
   "outputs": [
    {
     "name": "stderr",
     "output_type": "stream",
     "text": [
      "/usr/lib/python3.5/site-packages/matplotlib/axes/_axes.py:531: UserWarning: No labelled objects found. Use label='...' kwarg on individual plots.\n",
      "  warnings.warn(\"No labelled objects found. \"\n"
     ]
    },
    {
     "data": {
      "image/png": "[encoded data removed]",
      "text/plain": [
       "<matplotlib.figure.Figure at 0x7f72c5c757b8>"
      ]
     },
     "metadata": {},
     "output_type": "display_data"
    }
   ],
   "source": [
    "# E aqui faça os gráficos. Não se preocupe em obter as estimativas de erro.\n",
    "xlabel('Número de passos')\n",
    "ylabel('Erro')\n",
    "title('Método do ponto médio para a integral')\n",
    "legend(loc=0);"
   ]
  },
  {
   "cell_type": "markdown",
   "metadata": {},
   "source": [
    "## A regra do trapézio\n",
    "\n",
    "Outra idéia (também com cara de \"simetria\") para reduzir o erro é usar ambos pontos extremos em cada intervalo.\n",
    "A \"estimativa para $f$\" será a média de $f$ em cada um destes pontos, o que dá\n",
    "$$T_n\n",
    "  = \\sum _ {k=0}^{n-1} \\left(\\frac{f(c_k) + f(d_k)}{2}\\right) \\cdot h\n",
    "  = \\frac{f(a) + f(b)}{2} \\cdot h + \\sum _ {k=1}^{n-1} f(c_k) \\cdot h.$$"
   ]
  },
  {
   "cell_type": "markdown",
   "metadata": {},
   "source": [
    "### Estimativa de erro\n",
    "\n",
    "Vamos primeiro estimar $\\frac{f(c_k) + f(d_k)}{2}$.\n",
    "Expandindo em série, temos $\\displaystyle f(m_k) + \\frac{f''(m_k)}{2} \\frac{h^2}{4} + O(h^4)$."
   ]
  },
  {
   "cell_type": "markdown",
   "metadata": {},
   "source": [
    "Com isso, podemos calcular simplesmente o erro do método do trapézio.\n",
    "Como já calculamos o erro $I_{n,k} - h \\cdot f(m_k)$ no método do ponto médio,\n",
    "basta subtrair $\\displaystyle h \\cdot \\frac{f''(m_k)}{2} \\left(\\frac{h}{2}\\right)^2$\n",
    "do resultado lá obtido:\n",
    "$$\\begin{align}\n",
    "e _ {n,k} & = \\left( \\frac{h}{2} \\right)^3 \\left( \\frac{f''(m_k)}{2} \\frac{2}{3} + o(1) \\right)\n",
    "              - h \\cdot \\frac{f''(m_k)}{2} \\left(\\frac{h}{2}\\right)^2 \\\\\n",
    "          & = \\left( \\frac{h}{2} \\right)^3 \\left( \\frac{f''(m_k)}{2} \\frac{2}{3} + o(1) - 2 \\frac{f''(m_k)}{2} \\right) \\\\\n",
    "          & = \\left( \\frac{h}{2} \\right)^3 \\frac{f''(m_k)}{2} \\left( \\frac{-4}{3} \\right) + o(h^3) \\\\\n",
    "\\text{Assim, da mesma forma:} \\quad \\\\\n",
    "E_n       & = - \\left( \\frac{h}{2} \\right)^2 \\frac{f'(b) - f'(a)}{3} + o(h^2)\n",
    "\\end{align}$$"
   ]
  }
 ],
 "metadata": {
  "kernelspec": {
   "display_name": "Python 3",
   "language": "python",
   "name": "python3"
  },
  "language_info": {
   "codemirror_mode": {
    "name": "ipython",
    "version": 3
   },
   "file_extension": ".py",
   "mimetype": "text/x-python",
   "name": "python",
   "nbconvert_exporter": "python",
   "pygments_lexer": "ipython3",
   "version": "3.5.2"
  }
 },
 "nbformat": 4,
 "nbformat_minor": 0
}
