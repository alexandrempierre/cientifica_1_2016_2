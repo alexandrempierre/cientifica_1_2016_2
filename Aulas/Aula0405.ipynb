{
 "cells": [
  {
   "cell_type": "markdown",
   "metadata": {},
   "source": [
    "## Plano de hoje\n",
    "\n",
    "- Erros absolutos e relativos\n",
    "- Método de Newton"
   ]
  },
  {
   "cell_type": "markdown",
   "metadata": {},
   "source": [
    "# Erros, erros, erros!\n",
    "\n",
    "Em geral, é muito pouco comum que os métodos computacionais que nós vamos usar dêem uma resposta exata.\n",
    "Por exemplo, se queremos calcular $\\sqrt2$, o computador não poderá jamais dar todas as casas decimais deste número.\n",
    "Mais ainda, visto que o computador usa representação em base 2, também não será capaz de escrever $0.1$ exatamente!\n",
    "\n",
    "Mas (para problemas do mundo \"real\") isto não é um problema.\n",
    "Afinal, muitas vezes estes problemas vêem com dados sujeitos a erros de medida, e portanto não faz sentido achar uma resposta tão exata quando o problema original já é inexato.\n",
    "Assim, o mais importante é entender o quão longe da resposta estamos, e (quando possível) **garantir** que não estamos longe demais.\n",
    "\n",
    "Nesta primeira abordagem, vamos nos concentrar em achar um zero de uma função $f:\\mathbf{R}\\to \\mathbf{R}$.\n",
    "A intuição que desenvolveremos aqui servirá para os métodos da bisseção e de Newton (e também para resolver equações lineares $Ax = b$), e pode ser facilmente estendida para a análise de derivadas, integrais e outros problemas de que trataremos ao longo do curso."
   ]
  },
  {
   "cell_type": "markdown",
   "metadata": {},
   "source": [
    "## Intervalos\n",
    "\n",
    "Uma forma relativamente simples de garantir uma raiz de $f$ é dizer que _existe_ uma raiz de $f$ num certo intervalo $[a,b]$.\n",
    "Quanto menor o comprimento do intervalo, mais precisa será a resposta à questão \"_Exiba uma raiz de $f$_\".\n",
    "\n",
    "Observe que o método da bisseção já dá esta informação.\n",
    "Mais ainda, ele permite que, dado um intervalo, possamos \"melhorar\" cada vez mais a qualidade da resposta, calculando $f$ em mais alguns pontos."
   ]
  },
  {
   "cell_type": "markdown",
   "metadata": {},
   "source": [
    "## Erros\n",
    "\n",
    "Mas o mais comum não é garantir um intervalo, porque (muitas vezes) o método que usamos irá mais naturalmente fornecer um único valor $x$ que está perto da raiz \"de verdade\" $z$.\n",
    "\n",
    "Existem duas medidas naturais para o erro: absoluto e relativo."
   ]
  },
  {
   "cell_type": "markdown",
   "metadata": {},
   "source": [
    "## Erro absoluto\n",
    "\n",
    "O erro absoluto é definido como $\\lvert x - z\\rvert$, ou seja, o quanto a resposta do computador difere do valor \"real\"."
   ]
  },
  {
   "cell_type": "markdown",
   "metadata": {},
   "source": [
    "## Erro relativo\n",
    "\n",
    "O erro relativo é definido como $\\displaystyle \\left\\lvert \\frac{x - z}{z} \\right\\rvert$, ou seja, o quanto, _proporcionalmente_, a resposta do computador difere do valor \"real\"."
   ]
  },
  {
   "cell_type": "markdown",
   "metadata": {},
   "source": [
    "### Exercício\n",
    "\n",
    "Dê exemplos de situação onde\n",
    "\n",
    "- O erro relativo seja maior do que o erro absoluto.\n",
    "- O erro absoluto seja maior do que o erro relativo.\n",
    "- O erro absoluto seja igual ao erro relativo."
   ]
  },
  {
   "cell_type": "markdown",
   "metadata": {},
   "source": [
    "### Exercício\n",
    "\n",
    "Escreva uma função que, dados dois números, retorne o erro absoluto e o erro relativo."
   ]
  },
  {
   "cell_type": "code",
   "execution_count": 1,
   "metadata": {
    "collapsed": true
   },
   "outputs": [],
   "source": [
    "def erros(target, calculated):\n",
    "    abs_err = abs(target-calculated)\n",
    "    rel_err = abs( (target-calculated)/calculated )\n",
    "    \n",
    "    return abs_err, rel_err"
   ]
  },
  {
   "cell_type": "markdown",
   "metadata": {},
   "source": [
    "Esta função é simétrica? ($f(a,b) = f(b,a)$?)"
   ]
  },
  {
   "cell_type": "markdown",
   "metadata": {},
   "source": [
    "$f(a,b) = \\lvert a-b \\rvert, \\displaystyle \\left\\lvert \\frac{a-b}{b} \\right\\rvert$\n",
    "\n",
    "$f(b,a) = \\lvert b-a \\rvert, \\displaystyle \\left\\lvert \\frac{b-a}{a} \\right\\rvert$\n",
    "\n",
    "Se $f(a,b) = f(b,a)$, então $\\lvert a-b \\rvert = \\lvert b-a \\rvert$ e $\\displaystyle \\left\\lvert \\frac{a-b}{b} \\right\\rvert = \\left\\lvert \\frac{b-a}{a} \\right\\rvert$\n",
    "\n",
    "A primeira igualdade é verdadeira para quaisquer $a$ e $b$\n",
    "\n",
    "Da segunda decorre que:\n",
    "\n",
    "$\\displaystyle \\left\\lvert \\frac{1}{a} \\right\\rvert = \\left\\lvert \\frac{1}{b} \\right\\rvert$\n",
    "\n",
    "$\\lvert a \\rvert = \\lvert b \\rvert$\n",
    "\n",
    "A segunda igualdade é verdadeira só se $\\lvert a \\rvert = \\lvert b \\rvert$, então $f(a,b)$ não é simétrica."
   ]
  },
  {
   "cell_type": "markdown",
   "metadata": {},
   "source": [
    "# O método de Newton para calcular raízes\n",
    "\n",
    "O método da bisseção é bastante geral (funciona para qualquer função contínua!),\n",
    "e converge \"geométricamente rápido\": o erro na etapa $n+1$ será, aproximadamente,\n",
    "a metade do erro da etapa anterior.\n",
    "\n",
    "Para funções cuja derivada é conhecida, entretanto,\n",
    "o _método de Newton_ é uma alternativa muito poderosa,\n",
    "pois converge com maior velocidade.\n",
    "Além disso, ele dispensa conhecer dois pontos onde o sinal da função seja diferente.\n",
    "Vejamos como ele funciona."
   ]
  },
  {
   "cell_type": "markdown",
   "metadata": {},
   "source": [
    "## Idéia geométrica\n",
    "\n",
    "Dado um ponto $(x,f(x))$ no gráfico de $f$, se traçarmos a tangente,\n",
    "esta será uma boa aproximação da função \"perto\" de $x$.\n",
    "Assim, seguimos esta reta tangente até que ela encontre o eixo-$x$ no ponto $(z,0)$,\n",
    "esperando que esta interseção esteja próxima da verdadeira raiz,\n",
    "que é a interseção da _curva_ descrita por $f$ e o eixo-$x$.\n",
    "\n",
    "Em fórmulas, temos:\n",
    "$$ (z,0) \\in T = \\big\\{ (x, f(x)) + t (1, f'(x)) \\mid t \\in R \\big\\} $$\n",
    "para o ponto $(z,0)$ que está na reta tangente $T$ e também no eixo-$x$\n",
    "(pois sua coordenada $y = 0$).\n",
    "Resolvendo o sistema, encontramos\n",
    "$$ z = x - \\frac{f(x)}{f'(x)}. $$"
   ]
  },
  {
   "cell_type": "markdown",
   "metadata": {},
   "source": [
    "A presença de $f'(x)$ no denominador mostra que este método funciona **mal**\n",
    "quando está próximo de uma raiz de $f'$.\n",
    "Além disso, o método de Newton não fornece um \"intervalo de confiança\" como no caso da bisseção.\n",
    "\n",
    "Assim, é muito importante ter aqui um critério de convergência para poder parar as iterações.\n",
    "Em geral, este pode ser dado por três diferentes parâmetros:\n",
    "\n",
    "- O número de iterações feitas: se estamos calculando \"há muito tempo\", talvez o método esteja \"perdido\"\n",
    "- A distância de $f(x)$ para zero: talvez já tenhamos calculado algo suficientemente próximo de uma raiz,\n",
    "    se $\\lvert f(x)\\rvert << 1$\n",
    "- A distância de $x$ para um zero: se a diferença entre dois pontos sucessivos ($x$ e $z$ no nosso exemplo)\n",
    "    for pequena, então é _provável_ que estejamos perto de uma raiz."
   ]
  },
  {
   "cell_type": "markdown",
   "metadata": {},
   "source": [
    "## Impementação\n",
    "\n",
    "Para programar o método de Newton como uma função recursiva,\n",
    "podemos fazer um paralelo com o método da bisseção.\n",
    "No caso da bisseção, a cada etapa testávamos se a aproximação já estava suficientemente perto\n",
    "(por exemplo, se uma estimativa do erro absoluto fosse pequena),\n",
    "e caso contrário dividíamos o intervalo por 2 para continuar buscando a raiz.\n",
    "\n",
    "Aqui, também vamos estimar o erro (só que desta vez não há mais _garantia_ de que o erro será menor do que a estimativa),\n",
    "e, se este ainda for \"grande\", vamos produzir um novo ponto (usando a tangente) para continuar buscando uma raiz."
   ]
  },
  {
   "cell_type": "code",
   "execution_count": 2,
   "metadata": {
    "collapsed": true
   },
   "outputs": [],
   "source": [
    "def newton(f,df,x, prec=1e-8, maxiter=100):\n",
    "    if maxiter == 0:\n",
    "        return None\n",
    "    dx = f(x)/df(x)\n",
    "    newx = x - dx\n",
    "    \n",
    "    if abs(dx) < prec:\n",
    "        return newx\n",
    "    else:\n",
    "        return newton(f,df,newx, prec,maxiter-1)"
   ]
  },
  {
   "cell_type": "markdown",
   "metadata": {},
   "source": [
    "## Usando `print` e `format`\n",
    "\n",
    "Vamos escrever uma função para nos ajudar a fazer os testes do método de Newton, e comparar com a bisseção.\n",
    "Como desejamos comparar os valores retornados por ambos os métodos,\n",
    "é importante que estes sejam fáceis de ler na tela.\n",
    "\n",
    "O mecanismo do `Out[]` do IPython (onde bastaria que retornássemos alguns valores) é bastante útil,\n",
    "mas obriga a lembrar todo o contexto.\n",
    "Com `print`, podemos incluir informações textuais a mais,\n",
    "além de formatar os valores de maneira uniforme (usando `.format()` ou `%`),\n",
    "o que ajuda a comparação.\n",
    "\n",
    "- Exemplos: de usos [mais comuns][mkaz], e os [oficiais do Python][py-ex]\n",
    "- Referência: [a documentação do Python][doc]\n",
    "\n",
    "[py-ex]: https://docs.python.org/3/library/string.html#format-examples\n",
    "[doc]:   https://docs.python.org/3/library/string.html#format-string-syntax\n",
    "[mkaz]:  https://mkaz.github.io/2012/10/10/python-string-format/"
   ]
  },
  {
   "cell_type": "code",
   "execution_count": 3,
   "metadata": {
    "collapsed": true
   },
   "outputs": [],
   "source": [
    "def testar(f,df,a,b):\n",
    "    xb = bissecao(f,a,b, prec=1e-10)\n",
    "    xn = newton(f,df,a,  prec=1e-10)\n",
    "    print('''\\\n",
    "Bisseção: z ~= {: 18.10e} (f(z) = {: .8f})\n",
    "Newton  : z ~= {: 18.10e} (f(z) = {: .8f})'''.format(xb,f(xb), xn,f(xn)))"
   ]
  },
  {
   "cell_type": "code",
   "execution_count": 4,
   "metadata": {
    "collapsed": true
   },
   "outputs": [],
   "source": [
    "def bissecao(f,a,b,prec):\n",
    "    \"\"\" Método da bisseção para uma função f no intervalo [a,b]. \"\"\"\n",
    "    m = (a+b)/2\n",
    "    # Se já há precisão suficiente, retornamos o ponto médio do intervalo\n",
    "    if abs(b - a) < prec/2: return m\n",
    "    # Se f(m) == 0, achamos uma raiz exata!\n",
    "    if f(m) == 0: return m\n",
    "\n",
    "    # Senão, vamos por recorrência\n",
    "    if f(m)*f(a) < 0: return bissecao(f,a,m,prec)\n",
    "    else: return bissecao(f,m,b,prec)"
   ]
  },
  {
   "cell_type": "code",
   "execution_count": 5,
   "metadata": {
    "collapsed": false
   },
   "outputs": [
    {
     "name": "stdout",
     "output_type": "stream",
     "text": [
      "Populating the interactive namespace from numpy and matplotlib\n"
     ]
    }
   ],
   "source": [
    "%pylab inline"
   ]
  },
  {
   "cell_type": "code",
   "execution_count": 6,
   "metadata": {
    "collapsed": false
   },
   "outputs": [
    {
     "name": "stdout",
     "output_type": "stream",
     "text": [
      "Bisseção: z ~=   3.1415926536e+00 (f(z) = -0.00000000)\n",
      "Newton  : z ~=   0.0000000000e+00 (f(z) =  0.00000000)\n"
     ]
    }
   ],
   "source": [
    "testar(sin,cos,1,4)"
   ]
  },
  {
   "cell_type": "code",
   "execution_count": 7,
   "metadata": {
    "collapsed": true
   },
   "outputs": [],
   "source": [
    "def f(x): return x**3 - 2\n",
    "def df(x): return 3*x**2"
   ]
  },
  {
   "cell_type": "code",
   "execution_count": 8,
   "metadata": {
    "collapsed": false
   },
   "outputs": [
    {
     "name": "stdout",
     "output_type": "stream",
     "text": [
      "Bisseção: z ~=   1.2599210499e+00 (f(z) = -0.00000000)\n",
      "Newton  : z ~=   1.2599210499e+00 (f(z) =  0.00000000)\n"
     ]
    }
   ],
   "source": [
    "testar(f,df,2.5,0)"
   ]
  },
  {
   "cell_type": "markdown",
   "metadata": {},
   "source": [
    "### Exercício\n",
    "\n",
    "Modifique os métodos da bisseção e de Newton para que eles retornem também o número total de vezes que a função \"entrou\" na recursão, e use essa informação numa nova função `testar`."
   ]
  },
  {
   "cell_type": "code",
   "execution_count": 9,
   "metadata": {
    "collapsed": true
   },
   "outputs": [],
   "source": [
    "def newton(f,df,x, prec=1e-8, maxiter=100):\n",
    "    if maxiter == 0:\n",
    "        return None\n",
    "    dx = f(x)/df(x)\n",
    "    newx = x - dx\n",
    "    \n",
    "    if abs(dx) < prec:\n",
    "        return newx\n",
    "    else:\n",
    "        return newton(f,df,newx, prec,maxiter-1)"
   ]
  },
  {
   "cell_type": "code",
   "execution_count": 10,
   "metadata": {
    "collapsed": true
   },
   "outputs": [],
   "source": [
    "def bissecao(f,a,b,prec):\n",
    "    \"\"\" Método da bisseção para uma função f no intervalo [a,b]. \"\"\"\n",
    "    m = (a+b)/2\n",
    "    # Se já há precisão suficiente, retornamos o ponto médio do intervalo\n",
    "    if abs(b - a) < prec/2: return m\n",
    "    # Se f(m) == 0, achamos uma raiz exata!\n",
    "    if f(m) == 0: return m\n",
    "\n",
    "    # Senão, vamos por recorrência\n",
    "    if f(m)*f(a) < 0:\n",
    "        return bissecao(f,a,m,prec)\n",
    "    else:\n",
    "        return bissecao(f,m,b,prec)"
   ]
  },
  {
   "cell_type": "code",
   "execution_count": 11,
   "metadata": {
    "collapsed": true
   },
   "outputs": [],
   "source": [
    "def testar(f,df,a,b):\n",
    "    xb = bissecao(f,a,b, prec=1e-10)\n",
    "    xn = newton(f,df,a,  prec=1e-10)\n",
    "    print('''\\\n",
    "Bisseção: z ~= {: 18.10e} (f(z) = {: .8f})\n",
    "Newton  : z ~= {: 18.10e} (f(z) = {: .8f})'''.format(xb,f(xb), xn,f(xn)))"
   ]
  },
  {
   "cell_type": "code",
   "execution_count": 12,
   "metadata": {
    "collapsed": false
   },
   "outputs": [
    {
     "name": "stdout",
     "output_type": "stream",
     "text": [
      "Bisseção: z ~=   3.1415926536e+00 (f(z) = -0.00000000)\n",
      "Newton  : z ~=   3.1415926536e+00 (f(z) =  0.00000000)\n"
     ]
    }
   ],
   "source": [
    "testar(sin,cos,4,1)"
   ]
  },
  {
   "cell_type": "code",
   "execution_count": 13,
   "metadata": {
    "collapsed": false
   },
   "outputs": [
    {
     "name": "stdout",
     "output_type": "stream",
     "text": [
      "Bisseção: z ~=   1.2599210499e+00 (f(z) = -0.00000000)\n",
      "Newton  : z ~=   1.2599210499e+00 (f(z) =  0.00000000)\n"
     ]
    }
   ],
   "source": [
    "testar(f,df,2.5,0)"
   ]
  }
 ],
 "metadata": {
  "kernelspec": {
   "display_name": "Python 3",
   "language": "python",
   "name": "python3"
  },
  "language_info": {
   "codemirror_mode": {
    "name": "ipython",
    "version": 3
   },
   "file_extension": ".py",
   "mimetype": "text/x-python",
   "name": "python",
   "nbconvert_exporter": "python",
   "pygments_lexer": "ipython3",
   "version": "3.5.2"
  }
 },
 "nbformat": 4,
 "nbformat_minor": 0
}
