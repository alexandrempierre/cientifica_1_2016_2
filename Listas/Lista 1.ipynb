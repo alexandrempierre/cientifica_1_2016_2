{
 "cells": [
  {
   "cell_type": "code",
   "execution_count": 98,
   "metadata": {
    "collapsed": false
   },
   "outputs": [
    {
     "name": "stdout",
     "output_type": "stream",
     "text": [
      "Populating the interactive namespace from numpy and matplotlib\n"
     ]
    }
   ],
   "source": [
    "%pylab inline"
   ]
  },
  {
   "cell_type": "markdown",
   "metadata": {},
   "source": [
    "<h1 style=\"text-align:center\">Computação Científica I</h1>\n",
    "<h2 style=\"text-align:center\">Lista 1: Interpolação, Integrais e Derivadas</h2>"
   ]
  },
  {
   "cell_type": "markdown",
   "metadata": {},
   "source": [
    "### 1.  A interpolação de Lagrange como aplicação Linear"
   ]
  },
  {
   "cell_type": "markdown",
   "metadata": {},
   "source": [
    "$\\newcommand{\\fdef}[3]{#1: #2 \\rightarrow #3}$\n",
    "$\\newcommand{\\pset}[1]{\\mathrm{Pol}_{#1}}$\n",
    "$\\newcommand{\\fset}{\\mathcal{F}}$\n",
    "$\\newcommand{\\reals}{\\mathbb{R}}$\n",
    "$\\newcommand{\\dpow}[2]{#1^{\\underline{#2}}}$"
   ]
  },
  {
   "cell_type": "markdown",
   "metadata": {},
   "source": [
    "(Questão 1) Quero mostrar que $\\fdef{L_X}{\\fset}{\\pset{n-1}}$ é linear, ou seja, $L_X(f + \\lambda g) = L_X f + \\lambda L_X g$\n",
    "\n",
    "<div style=\"height: 20pt\"></div>\n",
    "\n",
    "Sejam $f,g \\in \\fset$:\n",
    "\n",
    "$(f + g)(x) = f(x) + g(x)$, $(f + g) \\in \\fset$\n",
    "\n",
    "$(\\lambda f)(x) = \\lambda f(x), (\\lambda f) \\in \\fset, \\forall \\lambda \\in \\reals$\n",
    "\n",
    "<div style=\"height: 20pt\"></div>\n",
    "\n",
    "Sejam $p,q \\in \\pset{n-1}$, $(x_k)_{k=1}^{n-1}$ são as raízes de $p$ e $(x_l)_{l=1}^{n-1}$ são as raízes de $q$:\n",
    "\n",
    "$p(x) = \\prod\\limits_{k=1}^{n-1}(x - x_k) = \\sum\\limits_{j=0}^{n-1}a_j x^j$, $a_j \\in \\reals$\n",
    "\n",
    "$q(x) = \\prod\\limits_{l=1}^{n-1}(x - x_l) = \\sum\\limits_{j=0}^{n-1}b_j x^j$, $b_j \\in \\reals$\n",
    "\n",
    "$(p + q)(x) = p(x) + q(x), (p + q) \\in \\pset{n-1}$\n",
    "\n",
    "$(\\lambda p)(x) = \\lambda p(x), \\forall \\lambda \\in \\reals$, se $\\lambda \\neq 0, (\\lambda p)(x) \\in \\pset{n-1}$\n",
    "\n",
    "$p(x_{\\alpha}) = q(x_{\\alpha}), \\vert \\{x_{\\alpha}\\} \\vert > (n-1) \\iff p = q$\n",
    "\n",
    "$a_j = b_j, \\forall j \\in [1..(n-1)] \\iff p = q$\n",
    "\n",
    "<div style=\"height: 20pt\"></div>\n",
    "\n",
    "$L_X(f + \\lambda g),L_X f, \\lambda L_X g \\in \\pset{n-1} \\implies L_X(f + \\lambda g) - (L_Xf + \\lambda L_X g) = p(x)$, onde $p(x) = 0$ ou $p(x) \\in {\\pset{n-1}}^*$, onde ${\\pset{n-1}}^* = \\pset{n-1} \\setminus \\{0\\}$\n",
    "\n",
    "<div style=\"height: 20pt\"></div>\n",
    "\n",
    "$p(x) = 0 \\iff L_X(f + \\lambda g) = L_X f + \\lambda L_X g$, nesse caso $L_X$ é linear\n",
    "\n",
    "<div style=\"height: 20pt\"></div>\n",
    "\n",
    "$p(x) \\in {\\pset{n-1}}^*$\n",
    "\n",
    "(1) $L_X(f + \\lambda g)(X) = (f + \\lambda g)(X)$\n",
    "\n",
    "(2) $(L_X f)(X) + (\\lambda L_X g)(X) = f(X) + \\lambda g(X)$\n",
    "\n",
    "$(f + \\lambda g)(X) = f(X) + \\lambda g(X)$, por definição da soma em $\\fset$ dada acima\n",
    "\n",
    "$L_X(f + \\lambda g)(X) = (L_X f)(X) + (\\lambda L_X g)(X),\\, \\vert X \\vert = n \\implies L_X(f + \\lambda g) = L_Xf + \\lambda L_X g \\implies p(x) = 0$\n",
    "\n",
    "<div style=\"height: 20pt\"></div>\n",
    "\n",
    "O que temos acima é uma contradição, em que $p(x) \\in {\\pset{n-1}}^* \\implies p(x) = 0$, mas $0 \\not\\in {\\pset{n-1}}^*$. \n",
    "\n",
    "Como $p(x) = 0$ não leva à contradições, então concluo que $p(x) = 0, \\forall x \\in \\reals$ e $L_X$ linear $\\blacksquare$"
   ]
  },
  {
   "cell_type": "markdown",
   "metadata": {},
   "source": [
    "(Questão 2) Quero mostrar que $\\fdef{\\pi_X}{\\fset}{\\reals^n}$ é linear, ou seja, $\\pi_X(f + \\lambda g) = \\pi_X f + \\lambda \\pi_X g$\n",
    "\n",
    "<div style=\"height: 20pt\"></div>\n",
    "\n",
    "Sejam $v,u \\in \\reals^n$ e $(v_i)_{i=1}^{n}, (u_i)_{i=1}^{n}$ as componentes de $v$ e $u$ respectivamente:\n",
    "\n",
    "$v + u = (v_i + u_i)_{i=1}^{n}$\n",
    "\n",
    "$\\lambda v = (\\lambda v_i)_{i=1}^{n}, \\forall \\lambda \\in \\reals$\n",
    "\n",
    "<div style=\"height: 20pt\"></div>\n",
    "\n",
    "Com base no que foi definido na questão anterior:\n",
    "\n",
    "$\\pi_X(f + \\lambda g) = ((f + \\lambda g)(x_i))_{i=1}^{n} = (f(x_i) + \\lambda g(x_i))_{i=1}^{n} = (f(x_i))_{i=1}^{n} + (\\lambda g(x_i))_{i=1}^{n} = \\pi_X f + \\lambda \\pi_X g$ $\\blacksquare$"
   ]
  },
  {
   "cell_type": "markdown",
   "metadata": {},
   "source": [
    "(Questão 3) Quero mostrar que $L_X(L_X(f)) = L_X(f)$\n",
    "\n",
    "Com base nas caracterizações dos elementos de $\\pset{n-1}$ e das situações em que são iguais feitas na (Questão 1), $L_X(f)$ é um polinômio de grau menor que $n$ e $L_X(L_X(f))$ também. Como $L_X(f)(X) = f(X)$ e $L_X(L_X(f))(X) = L_X(f)(X)$, ambos os polinômios de grau menor que $n$ tem a mesma imagem em $n$ pontos, ou seja, são iguais. $\\blacksquare$"
   ]
  },
  {
   "cell_type": "markdown",
   "metadata": {},
   "source": [
    "(Questão 4) Quero mostrar que $\\fdef{\\pi_X}{\\fset}{\\reals^n}$ é injetora e sobrejetora de $\\pset{n-1} \\subset \\fset$ para $\\reals^n$\n",
    "\n",
    "Dados $p,q \\in \\pset{n-1},\\, p \\neq q \\iff \\pi_X p \\neq \\pi_X q$, isso significa que dois polinômios de grau $n-1$ serão diferentes se não houver ao menos $n$ pontos em que tenham o mesmo valor na imagem. Isso já foi descrito na (Questão 1) e garante a injetividade.\n",
    "\n",
    "\n",
    "\n",
    "\n",
    "Para a sobrejeção fica mais fácil mostrando que $\\pset{n-1}$ é um espaço vetorial. Com base no que já foi dito na (Questão 1) e acrescentando que $(p + q)(x) = (q + p)(x),\\, \\forall p,q \\in \\pset{n-1}$, tenho que $\\pset{n-1}$ é um grupo abeliano para a soma e tem produto por escalar definido, com isso vem que é fechado para combinações lineares. Temos nosso espaço vetorial.\n",
    "\n",
    "Esse espaço vetorial tem dimensão finita, correspondente às potências de $x$ num polinômio, ou seja, posso representar seus vetores como n-uplas em que as componentes são os coeficientes.\n",
    "\n",
    "Além disso, espaços vetoriais tem base e no caso do espaço de polinômios de grau menor que $n$ algumas das bases são $\\{1,x,x^2, \\ldots, x^{n-1}\\}$, $\\{1,x,\\dpow{x}{2}, \\ldots, \\dpow{x}{n-1}\\}$ ou $\\{l_0(x),l_1(x),l_2(x), \\ldots, l_{n-1}(x)\\}$.\n",
    "\n",
    "$\\displaystyle l_k(x) =  \\prod\\limits_{x_j \\in (X \\setminus \\{x_k\\})}\\frac{(x - x_k)}{x_k - x_j}$\n",
    "\n",
    "Na definição acima, $k$ é fixo.\n",
    "\n",
    "Essa base foi construída para ter a seguinte propriedade:\n",
    "\n",
    "$l_k(x_i) = \\displaystyle \\begin{cases} 0, \\text{ se } k \\neq i \\\\ 1, \\text{ se } k = i \\end{cases}$\n",
    "\n",
    "Ou seja, é relativamente simples usar combinações lineares dos vetores dessa base para obter polinômios com valores específicos quando avaliados num ponto (nó de interpolação) específico. O polinômio $L(x)$, obtido combinando escalonamentos dos termos dessa base, fica assim:\n",
    "\n",
    "$L(x) = \\sum\\limits_{k=0}^{n-1} v_k l_k(x)$\n",
    "\n",
    "E pelas propriedades da base $L(x_i) = v_i$.\n",
    "\n",
    "Suponho, por absurdo, que exista $v \\in \\reals^n, v = (v_i)_{i=1}^{n}$ para o qual não haja nenhum $p \\in \\pset{n-1}$ tal que $\\pi_X p = v$.\n",
    "\n",
    "Isso é o mesmo que dizer que não existe nenhum polinômio de grau $n-1$ que passa todos os $v_i, i \\in [0..(n-1)]$\n",
    "\n",
    "Isso significa que $(L(x_i))_{i=0}^{n} \\neq (v_i)_{i=0}^{n}$, o que é uma contradição com a construção de $L(x)$. $\\blacksquare$"
   ]
  },
  {
   "cell_type": "markdown",
   "metadata": {},
   "source": [
    "(Questão 5) Sejam $X = \\{1,2,3,4\\}$, $\\fdef{\\phi_X}{\\reals^n}{\\pset{n-1}}$. Calcular $\\phi_X$ da base canônica. Deduzir regra para um $X$ qualquer.\n",
    "\n",
    "_Sem usar $\\pi_X$, quais são as raízes de $\\phi_X(e_1)$?_ \n",
    "\n",
    "$e_1 = (1,0,0,0)$\n",
    "\n",
    "$X = \\{1,2,3,4\\}$\n",
    "\n",
    "Ou seja, tenho uma lista de $y$'s. Minha função leva essa lista num polinômio que avaliado nos pontos correspondentes aos valores em $X$, me dá os $y$'s. Essa função leva um vetor no $\\reals^n$ num polinômio de grau menor que $n$. Então tenho, no máximo, $n-1$ raízes. E esse é o número de zeros em $e_1$. Então, por comparação, as raízes de $\\phi_X(e_1)$ são $\\{2,3,4\\}$.\n",
    "\n",
    "\n",
    "$\\phi_X(e_1) \\in \\pset{3} \\text{ e } \\phi_X(e_1) = \\displaystyle \\begin{cases} \n",
    "1, \\text{ se } x=1 \\\\ \n",
    "0, \\text{ se } x=2 \\\\ \n",
    "0, \\text{ se } x=3 \\\\ \n",
    "0, \\text{ se } x=4 \\\\ \n",
    "\\end{cases} = \\frac{(x-2)(x-3)(x-4)}{(1-2)(1-3)(1-4)}$\n",
    "\n",
    "$\\phi_X(e_2) \\in \\pset{3} \\text{ e } \\phi_X(e_2) = \\displaystyle \\begin{cases} \n",
    "0, \\text{ se } x=1 \\\\ \n",
    "1, \\text{ se } x=2 \\\\ \n",
    "0, \\text{ se } x=3 \\\\ \n",
    "0, \\text{ se } x=4 \\\\ \n",
    "\\end{cases} = \\frac{(x-1)(x-3)(x-4)}{(2-1)(2-3)(2-4)}$\n",
    "\n",
    "$\\phi_X(e_3) \\in \\pset{3} \\text{ e } \\phi_X(e_3) = \\displaystyle \\begin{cases} \n",
    "0, \\text{ se } x=1 \\\\ \n",
    "0, \\text{ se } x=2 \\\\ \n",
    "1, \\text{ se } x=3 \\\\ \n",
    "0, \\text{ se } x=4 \\\\ \n",
    "\\end{cases} = \\frac{(x-1)(x-2)(x-4)}{(3-1)(3-2)(3-4)}$\n",
    "\n",
    "$\\phi_X(e_4) \\in \\pset{3} \\text{ e } \\phi_X(e_4) = \\displaystyle \\begin{cases} \n",
    "0, \\text{ se } x=1 \\\\ \n",
    "0, \\text{ se } x=2 \\\\ \n",
    "0, \\text{ se } x=3 \\\\ \n",
    "1, \\text{ se } x=4 \\\\ \n",
    "\\end{cases} = \\frac{(x-1)(x-2)(x-3)}{(4-1)(4-2)(4-3)}$\n",
    "\n",
    "Para um $X$ qualquer, $\\phi_X(e_k) = \\displaystyle \\prod\\limits_{x_j \\in (X \\setminus x_k)} \\frac{x-x_j}{x_k-x_j}$ $\\blacksquare$"
   ]
  },
  {
   "cell_type": "code",
   "execution_count": 10,
   "metadata": {
    "collapsed": true
   },
   "outputs": [],
   "source": [
    "# (Questão 6)\n",
    "def l_k(k,X):\n",
    "    x_k = X[k]\n",
    "    X_ = X[:k]+X[k+1:]\n",
    "    def p(x):\n",
    "        lk = 1\n",
    "        for i,x_i in enumerate(X_):\n",
    "            lk *= (x-x_i)/(x_k-x_i)\n",
    "        return lk\n",
    "    return p\n",
    "\n",
    "from functools import reduce\n",
    "produto = lambda x,y : x*y\n",
    "\n",
    "def l_k(k,X):\n",
    "    def p(x):\n",
    "        return reduce(produto,[(x-x_i)/(X[k]-x_i) for i,x_i in enumerate(X) if i != k],1)\n",
    "    return p\n",
    "\n",
    "def L(X,Y):\n",
    "    def p(x):\n",
    "        return sum([y_j*l_k(j,X)(x) for j,y_j in enumerate(Y)])\n",
    "    return p\n",
    "\n",
    "def lagrange(x,y):\n",
    "    \"\"\" Calcula o polinômio interpolador de Lagrange dos pontos $(x_i, y_i)$. \"\"\"\n",
    "    assert(len(x) == len(y))\n",
    "    n = len(x) - 1\n",
    "    maxx = max(x)\n",
    "    minx = min(x)\n",
    "    medx = (maxx + minx)/2\n",
    "    diffs = array(x) - medx\n",
    "    M = [ones_like(x)]\n",
    "    for i in range(n):\n",
    "        M.append(M[-1]*diffs)\n",
    "    M = array(M).T\n",
    "    a = solve(M,y)\n",
    "    \n",
    "    def p(z):\n",
    "        return (Horner(a[::-1]))(z - medx)\n",
    "    return p"
   ]
  },
  {
   "cell_type": "code",
   "execution_count": 14,
   "metadata": {
    "collapsed": false
   },
   "outputs": [
    {
     "name": "stdout",
     "output_type": "stream",
     "text": [
      "The slowest run took 32.99 times longer than the fastest. This could mean that an intermediate result is being cached.\n",
      "10000000 loops, best of 3: 82.3 ns per loop\n"
     ]
    }
   ],
   "source": [
    "%timeit lagrange"
   ]
  },
  {
   "cell_type": "code",
   "execution_count": 16,
   "metadata": {
    "collapsed": false
   },
   "outputs": [
    {
     "name": "stdout",
     "output_type": "stream",
     "text": [
      "The slowest run took 36.38 times longer than the fastest. This could mean that an intermediate result is being cached.\n",
      "10000000 loops, best of 3: 84.3 ns per loop\n"
     ]
    }
   ],
   "source": [
    "%timeit L"
   ]
  },
  {
   "cell_type": "markdown",
   "metadata": {},
   "source": [
    "## 2. Métodos de integração via interpolação de Lagrange"
   ]
  },
  {
   "cell_type": "markdown",
   "metadata": {},
   "source": [
    "(Questão 1) Mostrar que $I_X$ só depende de $\\pi_X$\n",
    "\n",
    "Posso redefinir as funções acima como:\n",
    "\n",
    "$\\fdef{I}{\\reals^n \\times \\fset}{\\reals}$\n",
    "\n",
    "$\\displaystyle I: (X,f) \\mapsto \\int^{1}_{-1} (L_X(f))(t)dt$\n",
    "\n",
    "Fica claro que $I(X,f) = I_X(f)$, só expondo melhor que $X$ também é um parâmetro. Abaixo isso será feito para $L_X, \\pi_X$:\n",
    "\n",
    "$\\fdef{L}{\\reals^n \\times \\fset}{\\pset{n-1}}$\n",
    "\n",
    "$\\displaystyle L: (X,f) \\mapsto \\sum\\limits_{x_i \\in X} f(x_i) \\prod\\limits_{x_j \\in X \\setminus x_i} \\frac{x-x_j}{x_i-x_j}$\n",
    "\n",
    "Mas $L_X$ não usa a função $f$ em todos os pontos em que está definida para determinar o polinômio interpolador, precisa apenas dos pontos em $X$, logo:\n",
    "\n",
    "$\\fdef{L}{\\reals^n \\times \\reals^n}{\\pset{n-1}}$\n",
    "\n",
    "$\\displaystyle L: (X,\\pi_x(f)) \\mapsto \\sum\\limits_{x_i \\in X} \\pi_{x_i}(f) \\prod\\limits_{x_j \\in X \\setminus x_i} \\frac{x-x_j}{x_i-x_j}$\n",
    "\n",
    "E agora uma definição alternativa para $\\pi_X$:\n",
    "\n",
    "$\\fdef{\\pi}{\\reals^n \\times \\fset}{\\reals^n}$\n",
    "\n",
    "$\\pi: (X,f) \\mapsto (f(x_i))_{x_i \\in X}$\n",
    "\n",
    "Essas definições ajudam a destacar que $X$ é um parâmetro para $I_X, L_X, \\pi_X$ tanto quanto $f \\in \\fset$. Também ajudam a organizar as ideias sobre quais são realmente as informações que estão envolvidas ao dizer que $I_X$ só depende de $\\pi_x$. São elas $I,\\pi, X \\text{ e } f$.\n",
    "\n",
    "Recorrendo a uma definição básica de polinômio interpolador, usando a matriz de Vandermonde $V_X$ os coeficientes do polinômio seriam a resolução do sistema linear:\n",
    "\n",
    "$V_X g = \\pi_X(f)$ em que $g = (g_j)_{j=0}^{n-1}$ e $g_j$ é o coeficiente do termo de grau $j$ do polinômio interpolador\n",
    "\n",
    "O que, sabendo que a matriz de Vandermonde não é singular, equivale a:\n",
    "\n",
    "$g = V_X^{-1} \\pi_X(f)$\n",
    "\n",
    "Usando a fórmula dada no início da Parte 2 da lista de exercícios: $\\displaystyle I_g = \\sum g_j \\frac{1 - (-1)^{1+j}}{1+j}$\n",
    "\n",
    "Na qual: $\\displaystyle g = L_X(f) = \\sum g_j z^j$\n",
    "\n",
    "Sabendo que os $g_j$ são os mesmos em $g$ e $I_g$ e que $g$ é obtido resolvendo o sistema linear $V_X g = \\pi_X(f)$, posso concluir que $I_f$ só depende de $X, f, V_X \\text{ e } \\pi_X$. $\\blacksquare$"
   ]
  },
  {
   "cell_type": "markdown",
   "metadata": {},
   "source": [
    "(Questão 2)\n",
    "\n",
    "$V_X g = \\pi_X(f)$\n",
    "\n",
    "Sabendo que $V_X$ pode ser invertida: $g = V_X^{-1} \\pi_X(f)$\n",
    "\n",
    "$V_X$ é uma matriz de entradas reais, então $V_X^{-1}$ obtida por algum método como Gauss-Jordan que só faz as quatro operações elementares também vai ser uma matriz com entradas reais, pois $\\reals$ é fechado nessas quatro operações. $\\pi_X(f)$ também é um vetor com entradas reais, como o algoritmo para fazer o produto entre uma matriz e um vetor de entradas reais só envolve as operações de soma e produto entre números reais, então cada $g_j$ vai ser um número real e, mais do que isso, uma combinação linear entre os $f(x_i)$.\n",
    "\n",
    "$g_j = \\sum\\limits_{x_i \\in X} c_i f(x_i)$, onde $c_i \\in \\reals$\n",
    "\n",
    "Usando a fórmula dada no início da Parte 2: $\\displaystyle I_g = \\sum g_j \\frac{1 - (-1)^{1+j}}{1+j}$\n",
    "\n",
    "Chego à fórmula: $\\displaystyle I_g = \\sum \\sum\\limits_{x_i \\in X} c_i f(x_i) \\frac{1 - (-1)^{1+j}}{1+j}$\n",
    "\n",
    "$\\displaystyle I_g = \\sum \\frac{1 - (-1)^{1+j}}{1+j} \\sum\\limits_{x_i \\in X} c_i f(x_i) = \\sum \\frac{1 - (-1)^{1+j}}{1+j} \\sum\\limits_{x_i \\in X} c_i f(x_i) = \\sum \\frac{1 - (-1)^{1+j}}{1+j} (c_{i_1} + c_{i_2} + ... + c_{i_l}) f(x_i) $\n",
    "\n",
    "Sendo $(c_{i_k})$ um subconjunto dos $c_i$ que multiplica $f(x_i)$.\n",
    "\n",
    "Como $j \\geq 0$ e $c_{i_k} \\in \\reals \\forall k$, colocando tudo em função de $i$ como se fosse o \"iterador\" do somatório que sobrou: $w_i = \\displaystyle \\frac{1 - (-1)^{1+i}}{1+i} (c_{i_1} + c_{i_2} + ... + c_{i_l})$ pode-se dizer que $w_i \\in \\reals$. $\\blacksquare$"
   ]
  },
  {
   "cell_type": "markdown",
   "metadata": {},
   "source": [
    "(Questão 3)\n",
    "\n",
    "O vetor de coeficientes $g$ pode ser obtido resolvendo o sistema linear $V_X g = \\pi_X(f)$\n",
    "\n",
    "Sabendo que $\\pi_X(f) = (f(x_i))_{x_i \\in X}$."
   ]
  },
  {
   "cell_type": "markdown",
   "metadata": {},
   "source": [
    "(Questão 4)\n",
    "\n",
    "Sejam $u,u' \\in \\reals^n$. Nessa questão $u'$ não tem nenhuma relação com derivação.\n",
    "\n",
    "Usando o produto interno: $\\displaystyle \\langle u,u' \\rangle = \\sum\\limits_{i=1}^{n} u_i {u'}_i$\n",
    "\n",
    "$\\displaystyle I_X(f) = \\sum\\limits_{j=1}^{n} g_j \\frac{1-(-1)^{1+j}}{1+j} = \\langle g,v \\rangle \\iff v = \\begin{pmatrix} \\displaystyle \\frac{2}{1+j}[j \n",
    "\\text{ par}] \\end{pmatrix}_{j=1}^{n}$\n",
    "\n",
    "Estou desconsiderando a possibilidade de usar qualquer outro produto interno do $\\reals^n$. $\\blacksquare$"
   ]
  },
  {
   "cell_type": "markdown",
   "metadata": {},
   "source": [
    "(Questão 5)"
   ]
  },
  {
   "cell_type": "markdown",
   "metadata": {},
   "source": [
    "(Questão 6)"
   ]
  },
  {
   "cell_type": "code",
   "execution_count": 104,
   "metadata": {
    "collapsed": false
   },
   "outputs": [],
   "source": [
    "# (Questão 7)\n",
    "def matrix_nodes(xs):\n",
    "    xs = array(xs)\n",
    "    return array([xs**i for i in range(len(xs))])"
   ]
  },
  {
   "cell_type": "markdown",
   "metadata": {
    "collapsed": true
   },
   "source": [
    "(Questão 8)"
   ]
  },
  {
   "cell_type": "code",
   "execution_count": 1,
   "metadata": {
    "collapsed": true
   },
   "outputs": [],
   "source": [
    "# (Questão 9)"
   ]
  },
  {
   "cell_type": "code",
   "execution_count": 2,
   "metadata": {
    "collapsed": true
   },
   "outputs": [],
   "source": [
    "# (Questão 10)"
   ]
  },
  {
   "cell_type": "code",
   "execution_count": null,
   "metadata": {
    "collapsed": true
   },
   "outputs": [],
   "source": [
    "# (Questão 11)"
   ]
  }
 ],
 "metadata": {
  "kernelspec": {
   "display_name": "Python 3",
   "language": "python",
   "name": "python3"
  },
  "language_info": {
   "codemirror_mode": {
    "name": "ipython",
    "version": 3
   },
   "file_extension": ".py",
   "mimetype": "text/x-python",
   "name": "python",
   "nbconvert_exporter": "python",
   "pygments_lexer": "ipython3",
   "version": "3.5.2"
  }
 },
 "nbformat": 4,
 "nbformat_minor": 1
}
