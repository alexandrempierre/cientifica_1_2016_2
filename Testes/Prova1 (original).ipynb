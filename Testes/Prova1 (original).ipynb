{
 "cells": [
  {
   "cell_type": "markdown",
   "metadata": {},
   "source": [
    "# Bisseção em 2D\n",
    "\n",
    "Imagine que temos duas funções $f$ e $g$ definidas de $\\mathbb R^2$ em $\\mathbb R$.\n",
    "(ou seja, um sistema - não linear - com duas equações e duas incógnitas)\n",
    "\n",
    "Como encontrar uma raiz deste sistema?"
   ]
  },
  {
   "cell_type": "code",
   "execution_count": null,
   "metadata": {
    "collapsed": false,
    "deletable": false,
    "nbgrader": {
     "checksum": "b33c02bafa2e0acdc3374592604ee504",
     "grade": false,
     "grade_id": "pylab",
     "locked": true,
     "solution": false
    }
   },
   "outputs": [],
   "source": [
    "%pylab inline"
   ]
  },
  {
   "cell_type": "markdown",
   "metadata": {},
   "source": [
    "# Um \"quadrado\" para fazer bisseção\n",
    "\n",
    "Queremos achar duas curvas $a(t)$ e $b(t)$ tais que\n",
    "\n",
    "- $f(a(t)) > 0$\n",
    "- $f(b(t)) < 0$\n",
    "\n",
    "Assim, poderemos construir pontos $c(t)$ tais que $f(c(t)) \\sim 0$\n",
    "por bisseção no segmento de reta $\\overline{a(t) \\ b(t)}$ (ou qualquer outra curva ligando estes pontos).\n",
    "Então, \"basta\" encontrar dois valores de $t$ onde $g(c(t))$ tenha sinais opostos para encontrar uma raiz do sistema\n",
    "$f = 0 \\ , \\ g = 0$.\n",
    "\n",
    "Como você vai ver, o mais difícil deste método é encontrar as curvas $a(t)$ e $b(t)$ satisfazendo todas estas hipóteses.\n",
    "Depois, as aplicações da bisseção para achar as raízes duplas são relativamente fáceis."
   ]
  },
  {
   "cell_type": "markdown",
   "metadata": {},
   "source": [
    "## Primeira parte: encontrando as curvas $a(t)$ e $b(t)$.\n",
    "\n",
    "Precisamos (da mesma forma que na bisseção em $\\mathbb R$) de pontos iniciais que satisfaçam algumas condições.\n",
    "\n",
    "Uma ideia natural é construir uma \"espiral\" de pontos e testá-los, e depois construir as curvas $a(t)$ e $b(t)$\n",
    "\"ligando\" estes pontos.\n",
    "\n",
    "Comecemos pela espiral."
   ]
  },
  {
   "cell_type": "markdown",
   "metadata": {},
   "source": [
    "### Questão 1: Espiral\n",
    "\n",
    "Escreva uma função `espiral(n)` que constrói $n$ pontos de norma cada vez maior, partindo de $(0,0)$ e girando à esquerda.\n",
    "\n",
    "Ela deve retornar os pontos percorridos em uma lista."
   ]
  },
  {
   "cell_type": "code",
   "execution_count": null,
   "metadata": {
    "collapsed": true,
    "deletable": false,
    "nbgrader": {
     "checksum": "9aac2f2f968473c575d9798c6b815edf",
     "grade": false,
     "grade_id": "def_espiral",
     "locked": false,
     "solution": true
    }
   },
   "outputs": [],
   "source": [
    "# YOUR CODE HERE\n",
    "raise NotImplementedError()"
   ]
  },
  {
   "cell_type": "markdown",
   "metadata": {},
   "source": [
    "E agora, os asserts:"
   ]
  },
  {
   "cell_type": "code",
   "execution_count": null,
   "metadata": {
    "collapsed": false,
    "deletable": false,
    "nbgrader": {
     "checksum": "3a8a0b93fc012dee38e580f4b1f56ae0",
     "grade": true,
     "grade_id": "espiral_1",
     "locked": true,
     "points": 2,
     "solution": false
    }
   },
   "outputs": [],
   "source": [
    "# Tamanho\n",
    "assert(len(espiral(30)) == 30)\n",
    "assert(len(espiral(100)) == 100)"
   ]
  },
  {
   "cell_type": "code",
   "execution_count": null,
   "metadata": {
    "collapsed": false,
    "deletable": false,
    "nbgrader": {
     "checksum": "1f60d6107abc0813437868088d8d7c29",
     "grade": true,
     "grade_id": "espiral_2",
     "locked": true,
     "points": 3,
     "solution": false
    }
   },
   "outputs": [],
   "source": [
    "# Norma maior\n",
    "e = espiral(100)\n",
    "for x,y in zip(e[:-1], e[1:]):\n",
    "    assert(norm(x) < norm(y))"
   ]
  },
  {
   "cell_type": "code",
   "execution_count": null,
   "metadata": {
    "collapsed": false,
    "deletable": false,
    "nbgrader": {
     "checksum": "88c93756f8f05ce4a67cf6bebb2c9db3",
     "grade": true,
     "grade_id": "espiral_3",
     "locked": true,
     "points": 3,
     "solution": false
    }
   },
   "outputs": [],
   "source": [
    "# Girando à esquerda\n",
    "e = espiral(100)\n",
    "for x,y in zip(e[1:-1], e[2:]):\n",
    "    assert(cross(x,y) > 0)"
   ]
  },
  {
   "cell_type": "markdown",
   "metadata": {},
   "source": [
    "### Questão 2: Pontos com $f$ de mesmo sinal\n",
    "\n",
    "Queremos achar uma curva onde $f$ será positiva, e outro onde $f$ será negativa.\n",
    "\n",
    "Escreva uma função que, dada uma lista de pontos, retorna duas listas:\n",
    "- uma com os pares de pontos consecutivos onde $f$ é positiva,\n",
    "- a outra com os pares onde $f$ é negativa."
   ]
  },
  {
   "cell_type": "markdown",
   "metadata": {},
   "source": [
    "Considere que a função `f` recebe apenas um argumento (**uma** lista, **um** `array`, **um** par de pontos, ...).\n",
    "Desta forma, a sua função `consecutivos` funcionará em qualquer dimensão!\n",
    "\n",
    "Um exemplo simples de $f$ e seu código:"
   ]
  },
  {
   "cell_type": "code",
   "execution_count": null,
   "metadata": {
    "collapsed": true,
    "deletable": false,
    "nbgrader": {
     "checksum": "d88928c92b2b418c857ae14ffa987a22",
     "grade": false,
     "grade_id": "def_f",
     "locked": true,
     "solution": false
    }
   },
   "outputs": [],
   "source": [
    "def f(p):\n",
    "    x,y = p\n",
    "    return x**2 + 3*x - 20*y + y**2"
   ]
  },
  {
   "cell_type": "code",
   "execution_count": null,
   "metadata": {
    "collapsed": true,
    "deletable": false,
    "nbgrader": {
     "checksum": "cd501d38c5b202b1cbbdeb5d99894da7",
     "grade": false,
     "grade_id": "def_consecutivos",
     "locked": false,
     "solution": true
    }
   },
   "outputs": [],
   "source": [
    "def consecutivos(f,pts):\n",
    "    # Construa essas listas com append ;-)\n",
    "    l_pos = []\n",
    "    l_neg = []\n",
    "    # YOUR CODE HERE\n",
    "    raise NotImplementedError()\n",
    "    return l_pos, l_neg"
   ]
  },
  {
   "cell_type": "code",
   "execution_count": null,
   "metadata": {
    "collapsed": false,
    "deletable": false,
    "nbgrader": {
     "checksum": "3b6429b282dd0c7db9ad3fd304bb183b",
     "grade": true,
     "grade_id": "consec_1",
     "locked": true,
     "points": 2,
     "solution": false
    }
   },
   "outputs": [],
   "source": [
    "pts = [(0, 0),\n",
    "       (1, 0),\n",
    "       (1, 1),\n",
    "       (-1, 1),\n",
    "       (-1, -1),\n",
    "       (2, -1),\n",
    "       (2, 2),\n",
    "       (-2, 2),\n",
    "       (-2, -2),\n",
    "       (3, -2),\n",
    "       (3, 3)]\n",
    "assert( consecutivos(f, pts) ==\n",
    "        ([((-1, -1), (2, -1)), ((-2, -2), (3, -2))],\n",
    "         [((1, 1), (-1, 1)), ((2, 2), (-2, 2))])\n",
    "      )"
   ]
  },
  {
   "cell_type": "markdown",
   "metadata": {},
   "source": [
    "Encontre agora uma espiral suficientemente grande com pontos de sinal positivo e negativo:"
   ]
  },
  {
   "cell_type": "code",
   "execution_count": null,
   "metadata": {
    "collapsed": true,
    "deletable": false,
    "nbgrader": {
     "checksum": "f736fed28cee5788180c7ca3a6571de2",
     "grade": false,
     "grade_id": "n_consec",
     "locked": false,
     "solution": true
    }
   },
   "outputs": [],
   "source": [
    "# YOUR CODE HERE\n",
    "raise NotImplementedError()"
   ]
  },
  {
   "cell_type": "code",
   "execution_count": null,
   "metadata": {
    "collapsed": false,
    "deletable": false,
    "nbgrader": {
     "checksum": "7ba43f4c648382b32859108d395e3507",
     "grade": true,
     "grade_id": "consec_2",
     "locked": true,
     "points": 2,
     "solution": false
    }
   },
   "outputs": [],
   "source": [
    "l_pos, l_neg = consecutivos(f, espiral(n_grande_espiral))\n",
    "assert( len(l_pos) > 0 )\n",
    "assert( len(l_neg) > 0 )"
   ]
  },
  {
   "cell_type": "markdown",
   "metadata": {},
   "source": [
    "### Questão 3: Segmentos (ou \"CVGA strikes back\")\n",
    "\n",
    "Agora, faça uma função `segmento(p,q)` recebendo dois pontos e que retorna **uma função** `s(t)` que representa o segmento entre eles.\n",
    "(Poderíamos representar o segmento \"simplesmente\" por seus dois pontos extremos, e daí não haveria nada a fazer nesta questão. A vantagem de representar o segmento por uma função é que podemos acessar todos pontos do segmento de forma mais fácil e homogênea)\n",
    "\n",
    "Esta função será útil no mínimo duas vezes:\n",
    "- Para construir as curvas $a(t)$ e $b(t)$, que serão segmentos (para simplificar a nossa vida) entre pontos consecutivos de mesmo sinal de $f$,\n",
    "- Para construir os segmentos $\\overline{a(t) \\ b(t)}$"
   ]
  },
  {
   "cell_type": "code",
   "execution_count": null,
   "metadata": {
    "collapsed": true,
    "deletable": false,
    "nbgrader": {
     "checksum": "3151b99d7e18b48d2025407e178584bf",
     "grade": false,
     "grade_id": "def_segmento",
     "locked": false,
     "solution": true
    }
   },
   "outputs": [],
   "source": [
    "def segmento(p,q):\n",
    "    # Vetorizando, vai ficar mais fácil fazer as contas!\n",
    "    p = array(p)\n",
    "    q = array(q)\n",
    "    def s(t):\n",
    "        # YOUR CODE HERE\n",
    "        raise NotImplementedError()\n",
    "    return s"
   ]
  },
  {
   "cell_type": "markdown",
   "metadata": {},
   "source": [
    "Um exemplo para ver como funciona (e também para mostrar que esta função, _na verdade_ faz a reta entre eles se passarmos $t$ fora do intervalo $[0,1]$.)"
   ]
  },
  {
   "cell_type": "code",
   "execution_count": null,
   "metadata": {
    "collapsed": false
   },
   "outputs": [],
   "source": [
    "s = segmento((0,1), (1,0))\n",
    "s(0), s(.5), s(1), s(2)"
   ]
  },
  {
   "cell_type": "code",
   "execution_count": null,
   "metadata": {
    "collapsed": false,
    "deletable": false,
    "nbgrader": {
     "checksum": "561e8a4cc986f1d7d88c2b1bf8d7a5e5",
     "grade": true,
     "grade_id": "segmento_1",
     "locked": true,
     "points": 2,
     "solution": false
    }
   },
   "outputs": [],
   "source": [
    "s = segmento((-3,-1), (2,3))\n",
    "assert(allclose( s(0.6), [0,1.4], rtol=1e-14, atol=1e-14 ))"
   ]
  },
  {
   "cell_type": "code",
   "execution_count": null,
   "metadata": {
    "collapsed": false,
    "deletable": false,
    "nbgrader": {
     "checksum": "db853d629d043e3483cd6219f5f7279f",
     "grade": true,
     "grade_id": "segmento_2",
     "locked": true,
     "points": 2,
     "solution": false
    }
   },
   "outputs": [],
   "source": [
    "s = segmento((2,3), (4,-9))\n",
    "assert(all( s(.125) == [2.25, 1.5] ))"
   ]
  },
  {
   "cell_type": "markdown",
   "metadata": {},
   "source": [
    "Testando que as extremidades inicial e final estão no lugar certo:"
   ]
  },
  {
   "cell_type": "code",
   "execution_count": null,
   "metadata": {
    "collapsed": false,
    "deletable": false,
    "nbgrader": {
     "checksum": "bc00136b0ccb87f2c71406a7436336d3",
     "grade": true,
     "grade_id": "segmento_3",
     "locked": true,
     "points": 3,
     "solution": false
    }
   },
   "outputs": [],
   "source": [
    "ps = randn(5,2)\n",
    "qs = randn(5,2)\n",
    "for p,q in zip(ps,qs):\n",
    "    s = segmento(p,q)\n",
    "    assert(all( s(0) == p ))\n",
    "    assert(all( s(1) == q ))"
   ]
  },
  {
   "cell_type": "markdown",
   "metadata": {},
   "source": [
    "### Questão 4: Segmentos totalmente positivos e negativos de $f$\n",
    "\n",
    "Use um gráfico para mostrar que, em algum dos segmentos encontrados pela função `consecutivos`,\n",
    "a função `f` é sempre positiva.\n",
    "Faça depois o mesmo para achar um segmento totalmente negativo."
   ]
  },
  {
   "cell_type": "code",
   "execution_count": null,
   "metadata": {
    "collapsed": true
   },
   "outputs": [],
   "source": [
    "l_pos, l_neg = consecutivos(f, espiral(10))"
   ]
  },
  {
   "cell_type": "code",
   "execution_count": null,
   "metadata": {
    "collapsed": false,
    "deletable": false,
    "nbgrader": {
     "checksum": "48ece3e2aac6a0dd2b7a60e74ec0785b",
     "grade": true,
     "grade_id": "seg_graph",
     "locked": false,
     "points": 3,
     "solution": true
    }
   },
   "outputs": [],
   "source": [
    "# YOUR CODE HERE\n",
    "raise NotImplementedError()"
   ]
  },
  {
   "cell_type": "code",
   "execution_count": null,
   "metadata": {
    "collapsed": false,
    "deletable": false,
    "nbgrader": {
     "checksum": "699020beae11c2ad0367c3961e8de0af",
     "grade": true,
     "grade_id": "seg_graph_2",
     "locked": false,
     "points": 3,
     "solution": true
    }
   },
   "outputs": [],
   "source": [
    "# YOUR CODE HERE\n",
    "raise NotImplementedError()"
   ]
  },
  {
   "cell_type": "markdown",
   "metadata": {},
   "source": [
    "## Segunda parte: Achando zeros de $f$\n",
    "\n",
    "Agora, para cada valor de $t$, queremos achar um zero de $f$ no segmento $\\overline{a(t)\\ b(t)}$.\n",
    "Mas lembre que a bisseção só sabe dividir um intervalo **real** por dois, não um segmento qualquer.\n",
    "\n",
    "Assim, vamos ter que criar, **para cada $t$**, uma nova função $f_t(r)$, que é a restrição de $f$ à reta $\\overline{a(t)\\ b(t)}$."
   ]
  },
  {
   "cell_type": "markdown",
   "metadata": {},
   "source": [
    "### Questão 5: Segmentos de segmentos\n",
    "\n",
    "Escreva uma função `segmento_t(a,b,t)` que cria o segmento entre os pontos $a(t)$ e $b(t)$."
   ]
  },
  {
   "cell_type": "code",
   "execution_count": null,
   "metadata": {
    "collapsed": true,
    "deletable": false,
    "nbgrader": {
     "checksum": "187b9b7a8e304266e321e4af16320aa4",
     "grade": false,
     "grade_id": "def_seg_t",
     "locked": false,
     "solution": true
    }
   },
   "outputs": [],
   "source": [
    "def segmento_t(a,b,t):\n",
    "    # YOUR CODE HERE\n",
    "    raise NotImplementedError()"
   ]
  },
  {
   "cell_type": "code",
   "execution_count": null,
   "metadata": {
    "collapsed": true,
    "deletable": false,
    "nbgrader": {
     "checksum": "07a20340e14e638b6e12baeb223944d7",
     "grade": true,
     "grade_id": "seg_t_1",
     "locked": true,
     "points": 2,
     "solution": false
    }
   },
   "outputs": [],
   "source": [
    "a = segmento((0,0), (1,0))\n",
    "b = segmento((0,1), (1,1))\n",
    "st = segmento_t(a,b,0.25)\n",
    "assert(all( st(0.4) == [0.25,0.4] ))"
   ]
  },
  {
   "cell_type": "code",
   "execution_count": null,
   "metadata": {
    "collapsed": false,
    "deletable": false,
    "nbgrader": {
     "checksum": "208262885610d95a351a7f10e8ff699f",
     "grade": true,
     "grade_id": "seg_t_2",
     "locked": true,
     "points": 3,
     "solution": false
    }
   },
   "outputs": [],
   "source": [
    "for t in randn(10):\n",
    "    st = segmento_t(a,b,t)\n",
    "    r = randn(1)[0]\n",
    "    assert(allclose( st(r), [t,r], rtol=1e-14, atol=1e-14 )), \"{} {} {}\".format(st(r), [t,r], st(r) - [t,r])"
   ]
  },
  {
   "cell_type": "markdown",
   "metadata": {},
   "source": [
    "### Questão 6: Desenhando segmentos\n",
    "\n",
    "Escreva uma função que, dado um segmento (ou seja, uma função $s(t)$!), desenha o segmento de reta associado."
   ]
  },
  {
   "cell_type": "code",
   "execution_count": null,
   "metadata": {
    "collapsed": true,
    "deletable": false,
    "nbgrader": {
     "checksum": "af6720ab2b99c841a0e8f3cc8bdb7fb2",
     "grade": false,
     "grade_id": "def_plota_seg",
     "locked": false,
     "solution": true
    }
   },
   "outputs": [],
   "source": [
    "def plota_segmento(s):\n",
    "    # YOUR CODE HERE\n",
    "    raise NotImplementedError()"
   ]
  },
  {
   "cell_type": "code",
   "execution_count": null,
   "metadata": {
    "collapsed": false,
    "deletable": false,
    "nbgrader": {
     "checksum": "48768de2c448fb856d73011491ad57f4",
     "grade": true,
     "grade_id": "plota_seg_1",
     "locked": false,
     "points": 4,
     "solution": true
    }
   },
   "outputs": [],
   "source": [
    "# YOUR CODE HERE\n",
    "raise NotImplementedError()"
   ]
  },
  {
   "cell_type": "markdown",
   "metadata": {},
   "source": [
    "### Questão 7: Vendo a homotopia\n",
    "\n",
    "(Não se assuste se você nunca ouviu falar de homotopia, ou não lembra o que é :-) . Você vai ver)\n",
    "\n",
    "Os segmentos $a$ e $b$ são os lados \"de baixo\" e \"de cima\" de um quadrado.\n",
    "Os segmentos **entre os pontos** $a(t)$ e $b(t)$ são, portanto, segmentos verticais \"dentro do quadrado\"."
   ]
  },
  {
   "cell_type": "code",
   "execution_count": null,
   "metadata": {
    "collapsed": false,
    "deletable": false,
    "nbgrader": {
     "checksum": "9e94998801b33096a8e9d06638667cac",
     "grade": false,
     "grade_id": "homotopia_1",
     "locked": true,
     "points": 2,
     "solution": false
    }
   },
   "outputs": [],
   "source": [
    "plota_segmento(a)\n",
    "plota_segmento(b)\n",
    "for t in linspace(0,1,6):\n",
    "    plota_segmento(segmento_t(a,b,t))\n",
    "axis([-1,2,-1,2]);"
   ]
  },
  {
   "cell_type": "markdown",
   "metadata": {},
   "source": [
    "Crie os segmentos dos lados \"esquerdo\" e \"direito\" do quadrado, e desenhe a grade \"transposta\"."
   ]
  },
  {
   "cell_type": "code",
   "execution_count": null,
   "metadata": {
    "collapsed": false,
    "deletable": false,
    "nbgrader": {
     "checksum": "31b33c9c15194a80831aa88d90c970ec",
     "grade": true,
     "grade_id": "transposta",
     "locked": false,
     "points": 3,
     "solution": true
    }
   },
   "outputs": [],
   "source": [
    "# YOUR CODE HERE\n",
    "raise NotImplementedError()"
   ]
  },
  {
   "cell_type": "markdown",
   "metadata": {},
   "source": [
    "## Terceira parte: A curva $c(t)$\n",
    "\n",
    "Vejamos o que já construímos:\n",
    "\n",
    "- Dois segmentos $a$ e $b$ ;\n",
    "- em $a$ a função $f$ é positiva, em $b$ ela é negativa ;\n",
    "- para cada $t$, um segmento $s_t$ ligando os pontos $a(t)$ (com o outro lado $b$.\n",
    "\n",
    "Assim, para cada $t$, podemos achar um ponto $c(t)$, no segmento $s_t$, por bisseção,\n",
    "onde $f(c(t)) = 0$ (na verdade, será apenas _próximo_ de zero)."
   ]
  },
  {
   "cell_type": "code",
   "execution_count": null,
   "metadata": {
    "collapsed": true,
    "deletable": false,
    "nbgrader": {
     "checksum": "642b65267b87d33786aa66a8bdfbc929",
     "grade": false,
     "grade_id": "def_bissecao",
     "locked": true,
     "solution": false
    }
   },
   "outputs": [],
   "source": [
    "def bissecao(f, a, b, prec=1e-8):\n",
    "    \"\"\" Essa versão da bisseção garante que você não vai passar valores inválidos dos pontos extremos. \"\"\"\n",
    "    assert(f(a) * f(b) <= 0)\n",
    "    \n",
    "    def dividir(x,y):\n",
    "        z = (x+y)/2\n",
    "        err = max(abs(z-x), abs(z-y))\n",
    "        if err < prec:\n",
    "            return z\n",
    "\n",
    "        if (f(x)*f(z) <= 0):\n",
    "            return dividir(x,z)\n",
    "        else:\n",
    "            return dividir(z,y)\n",
    "\n",
    "    return dividir(a,b)"
   ]
  },
  {
   "cell_type": "code",
   "execution_count": null,
   "metadata": {
    "collapsed": true,
    "deletable": false,
    "nbgrader": {
     "checksum": "f45136b8a7f9c2f07c0ddace116f3571",
     "grade": false,
     "grade_id": "def_c_of_t",
     "locked": true,
     "solution": false
    }
   },
   "outputs": [],
   "source": [
    "def construir_c_de_t(f,a,b):\n",
    "    def c(t, prec=1e-8):\n",
    "        # Para cada  t:\n",
    "        # - constrói o segmento  s_t,\n",
    "        # - restringe a função  f  a este segmento,\n",
    "        # - faz a bisseção\n",
    "        # - retorna o ponto (do segmento) correspondente\n",
    "        s_t = segmento(a(t), b(t))\n",
    "        def f_t(r):\n",
    "            return f(s_t(r))\n",
    "        r_zero = bissecao(f_t, 0,1, prec)\n",
    "        return s_t(r_zero)\n",
    "    return c"
   ]
  },
  {
   "cell_type": "markdown",
   "metadata": {},
   "source": [
    "### Questão 8: Gráficos de uma lista de pontos\n",
    "\n",
    "Se construirmos a curva $c(t)$ e depois calcularmos alguns valores, vamos ter uma lista de pontos.\n",
    "Para fazer uma curva, temos que ter uma lista de coordenadas x, e depois uma lista de coordenadas y.\n",
    "Escreva uma função `linha(pts)` que recebe uma lista de pontos e faz o gráfico."
   ]
  },
  {
   "cell_type": "code",
   "execution_count": null,
   "metadata": {
    "collapsed": true,
    "deletable": false,
    "nbgrader": {
     "checksum": "6ff2b428b89023ba7b7db114b7124154",
     "grade": false,
     "grade_id": "def_linha",
     "locked": false,
     "solution": true
    }
   },
   "outputs": [],
   "source": [
    "# YOUR CODE HERE\n",
    "raise NotImplementedError()"
   ]
  },
  {
   "cell_type": "markdown",
   "metadata": {},
   "source": [
    "Em particular, `linha([p,q])` desenha o segmento $\\overline{p \\, q}$ ;-)"
   ]
  },
  {
   "cell_type": "code",
   "execution_count": null,
   "metadata": {
    "collapsed": false,
    "deletable": false,
    "nbgrader": {
     "checksum": "81a3968a18a40d0dfdb066fabb83c70c",
     "grade": true,
     "grade_id": "graf_linha_1",
     "locked": false,
     "points": 2,
     "solution": true
    }
   },
   "outputs": [],
   "source": [
    "# YOUR CODE HERE\n",
    "raise NotImplementedError()"
   ]
  },
  {
   "cell_type": "code",
   "execution_count": null,
   "metadata": {
    "collapsed": false,
    "deletable": false,
    "nbgrader": {
     "checksum": "5ae59a108488d1ffd62b373aa94b47e2",
     "grade": true,
     "grade_id": "graf_linha_2",
     "locked": false,
     "points": 2,
     "solution": true
    }
   },
   "outputs": [],
   "source": [
    "# YOUR CODE HERE\n",
    "raise NotImplementedError()"
   ]
  },
  {
   "cell_type": "markdown",
   "metadata": {},
   "source": [
    "### Questão 9: Traçando a curva $c(t)$"
   ]
  },
  {
   "cell_type": "markdown",
   "metadata": {},
   "source": [
    "Faça um gráfico da curva $c(t)$ usando os dois segmentos \"totalmente positivos\" e \"totalmente negativos\" que você achou na questão 4."
   ]
  },
  {
   "cell_type": "code",
   "execution_count": null,
   "metadata": {
    "collapsed": true
   },
   "outputs": [],
   "source": [
    "s_plus = s\n",
    "s_minus = s_minus"
   ]
  },
  {
   "cell_type": "code",
   "execution_count": null,
   "metadata": {
    "collapsed": false,
    "deletable": false,
    "nbgrader": {
     "checksum": "a5b9870ee1bb42569b3ad782dacb18d9",
     "grade": false,
     "grade_id": "pts_c",
     "locked": false,
     "solution": true
    }
   },
   "outputs": [],
   "source": [
    "# YOUR CODE HERE\n",
    "raise NotImplementedError()"
   ]
  },
  {
   "cell_type": "code",
   "execution_count": null,
   "metadata": {
    "collapsed": false,
    "deletable": false,
    "nbgrader": {
     "checksum": "8f5512bb61f78af04062cfeb4e011227",
     "grade": true,
     "grade_id": "tracar_c",
     "locked": false,
     "points": 3,
     "solution": true
    }
   },
   "outputs": [],
   "source": [
    "# YOUR CODE HERE\n",
    "raise NotImplementedError()"
   ]
  },
  {
   "cell_type": "markdown",
   "metadata": {},
   "source": [
    "Talvez você tenha escolhido a orientação \"errada\" para um dos segmentos (e em vez de ter um \"quadrado\", você tem um \"X\").\n",
    "Talvez você tenha escolhido a orientação \"certa\".\n",
    "\n",
    "Construa o outro caso, ligando os segmentos \"ao contrário\".\n",
    "A função seguinte troca a orientação de um segmento pra você."
   ]
  },
  {
   "cell_type": "code",
   "execution_count": null,
   "metadata": {
    "collapsed": true,
    "deletable": false,
    "nbgrader": {
     "checksum": "1a762f286e661d9ece26fc23f7b3d368",
     "grade": false,
     "grade_id": "def_reverse_seg",
     "locked": true,
     "solution": false
    }
   },
   "outputs": [],
   "source": [
    "def s_minus_rev(t):\n",
    "    return s_minus(1-t)"
   ]
  },
  {
   "cell_type": "code",
   "execution_count": null,
   "metadata": {
    "collapsed": false
   },
   "outputs": [],
   "source": [
    "c = construir_c_de_t(f, s, s_minus_rev)\n",
    "ts = arange(0,1,0.1)\n",
    "ct = [c(t) for t in ts]"
   ]
  },
  {
   "cell_type": "code",
   "execution_count": null,
   "metadata": {
    "collapsed": false,
    "deletable": false,
    "nbgrader": {
     "checksum": "6b0722bfa8d39d3de82beb19f057de34",
     "grade": true,
     "grade_id": "c_reversa",
     "locked": false,
     "points": 3,
     "solution": true
    }
   },
   "outputs": [],
   "source": [
    "# YOUR CODE HERE\n",
    "raise NotImplementedError()"
   ]
  },
  {
   "cell_type": "markdown",
   "metadata": {},
   "source": [
    "## Quarta parte: Achando um zero de $g$ também\n",
    "\n",
    "Até aqui, _nada_ depende de $g$.\n",
    "Mas agora vamos pedir que $g$ **troque de sinal** na curva $c(t)$."
   ]
  },
  {
   "cell_type": "code",
   "execution_count": null,
   "metadata": {
    "collapsed": true,
    "deletable": false,
    "nbgrader": {
     "checksum": "288ae7d09044090c56cd064509408719",
     "grade": false,
     "grade_id": "def_g",
     "locked": true,
     "solution": false
    }
   },
   "outputs": [],
   "source": [
    "def g(p):\n",
    "    x,y = p\n",
    "    return -cos(x) - sin(y**2) + x*y"
   ]
  },
  {
   "cell_type": "markdown",
   "metadata": {},
   "source": [
    "Verificando que realmente troca de sinal:"
   ]
  },
  {
   "cell_type": "code",
   "execution_count": null,
   "metadata": {
    "collapsed": false
   },
   "outputs": [],
   "source": [
    "g(c(0)), g(c(1))"
   ]
  },
  {
   "cell_type": "markdown",
   "metadata": {},
   "source": [
    "Agora, podemos fazer bisseção na função $g \\circ c$!\n",
    "\n",
    "### Questão 10: Escreva a função"
   ]
  },
  {
   "cell_type": "code",
   "execution_count": null,
   "metadata": {
    "collapsed": true,
    "deletable": false,
    "nbgrader": {
     "checksum": "7fcd02e6597c28d3389bc8330d110214",
     "grade": false,
     "grade_id": "def_g_bola_c",
     "locked": false,
     "solution": true
    }
   },
   "outputs": [],
   "source": [
    "def g_bola_c(r):\n",
    "    # YOUR CODE HERE\n",
    "    raise NotImplementedError()"
   ]
  },
  {
   "cell_type": "code",
   "execution_count": null,
   "metadata": {
    "collapsed": true,
    "deletable": false,
    "nbgrader": {
     "checksum": "2e1f5c9bbfd0ec060009acdca0b0585e",
     "grade": true,
     "grade_id": "g_bola_c_1",
     "locked": true,
     "points": 3,
     "solution": false
    }
   },
   "outputs": [],
   "source": [
    "for r in arange(0,1,0.1):\n",
    "    assert (g_bola_c(r) == g(c(r)))"
   ]
  },
  {
   "cell_type": "markdown",
   "metadata": {},
   "source": [
    "### Questão 11: A raiz comum\n",
    "\n",
    "Encontre uma raiz de $g \\circ c$.\n",
    "Como na curva $c(t)$ os pontos são raizes de $f$, você terá encontrado uma raiz comum!"
   ]
  },
  {
   "cell_type": "code",
   "execution_count": null,
   "metadata": {
    "collapsed": false,
    "deletable": false,
    "nbgrader": {
     "checksum": "c5692017b26c26f761668c1d52cb6e2d",
     "grade": true,
     "grade_id": "raiz_comum",
     "locked": false,
     "points": 2,
     "solution": true
    }
   },
   "outputs": [],
   "source": [
    "# YOUR CODE HERE\n",
    "raise NotImplementedError()"
   ]
  },
  {
   "cell_type": "code",
   "execution_count": null,
   "metadata": {
    "collapsed": false
   },
   "outputs": [],
   "source": [
    "f(raiz_comum), g(raiz_comum)"
   ]
  },
  {
   "cell_type": "code",
   "execution_count": null,
   "metadata": {
    "collapsed": true,
    "deletable": false,
    "nbgrader": {
     "checksum": "7e18fea8dcde7efeaad9074a6ceb1995",
     "grade": true,
     "grade_id": "v_raiz_comum",
     "locked": true,
     "points": 2,
     "solution": false
    }
   },
   "outputs": [],
   "source": [
    "assert( abs(f(raiz_comum)) < 1e-7 )\n",
    "assert( abs(g(raiz_comum)) < 1e-7 )"
   ]
  },
  {
   "cell_type": "markdown",
   "metadata": {},
   "source": [
    "### Questão 12: Mais precisão\n",
    "\n",
    "Agora, modifique alguma coisa acima para encontrar uma raiz mais precisa de $(f,g)$."
   ]
  },
  {
   "cell_type": "code",
   "execution_count": null,
   "metadata": {
    "collapsed": true,
    "deletable": false,
    "nbgrader": {
     "checksum": "712083d251fba64e1cee93b082b79f44",
     "grade": true,
     "grade_id": "nova_g",
     "locked": false,
     "points": 2,
     "solution": true
    }
   },
   "outputs": [],
   "source": [
    "def g_bola_c(r):\n",
    "    # YOUR CODE HERE\n",
    "    raise NotImplementedError()"
   ]
  },
  {
   "cell_type": "code",
   "execution_count": null,
   "metadata": {
    "collapsed": false,
    "deletable": false,
    "nbgrader": {
     "checksum": "c01319dd6912cb1dd20343576f6afeaf",
     "grade": true,
     "grade_id": "encontrando_precisao",
     "locked": false,
     "points": 4,
     "solution": true
    }
   },
   "outputs": [],
   "source": [
    "# YOUR CODE HERE\n",
    "raise NotImplementedError()"
   ]
  },
  {
   "cell_type": "code",
   "execution_count": null,
   "metadata": {
    "collapsed": false,
    "deletable": false,
    "nbgrader": {
     "checksum": "e5639b483be11ef93dfbcb53fb633c05",
     "grade": false,
     "grade_id": "raiz_comum_precisa",
     "locked": true,
     "solution": false
    }
   },
   "outputs": [],
   "source": [
    "f(raiz_comum), g(raiz_comum)"
   ]
  }
 ],
 "metadata": {
  "kernelspec": {
   "display_name": "Python 3",
   "language": "python",
   "name": "python3"
  },
  "language_info": {
   "codemirror_mode": {
    "name": "ipython",
    "version": 3
   },
   "file_extension": ".py",
   "mimetype": "text/x-python",
   "name": "python",
   "nbconvert_exporter": "python",
   "pygments_lexer": "ipython3",
   "version": "3.5.2"
  }
 },
 "nbformat": 4,
 "nbformat_minor": 0
}
