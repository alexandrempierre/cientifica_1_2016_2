{
 "cells": [
  {
   "cell_type": "code",
   "execution_count": 1,
   "metadata": {
    "collapsed": false,
    "deletable": false,
    "nbgrader": {
     "checksum": "b33c02bafa2e0acdc3374592604ee504",
     "grade": false,
     "grade_id": "pylab",
     "locked": true,
     "solution": false
    }
   },
   "outputs": [
    {
     "name": "stdout",
     "output_type": "stream",
     "text": [
      "Populating the interactive namespace from numpy and matplotlib\n"
     ]
    }
   ],
   "source": [
    "%pylab inline"
   ]
  },
  {
   "cell_type": "markdown",
   "metadata": {},
   "source": [
    "# Adaptativo recursivo"
   ]
  },
  {
   "cell_type": "markdown",
   "metadata": {},
   "source": [
    "## Questão 1\n",
    "\n",
    "Escreva uma função recursiva `improve` que calcula a integral de $f$ no intervalo $[a,b]$ por divisões sucessivas,\n",
    "e que pára quando o erro entre a estimativa \"grande\" e a estimativa \"mais fina\" fica menor do que `tol`.\n",
    "\n",
    "O método usado pode variar, e ele é passado em argumento como `rule`, uma função que recebe uma função e um intervalo e retorna a aproximação neste intervalo.\n",
    "Veja nas caixas abaixo qual o tipo de função que vai ser passado em `rule`."
   ]
  },
  {
   "cell_type": "code",
   "execution_count": 2,
   "metadata": {
    "collapsed": false,
    "deletable": false,
    "nbgrader": {
     "checksum": "e531b203422dddd6ef092444a44de653",
     "grade": false,
     "grade_id": "def_improve",
     "locked": false,
     "solution": true
    }
   },
   "outputs": [],
   "source": [
    "def improve(rule, f,a,b, tol=1e-12):\n",
    "    I = rule(f,a,b)\n",
    "    m = (a+b)/2\n",
    "    I1 = rule(f,a,m) + rule(f,m,b)\n",
    "    if abs(I-I1) > tol:\n",
    "        return improve(rule,f,a,m,tol) + improve(rule,f,m,b,tol)\n",
    "    \n",
    "    return I1"
   ]
  },
  {
   "cell_type": "markdown",
   "metadata": {},
   "source": [
    "Vejamos se ela funciona:"
   ]
  },
  {
   "cell_type": "code",
   "execution_count": 3,
   "metadata": {
    "collapsed": false
   },
   "outputs": [],
   "source": [
    "def midpoint(f,a,b):\n",
    "    m = (a+b)/2\n",
    "    return f(m)*(b-a)"
   ]
  },
  {
   "cell_type": "code",
   "execution_count": 4,
   "metadata": {
    "collapsed": false
   },
   "outputs": [
    {
     "data": {
      "text/plain": [
       "1.0000000005982468"
      ]
     },
     "execution_count": 4,
     "metadata": {},
     "output_type": "execute_result"
    }
   ],
   "source": [
    "# deveria dar quase 1!\n",
    "improve(midpoint, sin, 0, pi/2)"
   ]
  },
  {
   "cell_type": "code",
   "execution_count": 5,
   "metadata": {
    "collapsed": false,
    "deletable": false,
    "nbgrader": {
     "checksum": "6e47f80bf22f8e888fc7c9fa69b977fb",
     "grade": true,
     "grade_id": "test_improve1",
     "locked": true,
     "points": 2,
     "solution": false
    }
   },
   "outputs": [],
   "source": [
    "assert( abs(improve(midpoint, sin, 0, pi/2) - 1) < 1e-8 )\n",
    "assert( abs(improve(midpoint, exp, 0, 2) - (exp(2) - 1)) < 1e-8 )"
   ]
  },
  {
   "cell_type": "code",
   "execution_count": 6,
   "metadata": {
    "collapsed": false
   },
   "outputs": [],
   "source": [
    "gl2_cst = sqrt(1/3)/2\n",
    "def gaussleg2(f,a,b):\n",
    "    m = (a+b)/2\n",
    "    h = (b-a)\n",
    "    dx = h*gl2_cst\n",
    "    x, y = m-dx, m+dx\n",
    "    return h*(f(x) + f(y))/2"
   ]
  },
  {
   "cell_type": "code",
   "execution_count": 7,
   "metadata": {
    "collapsed": true,
    "deletable": false,
    "nbgrader": {
     "checksum": "7bb7a9e227c1c096533ebc1cb56d885c",
     "grade": true,
     "grade_id": "test_improve2",
     "locked": true,
     "points": 2,
     "solution": false
    }
   },
   "outputs": [],
   "source": [
    "assert( abs(improve(gaussleg2, sin, 0, pi/2) - 1) < 1e-9 )\n",
    "assert( abs(improve(gaussleg2, exp, 0, 2) - (exp(2) - 1)) < 1e-9 )"
   ]
  },
  {
   "cell_type": "markdown",
   "metadata": {},
   "source": [
    "O método de 3 pontos (e ordem 6) de Gauss-Legendre, para ter um método a mais:"
   ]
  },
  {
   "cell_type": "code",
   "execution_count": 8,
   "metadata": {
    "collapsed": true
   },
   "outputs": [],
   "source": [
    "gl3_cst = sqrt(3/5)/2\n",
    "def gaussleg3(f,a,b):\n",
    "    h = (b-a)\n",
    "    m = (a+b)/2\n",
    "    dx = h*gl3_cst\n",
    "    x,y = m-dx, m+dx\n",
    "    return h*( 8*f(m) + 5*(f(x) + f(y)) )/18"
   ]
  },
  {
   "cell_type": "code",
   "execution_count": 9,
   "metadata": {
    "collapsed": true,
    "deletable": false,
    "nbgrader": {
     "checksum": "c5303cef1403aaafc605d7f77ef9e038",
     "grade": true,
     "grade_id": "test_improve3",
     "locked": true,
     "points": 1,
     "solution": false
    }
   },
   "outputs": [],
   "source": [
    "assert( abs(improve(gaussleg3, sin, 0, pi/2) - 1) < 1e-10 )\n",
    "assert( abs(improve(gaussleg3, exp, 0, 2) - (exp(2) - 1)) < 1e-10 )"
   ]
  },
  {
   "cell_type": "markdown",
   "metadata": {},
   "source": [
    "## Questão 2: \"vetorizando\"\n",
    "\n",
    "Para simplificar a nossa vida futura, escreva a função `vector_improve` que\n",
    "- pode receber um array (ou uma lista...) no último argumento (`tol`)\n",
    "- e retorna o array correspondente das várias integrais assim obtidas"
   ]
  },
  {
   "cell_type": "code",
   "execution_count": 10,
   "metadata": {
    "collapsed": true,
    "deletable": false,
    "nbgrader": {
     "checksum": "40a86c0e078c7b3513780ee0134eb3e3",
     "grade": false,
     "grade_id": "def_vector_improve",
     "locked": false,
     "solution": true
    }
   },
   "outputs": [],
   "source": [
    "def vector_improve(rule, f,a,b, tols):\n",
    "    I = []\n",
    "    for tol in tols:\n",
    "        I.append(improve(rule,f,a,b,tol))\n",
    "    return array(I)"
   ]
  },
  {
   "cell_type": "code",
   "execution_count": 11,
   "metadata": {
    "collapsed": false,
    "deletable": false,
    "nbgrader": {
     "checksum": "950591ccf5f8f622e54e81a22ada2ce4",
     "grade": true,
     "grade_id": "vector_improve_test",
     "locked": true,
     "points": 2,
     "solution": false
    }
   },
   "outputs": [],
   "source": [
    "tols = logspace(-20,-10,num=30,base=2)\n",
    "many_integrals = vector_improve(midpoint,sin,0,1,tols) \n",
    "assert isvector(many_integrals)\n",
    "assert len(many_integrals) == 30"
   ]
  },
  {
   "cell_type": "markdown",
   "metadata": {},
   "source": [
    "## Questão 3: erros reais\n",
    "\n",
    "Como você pode suspeitar dos `asserts` acima, a tolerância `1e-12` não parece ser seguida:"
   ]
  },
  {
   "cell_type": "code",
   "execution_count": 12,
   "metadata": {
    "collapsed": false
   },
   "outputs": [
    {
     "data": {
      "text/plain": [
       "5.9824678544373455e-10"
      ]
     },
     "execution_count": 12,
     "metadata": {},
     "output_type": "execute_result"
    }
   ],
   "source": [
    "abs(improve(midpoint, sin, 0, pi/2) - 1)"
   ]
  },
  {
   "cell_type": "markdown",
   "metadata": {},
   "source": [
    "Usando o parâmetro `tol`, faça um gráfico do erro real em função de `tol`, para as três regras de integração: ponto médio, Gauss-Legendre(2) e Gauss-Legendre(3).\n",
    "\n",
    "Faça um gráfico diferente para cada função, e não esqueça de comparar o erro real com a tolerância requisitada."
   ]
  },
  {
   "cell_type": "code",
   "execution_count": 13,
   "metadata": {
    "collapsed": true,
    "deletable": false,
    "nbgrader": {
     "checksum": "8b1d6724d12d251b3dbd6771e9fdf02e",
     "grade": false,
     "grade_id": "tols_erro_real",
     "locked": true,
     "solution": false
    }
   },
   "outputs": [],
   "source": [
    "tols = logspace(-40,-10,num=30,base=2)"
   ]
  },
  {
   "cell_type": "code",
   "execution_count": 14,
   "metadata": {
    "collapsed": false,
    "deletable": false,
    "nbgrader": {
     "checksum": "6bbff8a54f1a737dc5c35bfdfe587bed",
     "grade": true,
     "grade_id": "tols_sin",
     "locked": false,
     "points": 2,
     "solution": true
    }
   },
   "outputs": [
    {
     "data": {
      "image/png": "[encoded data removed]",
      "text/plain": [
       "<matplotlib.figure.Figure at 0x7fe3c7dc1b00>"
      ]
     },
     "metadata": {},
     "output_type": "display_data"
    }
   ],
   "source": [
    "# Faça aqui o gráfico para o seno em [0,pi/2]\n",
    "rules={ 'Ponto Médio':midpoint, 'Gauss-Legendre(2)':gaussleg2, 'Gauss-Legendre(3)':gaussleg3 }\n",
    "\n",
    "def plota_erro(f,a,b,v):\n",
    "    global rules,tols\n",
    "    \n",
    "    ylabel('erro real')\n",
    "    xlabel('tolerância')\n",
    "    v = array([v]*len(tols))\n",
    "    for key,item in rules.items():\n",
    "        erro = abs(v - vector_improve(item,f,a,b,tols))\n",
    "        loglog(tols, erro, label=key)\n",
    "    legend(loc=0)\n",
    "\n",
    "plota_erro(sin,0,pi/2,1)"
   ]
  },
  {
   "cell_type": "code",
   "execution_count": 15,
   "metadata": {
    "collapsed": false,
    "deletable": false,
    "nbgrader": {
     "checksum": "41fcbe717c27dd71c58407ddc4a70b73",
     "grade": true,
     "grade_id": "tols_exp",
     "locked": false,
     "points": 2,
     "solution": true
    }
   },
   "outputs": [
    {
     "data": {
      "image/png": "[encoded data removed]",
      "text/plain": [
       "<matplotlib.figure.Figure at 0x7fe3c7ba72e8>"
      ]
     },
     "metadata": {},
     "output_type": "display_data"
    }
   ],
   "source": [
    "# Faça aqui o gráfico para a exponencial\n",
    "\n",
    "plota_erro(exp,0,2,e**2-1)"
   ]
  },
  {
   "cell_type": "markdown",
   "metadata": {},
   "source": [
    "Comente o que aconteceu."
   ]
  },
  {
   "cell_type": "markdown",
   "metadata": {
    "deletable": false,
    "nbgrader": {
     "checksum": "9993a1f157f4dbfae0d8ff6f2068b968",
     "grade": true,
     "grade_id": "coment_erro",
     "locked": false,
     "points": 2,
     "solution": true
    }
   },
   "source": [
    "Em cada chamada recursiva a `tol` era igual a inicial. Mas o intervalo passado na chamada recursiva tinha metade do tamanho. Com isso, a cada chamada se acrescentava um erro $\\varepsilon \\leq$ `tol`, a cada chamada. Ou seja, para um número total $n$ de chamadas, o erro seria $\\varepsilon \\leq n$`tol`.\n",
    "\n",
    "O erro diminui a cada chamada, mas a tolerância também aumenta. Então o resultado que se quer não está sendo obtido."
   ]
  },
  {
   "cell_type": "markdown",
   "metadata": {},
   "source": [
    "## Questão 4: Contando o número de intervalos produzidos\n",
    "\n",
    "Esperamos que os métodos de mais alta ordem usem menos intervalos (mas mais pontos em cada intervalo).\n",
    "Modifique a função `improve` para que ela agora retorne também o número de intervalos usados.\n",
    "\n",
    "Exemplos:\n",
    "- Se você rodou uma vez apenas, a função deve retornar 2 (pois você vai fazer uma subdivisão para confirmar que o erro está pequeno!)\n",
    "- Se a função começou no intervalo [0,1] e dividiu até aplicar a regra nos intervalos [0,1/4], [1/4,1/2], [1/2,5/8], [5/8,3/4], [3/4,1], você deve retornar 5.  Não leve em consideração que você também calculou nos intervalos [0,1], [0,1/2], [1/2,1], [1/2,3/4]."
   ]
  },
  {
   "cell_type": "code",
   "execution_count": 16,
   "metadata": {
    "collapsed": false
   },
   "outputs": [],
   "source": [
    "def improve_count(rule, f,a,b, tol=1e-12):\n",
    "    m = (a+b)/2\n",
    "    guess = rule(f,a,b)\n",
    "    new_guess = rule(f,a,m) + rule(f,m,b)\n",
    "    err = guess - new_guess\n",
    "    if abs(err) < tol:\n",
    "        return new_guess, 2\n",
    "    else:\n",
    "        left,  nleft  = improve_count(rule,f,a,m, tol)\n",
    "        right, nright = improve_count(rule,f,m,b, tol)\n",
    "        return left+right, nleft+nright"
   ]
  },
  {
   "cell_type": "code",
   "execution_count": 17,
   "metadata": {
    "collapsed": false,
    "deletable": false,
    "nbgrader": {
     "checksum": "012b5e5d7e63f6298154c94bc248d5f6",
     "grade": true,
     "grade_id": "test_ic_1",
     "locked": true,
     "points": 2,
     "solution": false
    }
   },
   "outputs": [],
   "source": [
    "v,n = improve_count(midpoint, sin,0,1, tol=1e-2)\n",
    "assert(n == 4)\n",
    "v,n = improve_count(midpoint, sin,0,1, tol=1e-3)\n",
    "assert(n == 6)"
   ]
  },
  {
   "cell_type": "code",
   "execution_count": 18,
   "metadata": {
    "collapsed": false,
    "deletable": false,
    "nbgrader": {
     "checksum": "38c3703f4c86404d491180c870f366fb",
     "grade": true,
     "grade_id": "test_ic_2",
     "locked": true,
     "points": 2,
     "solution": false
    }
   },
   "outputs": [],
   "source": [
    "v,n = improve_count(gaussleg2, sin,0,1, tol=1e-3)\n",
    "assert(n == 2)\n",
    "v,n = improve_count(gaussleg3, sin,0,1, tol=1e-6)\n",
    "assert(n == 2)"
   ]
  },
  {
   "cell_type": "markdown",
   "metadata": {},
   "source": [
    "## Questão 5: gráficos\n",
    "\n",
    "Vamos comparar o que é comparável: o número de vezes que $f$ é chamada e o erro final obtido.\n",
    "\n",
    "Não esqueça que `improve_count` retorna apenas o número de intervalos produzidos, não o número de vezes que $f$ foi chamada.\n",
    "Para simplificar, não estamos levando em conta o fato que $f$ foi chamada em outros intervalos também (pela forma como `improve_count` conta), mas apenas o \"melhor possível\" onde um \"oráculo\" (veja https://en.wikipedia.org/wiki/Oracle_(software_testing)) nos daria a decomposição de [a,b] em intervalos."
   ]
  },
  {
   "cell_type": "markdown",
   "metadata": {},
   "source": [
    "Primeiro, vetorize:"
   ]
  },
  {
   "cell_type": "code",
   "execution_count": 19,
   "metadata": {
    "collapsed": false,
    "deletable": false,
    "nbgrader": {
     "checksum": "9ebb25d3b5ee1e355940da69f25531d2",
     "grade": true,
     "grade_id": "vector_ic",
     "locked": false,
     "points": 1,
     "solution": true
    }
   },
   "outputs": [],
   "source": [
    "def improve(rule, f,a,b, tol=1e-12):\n",
    "    I = rule(f,a,b)\n",
    "    m = (a+b)/2\n",
    "    I1 = rule(f,a,m) + rule(f,m,b)\n",
    "    if abs(I-I1) > tol:\n",
    "        return improve(rule,f,a,m,tol) + improve(rule,f,m,b,tol)\n",
    "    \n",
    "    return I1\n",
    "\n",
    "def vector_improve_count(rule,f,a,b,tols):\n",
    "    I, n = [], []\n",
    "    for tol in tols:\n",
    "        It, nt = improve_count(rule,f,a,b,tol)\n",
    "        I.append(It)\n",
    "        n.append(nt)\n",
    "    return array(I), array(n)"
   ]
  },
  {
   "cell_type": "markdown",
   "metadata": {},
   "source": [
    "E agora faça (de novo, para `sin` e para `exp`) um gráfico do erro de cada método em função do número de vezes que cada um calcula $f$."
   ]
  },
  {
   "cell_type": "code",
   "execution_count": 20,
   "metadata": {
    "collapsed": false,
    "deletable": false,
    "nbgrader": {
     "checksum": "0b1b9e8f63b81a9e84529fa5940ba5cb",
     "grade": true,
     "grade_id": "graf_err_n_sin",
     "locked": false,
     "points": 2,
     "solution": true
    }
   },
   "outputs": [
    {
     "data": {
      "image/png": "[encoded data removed]",
      "text/plain": [
       "<matplotlib.figure.Figure at 0x7fe3c7b9a128>"
      ]
     },
     "metadata": {},
     "output_type": "display_data"
    }
   ],
   "source": [
    "# seno em [0,pi/2]\n",
    "rule_points = { 'Ponto Médio':1, 'Gauss-Legendre(2)':2, 'Gauss-Legendre(3)':3 }\n",
    "def plota_erro_n(f,a,b,v):\n",
    "    global rules,tols\n",
    "    \n",
    "    ylabel('erro real')\n",
    "    xlabel('quantidade de intervalos')\n",
    "    for key,item in rules.items():\n",
    "        #erro,count = vector_improve_count_f(item,rule_points[key],f,a,b,tols)\n",
    "        erro,count = vector_improve_count(item,f,a,b,tols)\n",
    "        erro = abs(v - erro)\n",
    "        count *= rule_points[key]\n",
    "        loglog(count, erro, label=key)\n",
    "    legend(loc=0)\n",
    "\n",
    "plota_erro_n(sin,0,pi/2,1)"
   ]
  },
  {
   "cell_type": "code",
   "execution_count": 21,
   "metadata": {
    "collapsed": false,
    "deletable": false,
    "nbgrader": {
     "checksum": "4f7552c6e34db77e6301b6f248ae0afb",
     "grade": true,
     "grade_id": "graf_err_n_exp",
     "locked": false,
     "points": 2,
     "solution": true
    }
   },
   "outputs": [
    {
     "data": {
      "image/png": "[encoded data removed]",
      "text/plain": [
       "<matplotlib.figure.Figure at 0x7fe3c77bb0f0>"
      ]
     },
     "metadata": {},
     "output_type": "display_data"
    }
   ],
   "source": [
    "# exp em [0,2]\n",
    "plota_erro_n(exp,0,2,e**2-1)"
   ]
  },
  {
   "cell_type": "markdown",
   "metadata": {},
   "source": [
    "# Acertando o erro\n",
    "\n",
    "Note que, se no intervalo [a,b] queremos um erro menor do que `tol`, precisamos que no intervalo\n",
    "[a,m] e no intervalo [m,b] o erro seja menor do que `tol/2`."
   ]
  },
  {
   "cell_type": "markdown",
   "metadata": {},
   "source": [
    "## Questão 6: acertando a função\n",
    "\n",
    "Assim, modifique (bem pouco!) a função `improve_count` (você não deve precisar refazer `vector_improve_count`...)\n",
    "para que o erro nos intervalos \"encaixados\" seja também ele \"adaptado\" para que tol possa ser de fato uma garantia de erro (absoluto) máximo."
   ]
  },
  {
   "cell_type": "code",
   "execution_count": 22,
   "metadata": {
    "collapsed": true,
    "deletable": false,
    "nbgrader": {
     "checksum": "22a6f21ae69ceb244623669b97352501",
     "grade": false,
     "grade_id": "improve_count_err",
     "locked": false,
     "solution": true
    }
   },
   "outputs": [],
   "source": [
    "def improve_count(rule, f,a,b, tol=1e-12):\n",
    "    m = (a+b)/2\n",
    "    guess = rule(f,a,b)\n",
    "    new_guess = rule(f,a,m) + rule(f,m,b)\n",
    "    err = guess - new_guess\n",
    "    if abs(err) < tol:\n",
    "        return new_guess, 2\n",
    "    else:\n",
    "        left,  nleft  = improve_count(rule,f,a,m, tol/2)\n",
    "        right, nright = improve_count(rule,f,m,b, tol/2)\n",
    "        return left+right, nleft+nright"
   ]
  },
  {
   "cell_type": "code",
   "execution_count": 23,
   "metadata": {
    "collapsed": false,
    "deletable": false,
    "nbgrader": {
     "checksum": "57e6b3c4d230c18c2d24b45f21059ff3",
     "grade": true,
     "grade_id": "correct_error_n",
     "locked": true,
     "points": 2,
     "solution": false
    }
   },
   "outputs": [],
   "source": [
    "v,n = improve_count(midpoint, sin, 0, pi/2, tol=1e-8)\n",
    "assert( abs(v - 1) < 1e-8 )\n",
    "assert( n > 5000 )\n",
    "\n",
    "v,n = improve_count(midpoint, exp, 0, 2, tol=1e-8)\n",
    "assert( abs(v - (exp(2) - 1)) < 1e-8 )\n",
    "assert( n > 20000 )"
   ]
  },
  {
   "cell_type": "code",
   "execution_count": 24,
   "metadata": {
    "collapsed": true,
    "deletable": false,
    "nbgrader": {
     "checksum": "ff356d6fbf709ec155b64303de59c027",
     "grade": true,
     "grade_id": "correct_error_2",
     "locked": true,
     "points": 2,
     "solution": false
    }
   },
   "outputs": [],
   "source": [
    "assert( abs(improve_count(gaussleg2, sin, 0, pi/2)[0] - 1) < 1e-12 )\n",
    "assert( abs(improve_count(gaussleg3, exp, 0, 2)[0] - (exp(2) - 1)) < 1e-12 )"
   ]
  },
  {
   "cell_type": "markdown",
   "metadata": {},
   "source": [
    "## Questão 7: uma integral mais difícil\n",
    "\n",
    "Se as funções não oscilam muito, é relativamente fácil calcular uma integral bem precisa.\n",
    "Também se as funções não têm derivadas muito grandes.\n",
    "\n",
    "Vamos aqui olhar para uma combinação maléfica disso:"
   ]
  },
  {
   "cell_type": "code",
   "execution_count": 25,
   "metadata": {
    "collapsed": true,
    "deletable": false,
    "nbgrader": {
     "checksum": "79ff7d623d41b0f74f0df4860bdce511",
     "grade": false,
     "grade_id": "malefica",
     "locked": true,
     "solution": false
    }
   },
   "outputs": [],
   "source": [
    "def malefica(x):\n",
    "    return exp(x**3) * sin(10*x)"
   ]
  },
  {
   "cell_type": "code",
   "execution_count": 26,
   "metadata": {
    "collapsed": false,
    "deletable": false,
    "nbgrader": {
     "checksum": "f4dfdd176197230160b0db20281aab51",
     "grade": false,
     "grade_id": "gl3_mal",
     "locked": true,
     "solution": false
    },
    "scrolled": true
   },
   "outputs": [
    {
     "data": {
      "text/plain": [
       "(75.945956753759333, 366)"
      ]
     },
     "execution_count": 26,
     "metadata": {},
     "output_type": "execute_result"
    }
   ],
   "source": [
    "improve_count(gaussleg3, malefica, -4, 2, tol=1e-8)"
   ]
  },
  {
   "cell_type": "code",
   "execution_count": 27,
   "metadata": {
    "collapsed": false,
    "deletable": false,
    "nbgrader": {
     "checksum": "57d41d492921693147d801413632c067",
     "grade": false,
     "grade_id": "gl2_mal",
     "locked": true,
     "solution": false
    }
   },
   "outputs": [
    {
     "data": {
      "text/plain": [
       "(75.945956755584533, 3004)"
      ]
     },
     "execution_count": 27,
     "metadata": {},
     "output_type": "execute_result"
    }
   ],
   "source": [
    "improve_count(gaussleg2, malefica, -4, 2, tol=1e-8)"
   ]
  },
  {
   "cell_type": "code",
   "execution_count": 28,
   "metadata": {
    "collapsed": false,
    "deletable": false,
    "nbgrader": {
     "checksum": "b0f89968202af987a7d8711258d277b8",
     "grade": false,
     "grade_id": "midp_mal",
     "locked": true,
     "solution": false
    }
   },
   "outputs": [
    {
     "data": {
      "text/plain": [
       "(75.945956758695502, 178880)"
      ]
     },
     "execution_count": 28,
     "metadata": {},
     "output_type": "execute_result"
    }
   ],
   "source": [
    "# Não tente fazer 1e-8 em casa\n",
    "improve_count(midpoint, malefica, -4, 2, tol=1e-6)"
   ]
  },
  {
   "cell_type": "markdown",
   "metadata": {},
   "source": [
    "Vejamos o que a biblioteca do Python (que chama rotinas *mágicas* em FORTRAN) diz pra gente:"
   ]
  },
  {
   "cell_type": "code",
   "execution_count": 29,
   "metadata": {
    "collapsed": false
   },
   "outputs": [
    {
     "data": {
      "text/plain": [
       "(75.94595675562053, 7.409422899828305e-09)"
      ]
     },
     "execution_count": 29,
     "metadata": {},
     "output_type": "execute_result"
    }
   ],
   "source": [
    "from scipy.integrate import quad\n",
    "# Valor calculado, erro estimado\n",
    "quad(malefica,-4,2)"
   ]
  },
  {
   "cell_type": "markdown",
   "metadata": {},
   "source": [
    "Qual parte desta função é \"pior\"?\n",
    "Faça alguns testes, e depois explique."
   ]
  },
  {
   "cell_type": "code",
   "execution_count": 30,
   "metadata": {
    "collapsed": false
   },
   "outputs": [
    {
     "data": {
      "image/png": "[encoded data removed]",
      "text/plain": [
       "<matplotlib.figure.Figure at 0x7fe3c7a15ac8>"
      ]
     },
     "metadata": {},
     "output_type": "display_data"
    },
    {
     "data": {
      "image/png": "[encoded data removed]",
      "text/plain": [
       "<matplotlib.figure.Figure at 0x7fe3c79b2a58>"
      ]
     },
     "metadata": {},
     "output_type": "display_data"
    }
   ],
   "source": [
    "x = linspace(-4,2,100)\n",
    "y = malefica(x)\n",
    "\n",
    "figure(1)\n",
    "grid(True,which='both')\n",
    "yscale('symlog')\n",
    "title(\"Escala symlog\")\n",
    "plot(x,y)\n",
    "\n",
    "figure(2)\n",
    "grid(True,which='both')\n",
    "title(\"Escala linear\")\n",
    "plot(x,y);"
   ]
  },
  {
   "cell_type": "code",
   "execution_count": 31,
   "metadata": {
    "collapsed": false,
    "deletable": false,
    "nbgrader": {
     "checksum": "b1f0f1be525a0016e1e17707183900f7",
     "grade": true,
     "grade_id": "malefica_testes",
     "locked": false,
     "points": 2,
     "solution": true
    }
   },
   "outputs": [
    {
     "data": {
      "text/plain": [
       "((-0.10009484326443512, 124), (76.046051598883764, 224))"
      ]
     },
     "execution_count": 31,
     "metadata": {},
     "output_type": "execute_result"
    }
   ],
   "source": [
    "improve_count(gaussleg3, malefica, -4,0, tol=1e-8/2), improve_count(gaussleg3, malefica, 0,2, tol=1e-8/2)"
   ]
  },
  {
   "cell_type": "code",
   "execution_count": 32,
   "metadata": {
    "collapsed": false
   },
   "outputs": [
    {
     "data": {
      "text/plain": [
       "((-0.10009484325716556, 810), (76.046051598857488, 2066))"
      ]
     },
     "execution_count": 32,
     "metadata": {},
     "output_type": "execute_result"
    }
   ],
   "source": [
    "improve_count(gaussleg2, malefica, -4,0, tol=1e-8/2), improve_count(gaussleg2, malefica, 0,2, tol=1e-8/2)"
   ]
  },
  {
   "cell_type": "code",
   "execution_count": 33,
   "metadata": {
    "collapsed": false
   },
   "outputs": [
    {
     "data": {
      "text/plain": [
       "((-0.10007418467871623, 13378), (76.046051600574458, 135492))"
      ]
     },
     "execution_count": 33,
     "metadata": {},
     "output_type": "execute_result"
    }
   ],
   "source": [
    "improve_count(midpoint, malefica, -4,0, tol=1e-6/2), improve_count(midpoint, malefica, 0,2, tol=1e-6/2)"
   ]
  },
  {
   "cell_type": "markdown",
   "metadata": {
    "deletable": false,
    "nbgrader": {
     "checksum": "5def7b5c7f0c236bf168c75c6b326761",
     "grade": true,
     "grade_id": "malefica_ruim",
     "locked": false,
     "points": 2,
     "solution": true
    }
   },
   "source": [
    "Essa função \"piora\" quando $x$ aumenta e \"melhora\" quando $x$ diminui.\n",
    "\n",
    "O critério da quadratura adaptativa para subdividir um intervalo $[a,b]$ é verificar se, dado o ponto médio $m$, a soma da integral em $[a,m]$ com a integral em $[m,b]$ está próxima o suficiente da integral em $[a,b]$.\n",
    "\n",
    "A função `malefica()` tem dois \"pedaços\": $e^{x^3}$ e $\\sin(10x)$. O primeiro \"pedaço\" é uma função que cresce muito rápido com o aumento de $x$ e que decresce também muito rápido conforme $x$ diminui, chegando rapidamente a um módulo muito próximo do zero. O segundo pedaço é períodico, com período $\\lambda = \\displaystyle \\frac{\\pi}{10}$, ou seja, num intervalo real $[a,b]$ se $\\displaystyle \\vert b - a \\vert > \\frac{\\pi}{20}$ então $\\sin(10x)$ necessariamente troca de sinal em $[a,b]$.\n",
    "\n",
    "Com base no parágrafo acima e no Teorema do Valor Intermediário, concluo que `malefica(x)` também é períodica, de período $\\lambda = \\displaystyle \\frac{\\pi}{10}$ e que sua amplitude cresce e decresce nos mesmos sentidos que $x$. A amplitude máxima é atingida nos pontos em que $\\sin(10x) = 1$, ou seja, em que `malefica(x)` $= e^{x^3}$. Isso significa que o gráfico da função fica cada vez mais \"pontudo\" conforme $x$ aumenta e mais \"reto\" conforme $x$ diminui.\n",
    "\n",
    "No fim, a amplitude fica tão pequena para $x \\leq 0$ que a quantidade de intervalos necessária para calcular a integral quando $x \\in [-4,0]$ é bem pequena se comparada com $x \\in [0,2]$, já que no intervalo não-positivo o gráfico é mais \"reto\" e até um quadrado seria uma boa aproximação, enquanto na parte não-negativa e mais \"pontuda\", é necessário subdividir o intervalo várias vezes para aproximar bem as \"pontas\" mesmo que seja uma quadratura que use vários pontos como base.\n",
    "\n",
    "A \"melhor\" parte é onde a amplitude da `malefica(x)` é menor ou igual a `tol`$/L$ sendo $L$ uma compensação para o tamanho do intervalo. A \"pior\" parte é onde a amplitude é maior que $L$`tol`."
   ]
  },
  {
   "cell_type": "markdown",
   "metadata": {
    "collapsed": false
   },
   "source": [
    "## Questão 8: métodos uniformes\n",
    "\n",
    "Escreva a função gl3_uniform que integra uma função $f$ no intervalo $[a,b]$ dividido em $n$ partes iguais.\n",
    "Se inspire do código de `gaussleg3` (claro!)."
   ]
  },
  {
   "cell_type": "code",
   "execution_count": 34,
   "metadata": {
    "collapsed": false,
    "deletable": false,
    "nbgrader": {
     "checksum": "32423ef7636febd17482ae82a9c2cb46",
     "grade": false,
     "grade_id": "gl3_unif",
     "locked": false,
     "solution": true
    }
   },
   "outputs": [],
   "source": [
    "def gl3_uniform(f,a,b,n=100):\n",
    "    t = linspace(a,b,n+1)\n",
    "    h = t[1]-t[0]\n",
    "    meio_h = h/2\n",
    "    dx = h*gl3_cst\n",
    "    I = 0\n",
    "    for t0 in t[:-1]:\n",
    "        m = t0+meio_h\n",
    "        I += h*( 8*f(m) + 5*(f(m-dx) + f(m+dx)) )/18\n",
    "    return I\n",
    "\n",
    "def gl3_uniform(f,a,b,n=100):\n",
    "    t,h = a,(b-a)/n\n",
    "    meio_h = h/2\n",
    "    dx = h*gl3_cst\n",
    "    I = 0\n",
    "    for k in range(n):\n",
    "        m = a + h*k + meio_h\n",
    "        I += h*(8*f(m) + 5*(f(m-dx) + f(m+dx)))/18\n",
    "    return I"
   ]
  },
  {
   "cell_type": "code",
   "execution_count": 35,
   "metadata": {
    "collapsed": false,
    "deletable": false,
    "nbgrader": {
     "checksum": "91ee017013c4575638f9a6bab8c7616a",
     "grade": true,
     "grade_id": "gl3_unif_test",
     "locked": true,
     "points": 2,
     "solution": false
    }
   },
   "outputs": [],
   "source": [
    "I_unif = gl3_uniform(malefica,-4,2,366)\n",
    "assert (75.94 < I_unif < 75.97)"
   ]
  },
  {
   "cell_type": "markdown",
   "metadata": {},
   "source": [
    "Agora, vamos comparar a integral com intervalos uniformes e a integral com intervalos \"adaptados\":"
   ]
  },
  {
   "cell_type": "code",
   "execution_count": 36,
   "metadata": {
    "collapsed": false
   },
   "outputs": [
    {
     "data": {
      "text/plain": [
       "(75.945956755620543, 1550)"
      ]
     },
     "execution_count": 36,
     "metadata": {},
     "output_type": "execute_result"
    }
   ],
   "source": [
    "# Calculando uma \"boa aproximação\"\n",
    "approx, n = improve_count(gaussleg3, malefica, -4, 2, tol=2e-12)\n",
    "approx, n"
   ]
  },
  {
   "cell_type": "code",
   "execution_count": 37,
   "metadata": {
    "collapsed": false
   },
   "outputs": [
    {
     "data": {
      "text/plain": [
       "(2.6539041186879331e-08, 1.8612098529047216e-09)"
      ]
     },
     "execution_count": 37,
     "metadata": {},
     "output_type": "execute_result"
    }
   ],
   "source": [
    "I_adap, n_adap = improve_count(gaussleg3, malefica, -4, 2, tol=1e-8)\n",
    "abs(I_unif - approx), abs(I_adap - approx)"
   ]
  },
  {
   "cell_type": "markdown",
   "metadata": {},
   "source": [
    "Comente"
   ]
  },
  {
   "cell_type": "code",
   "execution_count": 38,
   "metadata": {
    "collapsed": false
   },
   "outputs": [
    {
     "data": {
      "text/plain": [
       "366"
      ]
     },
     "execution_count": 38,
     "metadata": {},
     "output_type": "execute_result"
    }
   ],
   "source": [
    "improve_count(gaussleg3, malefica, -4, 2, tol=1e-8)[1]"
   ]
  },
  {
   "cell_type": "markdown",
   "metadata": {
    "deletable": false,
    "nbgrader": {
     "checksum": "dbd2388332afda6b28a98eecea1a3822",
     "grade": true,
     "grade_id": "coment_unif",
     "locked": false,
     "points": 2,
     "solution": true
    }
   },
   "source": [
    "Com a mesma quantidade de intervalos a quadratura adaptativa consegue uma precisão maior que a quadratura uniforme. Isso se deve a como a divisão dos intervalos é feita: na quadratura uniforme todo o intervalo de integração é dividido __uniformemente__ (nããããão, sério?), enquanto na quadratura adaptativa um subintervalo só é divido se o erro associado à integração desse intervalo for maior que o estabelecido pela tolerância."
   ]
  },
  {
   "cell_type": "markdown",
   "metadata": {},
   "source": [
    "E enfim, vejamos quanto tempo cada uma leva:"
   ]
  },
  {
   "cell_type": "code",
   "execution_count": 39,
   "metadata": {
    "collapsed": false
   },
   "outputs": [
    {
     "name": "stdout",
     "output_type": "stream",
     "text": [
      "CPU times: user 60 ms, sys: 0 ns, total: 60 ms\n",
      "Wall time: 77.4 ms\n"
     ]
    },
    {
     "data": {
      "text/plain": [
       "(75.945956753759333, 366)"
      ]
     },
     "execution_count": 39,
     "metadata": {},
     "output_type": "execute_result"
    }
   ],
   "source": [
    "%time improve_count(gaussleg3, malefica, -4, 2, tol=1e-8)"
   ]
  },
  {
   "cell_type": "code",
   "execution_count": 40,
   "metadata": {
    "collapsed": false
   },
   "outputs": [
    {
     "name": "stdout",
     "output_type": "stream",
     "text": [
      "CPU times: user 20 ms, sys: 0 ns, total: 20 ms\n",
      "Wall time: 21.6 ms\n"
     ]
    },
    {
     "data": {
      "text/plain": [
       "75.945956782159584"
      ]
     },
     "execution_count": 40,
     "metadata": {},
     "output_type": "execute_result"
    }
   ],
   "source": [
    "%time gl3_uniform(malefica,-4,2,366)"
   ]
  },
  {
   "cell_type": "markdown",
   "metadata": {},
   "source": [
    "Comente as diferenças.\n",
    "Em particular, se você escreveu `gl3_uniform` com cuidado (vetorizada) deve haver uma diferença de mais de uma ordem de magnitude..."
   ]
  },
  {
   "cell_type": "markdown",
   "metadata": {
    "deletable": false,
    "nbgrader": {
     "checksum": "e5e5431bef544e8391e29122b5fec3db",
     "grade": true,
     "grade_id": "coment_time",
     "locked": false,
     "points": 2,
     "solution": true
    }
   },
   "source": [
    "Não consegui uma diferença tão grande como a descrita, mas minha quadratura uniforme levou em média $\\displaystyle \\frac{1}{3}$ do tempo da adaptativa. Atribuo essa diferença a algumas coisas que são feitas na adaptativa que não são feitas na uniforme, como: as chamadas recursivas (que tem um _overhead_ próprio), o cálculo dos parâmetros $h$, $dx$ e ponto médio (que é usado dentro da regra de integração e fora na função `improve()`)."
   ]
  },
  {
   "cell_type": "code",
   "execution_count": null,
   "metadata": {
    "collapsed": true
   },
   "outputs": [],
   "source": []
  }
 ],
 "metadata": {
  "kernelspec": {
   "display_name": "Python 3",
   "language": "python",
   "name": "python3"
  },
  "language_info": {
   "codemirror_mode": {
    "name": "ipython",
    "version": 3
   },
   "file_extension": ".py",
   "mimetype": "text/x-python",
   "name": "python",
   "nbconvert_exporter": "python",
   "pygments_lexer": "ipython3",
   "version": "3.5.2"
  }
 },
 "nbformat": 4,
 "nbformat_minor": 0
}
