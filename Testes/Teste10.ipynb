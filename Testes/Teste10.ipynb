{
 "cells": [
  {
   "cell_type": "code",
   "execution_count": 1,
   "metadata": {
    "collapsed": false
   },
   "outputs": [
    {
     "name": "stdout",
     "output_type": "stream",
     "text": [
      "Populating the interactive namespace from numpy and matplotlib\n"
     ]
    }
   ],
   "source": [
    "%pylab inline"
   ]
  },
  {
   "cell_type": "markdown",
   "metadata": {},
   "source": [
    "# Autovetores\n",
    "\n",
    "## Iteração de Rayleigh\n",
    "\n",
    "Vimos que podemos iterar um vetor $v$ pela matriz $A$, obtendo a sequência de vetores $A^n v$,\n",
    "por multiplicações sucessivas, e que isso permite encontrar um autovetor."
   ]
  },
  {
   "cell_type": "markdown",
   "metadata": {},
   "source": [
    "### Questão 1\n",
    "\n",
    "Implemente uma função `itera(A,v,tol)` que itera o vetor $v$, normalizando a cada iteração,\n",
    "e que retorna ($\\lambda$, $v_\\lambda$, $n$) com uma estimativa do autovalor e do autovetor,\n",
    "além do número de iterações realizadas."
   ]
  },
  {
   "cell_type": "code",
   "execution_count": 2,
   "metadata": {
    "collapsed": true
   },
   "outputs": [],
   "source": [
    "def normalize(v):\n",
    "    if isinstance(v,list):\n",
    "        v = array(v)\n",
    "    assert(isinstance(v,ndarray))\n",
    "    assert(any(v != 0))\n",
    "    \n",
    "    return v/norm(v)"
   ]
  },
  {
   "cell_type": "code",
   "execution_count": 132,
   "metadata": {
    "collapsed": false,
    "deletable": false,
    "nbgrader": {
     "checksum": "0348f1c69893c0360c5b4dc7399bbbe2",
     "grade": false,
     "grade_id": "itera",
     "locked": false,
     "solution": true
    }
   },
   "outputs": [],
   "source": [
    "def itera(A,v,tol=1e-12):\n",
    "    n,m = shape(A)\n",
    "    assert n==m, 'A must be square'\n",
    "    \n",
    "    n_calls = 1\n",
    "    v = normalize(v)\n",
    "    Av = dot(A,v)\n",
    "    v1 = normalize(Av)\n",
    "    err = dot(A,v) - norm(Av)*v\n",
    "    while norm(err,2) >= tol:\n",
    "        n_calls += 1\n",
    "        v = v1\n",
    "        Av = dot(A,v)\n",
    "        v1 = normalize(Av)\n",
    "        err = dot(A,v) - norm(Av)*v\n",
    "        \n",
    "    return norm(Av),v1,n_calls"
   ]
  },
  {
   "cell_type": "markdown",
   "metadata": {},
   "source": [
    "Verifique que a sua função está funcionando:"
   ]
  },
  {
   "cell_type": "code",
   "execution_count": 133,
   "metadata": {
    "collapsed": false,
    "deletable": false,
    "nbgrader": {
     "checksum": "fe45fe981a5d999e3969009e6244a116",
     "grade": true,
     "grade_id": "itera_22",
     "locked": true,
     "points": 3,
     "solution": false
    }
   },
   "outputs": [],
   "source": [
    "# Autovetores conhecidos\n",
    "A = [[1,2],[2,1]]\n",
    "l, v, n = itera(A,[1,2])\n",
    "assert(abs(l-3) < 1e-15)\n",
    "assert(all(abs(2*v-[sqrt(2),sqrt(2)] < 1e-12)))\n",
    "assert(n < 30)"
   ]
  },
  {
   "cell_type": "code",
   "execution_count": 134,
   "metadata": {
    "collapsed": false,
    "deletable": false,
    "nbgrader": {
     "checksum": "eea2456be8b8bceffced1e877f39eb5a",
     "grade": true,
     "grade_id": "itera_44",
     "locked": true,
     "points": 2,
     "solution": false
    }
   },
   "outputs": [],
   "source": [
    "# Autovetores aleatórios: verificando que satisfaz (aproximadamente) a definição\n",
    "seed(4444)\n",
    "A = rand(4,4)\n",
    "l, v, n = itera(A, rand(4))\n",
    "err = dot(A,v) - l*v\n",
    "assert(norm(err) < 1e-12)\n",
    "assert(n < 30)"
   ]
  },
  {
   "cell_type": "markdown",
   "metadata": {},
   "source": [
    "### Questão 2: outros autovetores?\n",
    "\n",
    "Encontre um vetor $u$ ortogonal a $v$ da questão anterior."
   ]
  },
  {
   "cell_type": "code",
   "execution_count": 135,
   "metadata": {
    "collapsed": false,
    "deletable": false,
    "nbgrader": {
     "checksum": "50a5f195bd867fff99183807c5be2d76",
     "grade": false,
     "grade_id": "u_perp_v",
     "locked": false,
     "solution": true
    }
   },
   "outputs": [],
   "source": [
    "def vetor_ortogonal(v):\n",
    "    assert(isinstance(v,list) or isinstance(v,ndarray))\n",
    "    assert(len(v) >= 2)\n",
    "    return array([-v[1],v[0]]+[0 for i in v[2:]])\n",
    "\n",
    "u = vetor_ortogonal(v)"
   ]
  },
  {
   "cell_type": "code",
   "execution_count": 136,
   "metadata": {
    "collapsed": false,
    "deletable": false,
    "nbgrader": {
     "checksum": "d9d9a8789536e920db7fe5c82f1e076d",
     "grade": true,
     "grade_id": "orthogonal",
     "locked": true,
     "points": 2,
     "solution": false
    }
   },
   "outputs": [],
   "source": [
    "assert(abs(dot(u,v)) < 1e-15)"
   ]
  },
  {
   "cell_type": "markdown",
   "metadata": {},
   "source": [
    "O vetor $u$ converge para o mesmo valor que $v$? Explique."
   ]
  },
  {
   "cell_type": "code",
   "execution_count": 137,
   "metadata": {
    "collapsed": false,
    "deletable": false,
    "nbgrader": {
     "checksum": "21d0891e9ed9bfa5ac96134663a01adf",
     "grade": false,
     "grade_id": "itera_A_u",
     "locked": true,
     "solution": false
    }
   },
   "outputs": [
    {
     "data": {
      "text/plain": [
       "(1.8404879410617705,\n",
       " array([ 0.59671607,  0.51753576,  0.27139068,  0.54993979]),\n",
       " 28)"
      ]
     },
     "execution_count": 137,
     "metadata": {},
     "output_type": "execute_result"
    }
   ],
   "source": [
    "itera(A,u)"
   ]
  },
  {
   "cell_type": "code",
   "execution_count": 138,
   "metadata": {
    "collapsed": true
   },
   "outputs": [],
   "source": [
    "def vetores_ortogonais(v):\n",
    "    assert(isinstance(v,list) or isinstance(v,ndarray))\n",
    "    assert(len(v) >= 2)\n",
    "    u = []\n",
    "    k = 0\n",
    "    for i,v_i in enumerate(v):\n",
    "        for j,v_j in enumerate(v):\n",
    "            if i == j: continue\n",
    "            u.append(zeros_like(v))\n",
    "            u[k][i], u[k][j] = -v_j, v_i\n",
    "            k += 1\n",
    "    return u"
   ]
  },
  {
   "cell_type": "code",
   "execution_count": 139,
   "metadata": {
    "collapsed": false
   },
   "outputs": [
    {
     "name": "stdout",
     "output_type": "stream",
     "text": [
      "(1.8404879410617705, array([ 0.59671607,  0.51753576,  0.27139068,  0.54993979]), 28)\n",
      "(1.8404879410617443, array([ 0.59671607,  0.51753576,  0.27139068,  0.54993979]), 27)\n",
      "(1.8404879410619706, array([-0.59671607, -0.51753576, -0.27139068, -0.54993979]), 27)\n",
      "(1.8404879410617705, array([-0.59671607, -0.51753576, -0.27139068, -0.54993979]), 28)\n",
      "(1.8404879410617225, array([ 0.59671607,  0.51753576,  0.27139068,  0.54993979]), 27)\n",
      "(1.8404879410618624, array([-0.59671607, -0.51753576, -0.27139068, -0.54993979]), 27)\n",
      "(1.8404879410617443, array([-0.59671607, -0.51753576, -0.27139068, -0.54993979]), 27)\n",
      "(1.8404879410617225, array([-0.59671607, -0.51753576, -0.27139068, -0.54993979]), 27)\n",
      "(1.8404879410617492, array([-0.59671607, -0.51753576, -0.27139068, -0.54993979]), 26)\n",
      "(1.8404879410619706, array([ 0.59671607,  0.51753576,  0.27139068,  0.54993979]), 27)\n",
      "(1.8404879410618624, array([ 0.59671607,  0.51753576,  0.27139068,  0.54993979]), 27)\n",
      "(1.8404879410617492, array([ 0.59671607,  0.51753576,  0.27139068,  0.54993979]), 26)\n"
     ]
    }
   ],
   "source": [
    "for u in vetores_ortogonais(v):\n",
    "    print(itera(A,u))"
   ]
  },
  {
   "cell_type": "code",
   "execution_count": 140,
   "metadata": {
    "collapsed": false,
    "deletable": false,
    "nbgrader": {
     "checksum": "df976776073cc16cf135e4278751972d",
     "grade": true,
     "grade_id": "itera_A_u_exp",
     "locked": false,
     "points": 2,
     "solution": true
    }
   },
   "outputs": [
    {
     "data": {
      "text/plain": [
       "(1.8404879410618071,\n",
       " array([ 0.59671607,  0.51753576,  0.27139068,  0.54993979]),\n",
       " 1)"
      ]
     },
     "execution_count": 140,
     "metadata": {},
     "output_type": "execute_result"
    }
   ],
   "source": [
    "itera(A,v)"
   ]
  },
  {
   "cell_type": "markdown",
   "metadata": {},
   "source": [
    "# Iteração inversa\n",
    "\n",
    "Em vez de iterar $A^n v$, é possível iterar $A^{-n} v$.\n",
    "Assim, em vez de \"aumentar\" os vetores correspondentes aos autovalores de módulo grande,\n",
    "estes serão \"diminuídos\", e sobra o vetor do \"menor\" (de novo, em módulo) autovalor.\n",
    "\n",
    "É claro que não vamos calcular $A^{-1}$ e iterar, já que a própria $A^{-1}$ é numericamente instável.\n",
    "O que vamos fazer é: resolver $Ax = v$, o que dá $v_{-1} = A^{-1}v = x$.\n",
    "Depois resolvemos $Ay = v_{-1}$, o que dá $v_{-2} = A^{-1}v_{-1} = A^{-2}v$.\n",
    "E assim por diante.\n",
    "\n",
    "Por isso é importante fatorar $A$, para que a solução de _vários sistemas_ com a mesma matriz $A$ seja rápida.\n",
    "Ou seja, não vamos usar `solve` ;-)\n",
    "\n",
    "Como na iteração \"normal\" (progressiva, de Rayleigh), normaliza-se a cada iteração os vetores obtidos."
   ]
  },
  {
   "cell_type": "markdown",
   "metadata": {},
   "source": [
    "### Questão 3. Implementando\n",
    "\n",
    "Implemente a iteração inversa.\n",
    "Retorne \n",
    "- o autovalor $\\lambda$;\n",
    "- a lista de todos os vetores $v_{-k}$ produzidos, para observar a velocidade de convergência.\n",
    "\n",
    "No `scipy`, existem duas funções que você pode usar:\n",
    "- `lu_factor` para a fatoração,\n",
    "- `lu_solve` para resolver $Ax = b$ com a informação retornada pela `lu_factor`."
   ]
  },
  {
   "cell_type": "code",
   "execution_count": 10,
   "metadata": {
    "collapsed": true
   },
   "outputs": [],
   "source": [
    "from scipy.linalg import lu_factor, lu_solve"
   ]
  },
  {
   "cell_type": "code",
   "execution_count": 208,
   "metadata": {
    "collapsed": true,
    "deletable": false,
    "nbgrader": {
     "checksum": "db594f6babe98946f5f922460e879def",
     "grade": true,
     "grade_id": "backwards_iter",
     "locked": false,
     "points": 2,
     "solution": true
    }
   },
   "outputs": [],
   "source": [
    "def backwards_iter(A, v, tol=1e-6):\n",
    "    n,m = shape(A)\n",
    "    assert n==m, 'A must be square'\n",
    "    \n",
    "    v_1 = v\n",
    "    ws = [v_1]\n",
    "    PLU = lu_factor(A)\n",
    "    \n",
    "    l = 0\n",
    "    err = 2*tol\n",
    "    \n",
    "    while err >= tol:\n",
    "        v = v_1\n",
    "        A_inv_v = lu_solve(PLU,v)\n",
    "        v_1 = normalize(A_inv_v)\n",
    "        \n",
    "        Av_1 = dot(A,v_1)\n",
    "        l = dot(v_1,Av_1)\n",
    "        \n",
    "        err = norm(Av_1-l*v,2)\n",
    "        ws.append(v_1)\n",
    "    return l,ws"
   ]
  },
  {
   "cell_type": "code",
   "execution_count": 209,
   "metadata": {
    "collapsed": false,
    "deletable": false,
    "nbgrader": {
     "checksum": "c78992bc05cbdd318645f2e6976f6bcb",
     "grade": true,
     "grade_id": "backwards_iter_test",
     "locked": true,
     "points": 2,
     "solution": false
    }
   },
   "outputs": [],
   "source": [
    "A = identity(4) + ones((4,4))\n",
    "lam, ws = backwards_iter(A, rand(4))\n",
    "last = ws[-1]\n",
    "\n",
    "# Testa a convergência do vetor para um autovetor correspondente a $\\lambda = 1$.\n",
    "assert (dot(last, dot(A,last)) - 1) < 1e-6"
   ]
  },
  {
   "cell_type": "code",
   "execution_count": 210,
   "metadata": {
    "collapsed": false,
    "deletable": false,
    "nbgrader": {
     "checksum": "6e41d1814dce5759fae3f1a4e44d7217",
     "grade": true,
     "grade_id": "backwards_iter_cv_test",
     "locked": true,
     "points": 2,
     "solution": false
    }
   },
   "outputs": [],
   "source": [
    "# Teste que o vetor está cada vez mais próximo do autovetor para o autovalor 1.\n",
    "teste_conv = [dot(x, dot(A,x)) - 1 for x in ws]\n",
    "assert all(diff(teste_conv) < 0)"
   ]
  },
  {
   "cell_type": "markdown",
   "metadata": {},
   "source": [
    "### Questão 4: vendo a convergência\n",
    "\n",
    "Faça um gráfico da velocidade de convergência para o caso acima:\n",
    "- a distância entre os vetores intermediários e o autovetor limite\n",
    "- a distância entre as estimativas do autovalor ($w^T A w$) e o autovalor real.\n",
    "\n",
    "Dica: a função `norm` do `numpy` calcula diferentes normas de vetores (e matrizes, mas não precisaremos disso aqui)."
   ]
  },
  {
   "cell_type": "code",
   "execution_count": 211,
   "metadata": {
    "collapsed": false,
    "deletable": false,
    "nbgrader": {
     "checksum": "1de40ede2f4e3183d47a63466d6b99f1",
     "grade": true,
     "grade_id": "limits_4",
     "locked": false,
     "points": 2,
     "solution": true
    }
   },
   "outputs": [],
   "source": [
    "# Determine abaixo o autovetor e o autovalor, nas variáveis l_lim, w_lim\n",
    "l_lim = lam #autovalor\n",
    "w_lim = ws[-1] #autovetor"
   ]
  },
  {
   "cell_type": "code",
   "execution_count": 212,
   "metadata": {
    "collapsed": false,
    "deletable": false,
    "nbgrader": {
     "checksum": "fd523df48aa499c684e0f853f14c33e5",
     "grade": true,
     "grade_id": "graphs_4",
     "locked": false,
     "points": 4,
     "solution": true
    }
   },
   "outputs": [
    {
     "data": {
      "image/png": "[encoded data removed]",
      "text/plain": [
       "<matplotlib.figure.Figure at 0x7fb9ca186c50>"
      ]
     },
     "metadata": {},
     "output_type": "display_data"
    }
   ],
   "source": [
    "# E faça o gráfico aqui. Não esqueça de títulos, legendas, ... que os tornem claros!\n",
    "figure(figsize=(12,4))\n",
    "\n",
    "subplot(121)\n",
    "plot(list(range(len(ws))),[norm(w_lim-w) for w in ws],label='autovetor')\n",
    "plot(list(range(len(ws))),[abs(l_lim-dot(w,dot(A,w))) for w in ws],label='autovalor') \n",
    "title('convergência de autovetor e autovalor (escala linear)')\n",
    "xlabel('número de iterações')\n",
    "ylabel('distância')\n",
    "grid()\n",
    "legend()\n",
    "\n",
    "subplot(122)\n",
    "# excluí autovetor e autovalor encontrados para facilitar o plot em escala logarítmica,\n",
    "# o valor a ser exibido seria zero\n",
    "semilogy(list(range(len(ws)-1)),[norm(w_lim-w) for w in ws[:-1]],label='autovetor')\n",
    "semilogy(list(range(len(ws)-1)),[abs(l_lim-dot(w,dot(A,w))) for w in ws[:-1]],label='autovalor')\n",
    "title('convergência de autovetor e autovalor (escala logarítmica)')\n",
    "xlabel('número de iterações')\n",
    "ylabel('distância')\n",
    "grid()\n",
    "legend();"
   ]
  },
  {
   "cell_type": "markdown",
   "metadata": {},
   "source": [
    "### Questão 5: Mais dimensões\n",
    "\n",
    "Refaça o estudo acima para uma matriz $20\\times20$: calcule as iteradas inversas e faça gráficos."
   ]
  },
  {
   "cell_type": "code",
   "execution_count": 213,
   "metadata": {
    "collapsed": false,
    "deletable": false,
    "nbgrader": {
     "checksum": "d88dd3bfe467d089225c58023d397499",
     "grade": true,
     "grade_id": "graf_backwards",
     "locked": false,
     "points": 2,
     "solution": true
    }
   },
   "outputs": [],
   "source": [
    "seed(3334)\n",
    "A = randn(20,20)\n",
    "A = A + A.T\n",
    "\n",
    "l_lim, ws = backwards_iter(A,rand(20))\n",
    "w_lim = ws[-1]"
   ]
  },
  {
   "cell_type": "code",
   "execution_count": 214,
   "metadata": {
    "collapsed": false
   },
   "outputs": [
    {
     "data": {
      "image/png": "[encoded data removed]",
      "text/plain": [
       "<matplotlib.figure.Figure at 0x7fb9cc18db70>"
      ]
     },
     "metadata": {},
     "output_type": "display_data"
    }
   ],
   "source": [
    "# E faça o gráfico aqui. Não esqueça de títulos, legendas, ... que os tornem claros!\n",
    "figure(figsize=(12,4))\n",
    "\n",
    "subplot(121)\n",
    "plot(list(range(len(ws))),[norm(w_lim-w) for w in ws],label='autovetor')\n",
    "plot(list(range(len(ws))),[abs(l_lim-dot(w,dot(A,w))) for w in ws],label='autovalor') \n",
    "title('convergência de autovetor e autovalor (escala linear)')\n",
    "xlabel('número de iterações')\n",
    "ylabel('distância')\n",
    "grid()\n",
    "legend()\n",
    "\n",
    "subplot(122)\n",
    "# excluí autovetor e autovalor encontrados para facilitar o plot em escala logarítmica,\n",
    "# o valor a ser exibido seria zero\n",
    "plot([len(ws)-2]*2,[1e+1,1e-13],'.-.',color='gray')\n",
    "semilogy(list(range(len(ws)-1)),[norm(w_lim-w) for w in ws[:-1]],label='autovetor')\n",
    "semilogy(list(range(len(ws)-1)),[abs(l_lim-dot(w,dot(A,w))) for w in ws[:-1]],label='autovalor')\n",
    "title('convergência de autovetor e autovalor (escala logarítmica)')\n",
    "xlabel('número de iterações')\n",
    "ylabel('distância')\n",
    "grid()\n",
    "legend();"
   ]
  },
  {
   "cell_type": "markdown",
   "metadata": {},
   "source": [
    "Qual das medidas de erro converge mais rápido?"
   ]
  },
  {
   "cell_type": "markdown",
   "metadata": {
    "deletable": false,
    "nbgrader": {
     "checksum": "4c6281a1935b4596d4c5130139f08a3f",
     "grade": true,
     "grade_id": "velocidade",
     "locked": false,
     "points": 2,
     "solution": true
    }
   },
   "source": [
    "O autovalor.\n",
    "\n",
    "__Por quê?__"
   ]
  },
  {
   "cell_type": "markdown",
   "metadata": {},
   "source": [
    "### Questão 6: Tabela\n",
    "\n",
    "Modifique a sua função de iteração inversa para imprimir uma tabela com o seguinte formato:\n",
    "    # Iteração     erro    |   u_1      u_2      u_3   \n",
    "             1   2.0998444 | -0.04944  0.15350  0.06061\n",
    "             2   0.0432280 | -0.04085  0.17360  0.05008\n",
    "             3   0.0069448 | -0.04029  0.17626  0.04782\n",
    "             4   0.0008546 | -0.04025  0.17655  0.04739\n",
    "             5   0.0001012 | -0.04025  0.17654  0.04736\n",
    "             6   0.0000254 | -0.04025  0.17654  0.04736\n",
    "             7   0.0000051 | -0.04025  0.17653  0.04737\n",
    "\n",
    "onde o erro terá 7 casas decimais e $u$, 5.  Cuidado com os sinais de menos.\n",
    "\n",
    "Tabém inclua um limite de iterações a serem feitas."
   ]
  },
  {
   "cell_type": "code",
   "execution_count": 221,
   "metadata": {
    "collapsed": true,
    "deletable": false,
    "nbgrader": {
     "checksum": "cd93c427b6b592788c21a35e30c3aa57",
     "grade": false,
     "grade_id": "backwards_table",
     "locked": false,
     "solution": true
    }
   },
   "outputs": [],
   "source": [
    "def backwards_iter(A, v, tol=1e-6, maxiter=20):\n",
    "    n,m = shape(A)\n",
    "    assert n==m, 'A must be square'\n",
    "    \n",
    "    print(\"{:>10}   {:^9} | {:^8} {:^8} {:^8}\".format('# Iteração', 'erro', 'u_1', 'u_2', 'u_3'))\n",
    "    \n",
    "    v_1 = v\n",
    "    ws = [v_1]\n",
    "    PLU = lu_factor(A)\n",
    "    \n",
    "    err = 2*tol\n",
    "    iteracao = 0\n",
    "    l = 0\n",
    "    \n",
    "    while err >= tol and iteracao < maxiter:\n",
    "        iteracao += 1\n",
    "        \n",
    "        v = v_1\n",
    "        A_inv_v = lu_solve(PLU,v)\n",
    "        v_1 = normalize(A_inv_v)\n",
    "        \n",
    "        Av_1 = dot(A,v_1)\n",
    "        l = dot(v_1,Av_1)\n",
    "        \n",
    "        err = norm(v_1-v)\n",
    "        \n",
    "        print(\"{:10d}   {:9.7f} | {:8.5f}  {:8.5f}  {:8.5f}\".format(iteracao, err, v_1[0], v_1[1], v_1[2]))\n",
    "        ws.append(v_1)\n",
    "    return l,ws"
   ]
  },
  {
   "cell_type": "code",
   "execution_count": 222,
   "metadata": {
    "collapsed": false,
    "deletable": false,
    "nbgrader": {
     "checksum": "fe9df1b68308495e03ad4886c8d7efdf",
     "grade": false,
     "grade_id": "beta_test",
     "locked": true,
     "solution": false
    },
    "scrolled": true
   },
   "outputs": [
    {
     "name": "stdout",
     "output_type": "stream",
     "text": [
      "# Iteração     erro    |   u_1      u_2      u_3   \n",
      "         1   2.0998444 | -0.04944   0.15350   0.06061\n",
      "         2   0.0432280 | -0.04085   0.17360   0.05008\n",
      "         3   0.0069448 | -0.04029   0.17626   0.04782\n",
      "         4   0.0008546 | -0.04025   0.17655   0.04739\n",
      "         5   0.0001012 | -0.04025   0.17654   0.04736\n",
      "         6   0.0000254 | -0.04025   0.17654   0.04736\n",
      "         7   0.0000051 | -0.04025   0.17653   0.04737\n",
      "         8   0.0000006 | -0.04025   0.17653   0.04737\n"
     ]
    }
   ],
   "source": [
    "# Esta linha deve retornar a tabela-exemplo acima.\n",
    "seed(3332)\n",
    "A = rand(20,20)\n",
    "#A = A + A.T\n",
    "v = rand(20)\n",
    "l,ws = backwards_iter(A,v)"
   ]
  },
  {
   "cell_type": "code",
   "execution_count": 223,
   "metadata": {
    "collapsed": false,
    "deletable": false,
    "nbgrader": {
     "checksum": "ccd310561ba21ebbcd06cbf71c88ce07",
     "grade": true,
     "grade_id": "tabela_outra",
     "locked": false,
     "points": 2,
     "solution": true
    }
   },
   "outputs": [
    {
     "name": "stdout",
     "output_type": "stream",
     "text": [
      "# Iteração     erro    |   u_1      u_2      u_3   \n",
      "         1   2.5114229 |  0.23488   0.37988   0.14209\n",
      "         2   1.9449493 | -0.14679  -0.22420  -0.13474\n",
      "         3   1.9713162 |  0.24744   0.29594   0.10963\n",
      "         4   1.9774700 | -0.17017  -0.22209  -0.12030\n",
      "         5   1.9817138 |  0.24149   0.28261   0.11405\n",
      "         6   1.9851020 | -0.17857  -0.22923  -0.11835\n",
      "         7   1.9878574 |  0.23583   0.27725   0.11552\n",
      "         8   1.9901048 | -0.18467  -0.23467  -0.11797\n",
      "         9   1.9919384 |  0.23119   0.27341   0.11613\n",
      "        10   1.9934338 | -0.18952  -0.23887  -0.11788\n",
      "        11   1.9946530 |  0.22736   0.27031   0.11647\n",
      "        12   1.9956465 | -0.19341  -0.24219  -0.11784\n",
      "        13   1.9964559 |  0.22421   0.26776   0.11670\n",
      "        14   1.9971151 | -0.19655  -0.24485  -0.11780\n",
      "        15   1.9976520 |  0.22161   0.26565   0.11687\n",
      "        16   1.9980891 | -0.19909  -0.24699  -0.11775\n",
      "        17   1.9984449 |  0.21948   0.26391   0.11700\n",
      "        18   1.9987345 | -0.20114  -0.24872  -0.11771\n",
      "        19   1.9989702 |  0.21773   0.26248   0.11709\n",
      "        20   1.9991621 | -0.20281  -0.25011  -0.11767\n"
     ]
    }
   ],
   "source": [
    "A = A + A.T\n",
    "l,ws = backwards_iter(A,v)"
   ]
  },
  {
   "cell_type": "markdown",
   "metadata": {},
   "source": [
    "### Questão 7: usando a tabela\n",
    "\n",
    "Observe o que aconteceu no caso acima.\n",
    "É bem possível que mesmo permitindo 1000 iterações, o seu método ache que ainda não convergiu.\n",
    "A tabela pode (deveria!) dar uma idéia porquê.\n",
    "\n",
    "Modifique (se necessário) o critério de detecção de convergência de `backwards_iter` para que este caso também seja percebido."
   ]
  },
  {
   "cell_type": "code",
   "execution_count": 229,
   "metadata": {
    "collapsed": false,
    "deletable": false,
    "nbgrader": {
     "checksum": "8986dd614f45e4acefe9b10e17ce9707",
     "grade": false,
     "grade_id": "backwards_final",
     "locked": false,
     "points": 0,
     "solution": true
    }
   },
   "outputs": [],
   "source": [
    "def backwards_iter(A, v, tol=1e-6, maxiter=20):\n",
    "    n,m = shape(A)\n",
    "    assert n==m, 'A must be square'\n",
    "    \n",
    "    print(\"{:>10}   {:^9} | {:^8} {:^9} {:^10}\".format('# Iteração', 'erro', 'u_1', 'u_2', 'u_3'))\n",
    "    \n",
    "    v_1 = v\n",
    "    ws = []\n",
    "    PLU = lu_factor(A)\n",
    "    \n",
    "    err = 2*tol\n",
    "    iteracao = 0\n",
    "    l0 = 0\n",
    "    l = 0\n",
    "    \n",
    "    ws.append(v_1)\n",
    "    while err >= tol and iteracao < maxiter:\n",
    "        l0 = l\n",
    "        iteracao += 1\n",
    "        v = v_1\n",
    "        \n",
    "        A_inv_v0 = lu_solve(PLU,v)\n",
    "        v_1 = normalize(A_inv_v0)\n",
    "        \n",
    "        Av_1 = dot(A,v_1)\n",
    "        l = dot(v_1,Av_1)\n",
    "        \n",
    "        if l0 + l > l:\n",
    "            err = norm(v_1-v)\n",
    "        else:\n",
    "            err = norm(v_1+v)\n",
    "            \n",
    "        print(\"{:10d}   {:9.7f} | {:8.5f}  {:8.5f}  {:8.5f}\".format(iteracao, err, v_1[0], v_1[1], v_1[2]))\n",
    "        ws.append(v_1)\n",
    "    return l,ws"
   ]
  },
  {
   "cell_type": "code",
   "execution_count": 230,
   "metadata": {
    "collapsed": false,
    "deletable": false,
    "nbgrader": {
     "checksum": "18b710252e838bfa7ce8efb64af46db9",
     "grade": false,
     "grade_id": "backwards_tabela",
     "locked": true,
     "points": 1,
     "solution": false
    }
   },
   "outputs": [
    {
     "name": "stdout",
     "output_type": "stream",
     "text": [
      "# Iteração     erro    |   u_1       u_2       u_3    \n",
      "         1   1.9736799 |  0.23488   0.37988   0.14209\n",
      "         2   0.4660175 | -0.14679  -0.22420  -0.13474\n",
      "         3   0.3375091 |  0.24744   0.29594   0.10963\n",
      "         4   0.2993533 | -0.17017  -0.22209  -0.12030\n",
      "         5   0.2698339 |  0.24149   0.28261   0.11405\n",
      "         6   0.2436599 | -0.17857  -0.22923  -0.11835\n",
      "         7   0.2200524 |  0.23583   0.27725   0.11552\n",
      "         8   0.1987025 | -0.18467  -0.23467  -0.11797\n",
      "         9   0.1793914 |  0.23119   0.27341   0.11613\n",
      "        10   0.1619305 | -0.18952  -0.23887  -0.11788\n",
      "        11   0.1461490 |  0.22736   0.27031   0.11647\n",
      "        12   0.1318906 | -0.19341  -0.24219  -0.11784\n",
      "        13   0.1190121 |  0.22421   0.26776   0.11670\n",
      "        14   0.1073831 | -0.19655  -0.24485  -0.11780\n",
      "        15   0.0968844 |  0.22161   0.26565   0.11687\n",
      "        16   0.0874077 | -0.19909  -0.24699  -0.11775\n",
      "        17   0.0788548 |  0.21948   0.26391   0.11700\n",
      "        18   0.0711364 | -0.20114  -0.24872  -0.11771\n",
      "        19   0.0641718 |  0.21773   0.26248   0.11709\n",
      "        20   0.0578877 | -0.20281  -0.25011  -0.11767\n"
     ]
    }
   ],
   "source": [
    "seed(3332)\n",
    "A = rand(20,20)\n",
    "A = A + A.T\n",
    "v = rand(20)\n",
    "l,ws = backwards_iter(A,v)"
   ]
  },
  {
   "cell_type": "code",
   "execution_count": 231,
   "metadata": {
    "collapsed": false,
    "deletable": false,
    "nbgrader": {
     "checksum": "f1facd25f26003ab49f9c5ab899b1551",
     "grade": true,
     "grade_id": "backwards_stop",
     "locked": true,
     "points": 3,
     "solution": false
    },
    "scrolled": true
   },
   "outputs": [
    {
     "name": "stdout",
     "output_type": "stream",
     "text": [
      "# Iteração     erro    |   u_1       u_2       u_3    \n",
      "         1   1.9736799 |  0.23488   0.37988   0.14209\n",
      "         2   0.4660175 | -0.14679  -0.22420  -0.13474\n",
      "         3   0.3375091 |  0.24744   0.29594   0.10963\n",
      "         4   0.2993533 | -0.17017  -0.22209  -0.12030\n",
      "         5   0.2698339 |  0.24149   0.28261   0.11405\n",
      "         6   0.2436599 | -0.17857  -0.22923  -0.11835\n",
      "         7   0.2200524 |  0.23583   0.27725   0.11552\n",
      "         8   0.1987025 | -0.18467  -0.23467  -0.11797\n",
      "         9   0.1793914 |  0.23119   0.27341   0.11613\n",
      "        10   0.1619305 | -0.18952  -0.23887  -0.11788\n",
      "        11   0.1461490 |  0.22736   0.27031   0.11647\n",
      "        12   0.1318906 | -0.19341  -0.24219  -0.11784\n",
      "        13   0.1190121 |  0.22421   0.26776   0.11670\n",
      "        14   0.1073831 | -0.19655  -0.24485  -0.11780\n",
      "        15   0.0968844 |  0.22161   0.26565   0.11687\n",
      "        16   0.0874077 | -0.19909  -0.24699  -0.11775\n",
      "        17   0.0788548 |  0.21948   0.26391   0.11700\n",
      "        18   0.0711364 | -0.20114  -0.24872  -0.11771\n",
      "        19   0.0641718 |  0.21773   0.26248   0.11709\n",
      "        20   0.0578877 | -0.20281  -0.25011  -0.11767\n",
      "        21   0.0522181 |  0.21630   0.26130   0.11717\n",
      "        22   0.0471031 | -0.20415  -0.25124  -0.11764\n",
      "        23   0.0424886 |  0.21513   0.26034   0.11722\n",
      "        24   0.0383258 | -0.20525  -0.25215  -0.11761\n",
      "        25   0.0345706 |  0.21418   0.25956   0.11727\n",
      "        26   0.0311831 | -0.20613  -0.25289  -0.11758\n",
      "        27   0.0281274 |  0.21340   0.25891   0.11730\n",
      "        28   0.0253711 | -0.20685  -0.25349  -0.11756\n",
      "        29   0.0228847 |  0.21276   0.25839   0.11733\n",
      "        30   0.0206420 | -0.20744  -0.25398  -0.11754\n",
      "        31   0.0186190 |  0.21224   0.25796   0.11735\n",
      "        32   0.0167942 | -0.20791  -0.25437  -0.11752\n",
      "        33   0.0151483 |  0.21182   0.25761   0.11737\n",
      "        34   0.0136637 | -0.20830  -0.25469  -0.11751\n",
      "        35   0.0123245 |  0.21148   0.25733   0.11739\n",
      "        36   0.0111166 | -0.20861  -0.25495  -0.11750\n",
      "        37   0.0100270 |  0.21120   0.25710   0.11740\n",
      "        38   0.0090443 | -0.20886  -0.25516  -0.11749\n",
      "        39   0.0081579 |  0.21097   0.25691   0.11741\n",
      "        40   0.0073583 | -0.20907  -0.25533  -0.11748\n",
      "        41   0.0066371 |  0.21078   0.25676   0.11741\n",
      "        42   0.0059866 | -0.20924  -0.25547  -0.11747\n",
      "        43   0.0053998 |  0.21063   0.25663   0.11742\n",
      "        44   0.0048706 | -0.20938  -0.25559  -0.11747\n",
      "        45   0.0043932 |  0.21051   0.25653   0.11743\n",
      "        46   0.0039626 | -0.20949  -0.25568  -0.11746\n",
      "        47   0.0035742 |  0.21041   0.25645   0.11743\n",
      "        48   0.0032239 | -0.20958  -0.25576  -0.11746\n",
      "        49   0.0029079 |  0.21033   0.25638   0.11743\n",
      "        50   0.0026229 | -0.20965  -0.25582  -0.11746\n",
      "        51   0.0023658 |  0.21026   0.25632   0.11744\n",
      "        52   0.0021340 | -0.20971  -0.25587  -0.11746\n",
      "        53   0.0019248 |  0.21021   0.25628   0.11744\n",
      "        54   0.0017362 | -0.20976  -0.25591  -0.11745\n",
      "        55   0.0015660 |  0.21016   0.25624   0.11744\n",
      "        56   0.0014125 | -0.20980  -0.25594  -0.11745\n",
      "        57   0.0012741 |  0.21013   0.25621   0.11744\n",
      "        58   0.0011492 | -0.20983  -0.25597  -0.11745\n",
      "        59   0.0010366 |  0.21010   0.25619   0.11744\n",
      "        60   0.0009350 | -0.20986  -0.25599  -0.11745\n",
      "        61   0.0008433 |  0.21008   0.25617   0.11744\n",
      "        62   0.0007607 | -0.20988  -0.25601  -0.11745\n",
      "        63   0.0006861 |  0.21006   0.25615   0.11744\n",
      "        64   0.0006189 | -0.20990  -0.25602  -0.11745\n",
      "        65   0.0005582 |  0.21004   0.25614   0.11744\n",
      "        66   0.0005035 | -0.20991  -0.25603  -0.11745\n",
      "        67   0.0004541 |  0.21003   0.25613   0.11744\n",
      "        68   0.0004096 | -0.20992  -0.25604  -0.11745\n",
      "        69   0.0003695 |  0.21002   0.25612   0.11744\n",
      "        70   0.0003333 | -0.20993  -0.25605  -0.11745\n",
      "        71   0.0003006 |  0.21001   0.25611   0.11744\n",
      "        72   0.0002711 | -0.20994  -0.25606  -0.11745\n",
      "        73   0.0002446 |  0.21000   0.25611   0.11745\n",
      "        74   0.0002206 | -0.20995  -0.25606  -0.11745\n",
      "        75   0.0001990 |  0.21000   0.25610   0.11745\n",
      "        76   0.0001795 | -0.20995  -0.25606  -0.11745\n",
      "        77   0.0001619 |  0.20999   0.25610   0.11745\n",
      "        78   0.0001460 | -0.20995  -0.25607  -0.11745\n",
      "        79   0.0001317 |  0.20999   0.25610   0.11745\n",
      "        80   0.0001188 | -0.20996  -0.25607  -0.11745\n",
      "        81   0.0001072 |  0.20999   0.25609   0.11745\n",
      "        82   0.0000967 | -0.20996  -0.25607  -0.11745\n",
      "        83   0.0000872 |  0.20998   0.25609   0.11745\n",
      "        84   0.0000786 | -0.20996  -0.25607  -0.11745\n",
      "        85   0.0000709 |  0.20998   0.25609   0.11745\n",
      "        86   0.0000640 | -0.20996  -0.25608  -0.11745\n",
      "        87   0.0000577 |  0.20998   0.25609   0.11745\n",
      "        88   0.0000520 | -0.20997  -0.25608  -0.11745\n",
      "        89   0.0000469 |  0.20998   0.25609   0.11745\n",
      "        90   0.0000423 | -0.20997  -0.25608  -0.11745\n",
      "        91   0.0000382 |  0.20998   0.25609   0.11745\n",
      "        92   0.0000345 | -0.20997  -0.25608  -0.11745\n",
      "        93   0.0000311 |  0.20998   0.25609   0.11745\n",
      "        94   0.0000280 | -0.20997  -0.25608  -0.11745\n",
      "        95   0.0000253 |  0.20998   0.25609   0.11745\n",
      "        96   0.0000228 | -0.20997  -0.25608  -0.11745\n",
      "        97   0.0000206 |  0.20997   0.25608   0.11745\n",
      "        98   0.0000186 | -0.20997  -0.25608  -0.11745\n",
      "        99   0.0000167 |  0.20997   0.25608   0.11745\n",
      "       100   0.0000151 | -0.20997  -0.25608  -0.11745\n",
      "       101   0.0000136 |  0.20997   0.25608   0.11745\n",
      "       102   0.0000123 | -0.20997  -0.25608  -0.11745\n",
      "       103   0.0000111 |  0.20997   0.25608   0.11745\n",
      "       104   0.0000100 | -0.20997  -0.25608  -0.11745\n",
      "       105   0.0000090 |  0.20997   0.25608   0.11745\n",
      "       106   0.0000081 | -0.20997  -0.25608  -0.11745\n",
      "       107   0.0000073 |  0.20997   0.25608   0.11745\n",
      "       108   0.0000066 | -0.20997  -0.25608  -0.11745\n",
      "       109   0.0000060 |  0.20997   0.25608   0.11745\n",
      "       110   0.0000054 | -0.20997  -0.25608  -0.11745\n",
      "       111   0.0000049 |  0.20997   0.25608   0.11745\n",
      "       112   0.0000044 | -0.20997  -0.25608  -0.11745\n",
      "       113   0.0000039 |  0.20997   0.25608   0.11745\n",
      "       114   0.0000036 | -0.20997  -0.25608  -0.11745\n",
      "       115   0.0000032 |  0.20997   0.25608   0.11745\n",
      "       116   0.0000029 | -0.20997  -0.25608  -0.11745\n",
      "       117   0.0000026 |  0.20997   0.25608   0.11745\n",
      "       118   0.0000024 | -0.20997  -0.25608  -0.11745\n",
      "       119   0.0000021 |  0.20997   0.25608   0.11745\n",
      "       120   0.0000019 | -0.20997  -0.25608  -0.11745\n",
      "       121   0.0000017 |  0.20997   0.25608   0.11745\n",
      "       122   0.0000016 | -0.20997  -0.25608  -0.11745\n",
      "       123   0.0000014 |  0.20997   0.25608   0.11745\n",
      "       124   0.0000013 | -0.20997  -0.25608  -0.11745\n",
      "       125   0.0000011 |  0.20997   0.25608   0.11745\n",
      "       126   0.0000010 | -0.20997  -0.25608  -0.11745\n",
      "       127   0.0000009 |  0.20997   0.25608   0.11745\n"
     ]
    }
   ],
   "source": [
    "seed(3332)\n",
    "A = rand(20,20)\n",
    "A = A + A.T\n",
    "v = rand(20)\n",
    "l,ws = backwards_iter(A,v, maxiter=1000)\n",
    "assert(len(ws) < 500)"
   ]
  },
  {
   "cell_type": "code",
   "execution_count": 107,
   "metadata": {
    "collapsed": false
   },
   "outputs": [
    {
     "data": {
      "text/plain": [
       "7.6771922152829575e-14"
      ]
     },
     "execution_count": 107,
     "metadata": {},
     "output_type": "execute_result"
    }
   ],
   "source": [
    "abs(norm(dot(A,ws[-1])))-abs(l)"
   ]
  },
  {
   "cell_type": "code",
   "execution_count": null,
   "metadata": {
    "collapsed": true
   },
   "outputs": [],
   "source": []
  }
 ],
 "metadata": {
  "kernelspec": {
   "display_name": "Python 3",
   "language": "python",
   "name": "python3"
  },
  "language_info": {
   "codemirror_mode": {
    "name": "ipython",
    "version": 3
   },
   "file_extension": ".py",
   "mimetype": "text/x-python",
   "name": "python",
   "nbconvert_exporter": "python",
   "pygments_lexer": "ipython3",
   "version": "3.5.2"
  }
 },
 "nbformat": 4,
 "nbformat_minor": 0
}
