{
 "cells": [
  {
   "cell_type": "markdown",
   "metadata": {},
   "source": [
    "# Parte 1: listas e _list comprehensions_\n",
    "\n",
    "## Exercício 1\n",
    "\n",
    "Escreva uma função `f_vetor(f,v)` que recebe uma função `f` e um vetor `v` (numa lista)\n",
    "e retorna o vetor com `f` calculada em cada coordenada de `v`.\n",
    "Em fórmulas, se $v = (v_i)$, então `f_vetor(f,v)` = $ (f(v_i)) $."
   ]
  },
  {
   "cell_type": "code",
   "execution_count": 1,
   "metadata": {
    "collapsed": true,
    "deletable": false,
    "nbgrader": {
     "checksum": "0a87ae47cb0fe23369e7bb7f0ab207ab",
     "grade": false,
     "grade_id": "f_vetor_fun",
     "locked": false,
     "solution": true
    }
   },
   "outputs": [],
   "source": [
    "def f_vetor(f,v):\n",
    "    return [f(e) for e in v]"
   ]
  },
  {
   "cell_type": "code",
   "execution_count": 2,
   "metadata": {
    "collapsed": true,
    "deletable": false,
    "nbgrader": {
     "checksum": "a98122fc2d103dc49d96e1d027e15527",
     "grade": false,
     "grade_id": "sq_math",
     "locked": true,
     "solution": false
    }
   },
   "outputs": [],
   "source": [
    "import math\n",
    "def sq(x): return x**2"
   ]
  },
  {
   "cell_type": "markdown",
   "metadata": {},
   "source": [
    "Teste que sua função funciona na caixa abaixo (você pode também testar *outras* funções e vetores, e criar outras caixas!)"
   ]
  },
  {
   "cell_type": "code",
   "execution_count": 3,
   "metadata": {
    "collapsed": false
   },
   "outputs": [
    {
     "data": {
      "text/plain": [
       "[1, 4]"
      ]
     },
     "execution_count": 3,
     "metadata": {},
     "output_type": "execute_result"
    }
   ],
   "source": [
    "f_vetor(sq, [1,2])"
   ]
  },
  {
   "cell_type": "code",
   "execution_count": 4,
   "metadata": {
    "collapsed": true,
    "deletable": false,
    "nbgrader": {
     "checksum": "e8a36c7ae633bc535989ad47bae34562",
     "grade": true,
     "grade_id": "f_vetor_test1",
     "locked": true,
     "points": 2,
     "solution": false
    }
   },
   "outputs": [],
   "source": [
    "assert(f_vetor(sq, [1,3,5,7,9]) == [1, 9, 25, 49, 81])\n",
    "assert(f_vetor(math.sin, [0,1,2,3]) == [0.0, 0.8414709848078965, 0.9092974268256817, 0.1411200080598672])\n",
    "assert(f_vetor(math.ceil, [1.72, -8.29, 10.45, 9.1, 1.0, -4.1391213771510751]) == [2, -8, 11, 10, 1, -4])"
   ]
  },
  {
   "cell_type": "code",
   "execution_count": 5,
   "metadata": {
    "collapsed": false,
    "deletable": false,
    "nbgrader": {
     "checksum": "8c68bbd17220f6582faf20ea1f3d66a2",
     "grade": true,
     "grade_id": "f_vetor_test2",
     "locked": true,
     "points": 2,
     "solution": false
    }
   },
   "outputs": [],
   "source": [
    "assert(f_vetor(sq, []) == [])\n",
    "assert(f_vetor(math.sin, []) == [])"
   ]
  },
  {
   "cell_type": "markdown",
   "metadata": {},
   "source": [
    "Agora, alguns testes aleatórios"
   ]
  },
  {
   "cell_type": "code",
   "execution_count": 6,
   "metadata": {
    "collapsed": true
   },
   "outputs": [],
   "source": [
    "from numpy.random import random # Mais poderoso do que random.random"
   ]
  },
  {
   "cell_type": "code",
   "execution_count": 7,
   "metadata": {
    "collapsed": false,
    "deletable": false,
    "nbgrader": {
     "checksum": "d8ff08f0da84ab8ebeed7b663f01aea6",
     "grade": true,
     "grade_id": "f_vetor_testrandom",
     "locked": true,
     "points": 3,
     "solution": false
    }
   },
   "outputs": [],
   "source": [
    "v = random(size=(10))\n",
    "assert(f_vetor(math.sqrt, f_vetor(sq, v)) == list(v))\n",
    "v = random(size=(10))\n",
    "assert(f_vetor(math.sin, f_vetor(math.asin, v)) == list(v))\n",
    "v = random(size=(30))\n",
    "assert(f_vetor(math.sqrt, f_vetor(sq, v)) == list(v))"
   ]
  },
  {
   "cell_type": "markdown",
   "metadata": {},
   "source": [
    "Explique porque no segundo teste a ordem das funções foi `math.sin` e depois `math.asin`, e não na ordem contrária."
   ]
  },
  {
   "cell_type": "markdown",
   "metadata": {
    "deletable": false,
    "nbgrader": {
     "checksum": "d6ef6a099d59f262a66da0faf4f002ae",
     "grade": true,
     "grade_id": "f_vetor_test_explain",
     "locked": false,
     "points": 2,
     "solution": true
    }
   },
   "source": [
    "Porque dado um ângulo $\\theta$ vale a igualdade: \n",
    "\n",
    "$ \\sin(\\theta)=\\sin(k\\pi-\\theta) $, $ k\\in\\mathbb Z $\n",
    "\n",
    "Ou seja, vários valores diferentes de ângulo tem o mesmo valor de seno e o arco seno não recupera essa diferença."
   ]
  },
  {
   "cell_type": "markdown",
   "metadata": {},
   "source": [
    "## Exercício 2\n",
    "\n",
    "Escreva uma função que, dados dois vetores $u$ e $v$ (de novo, numa lista), \"complete\" o vetor `u` para que ele fique do tamanho do vetor `v`.\n",
    "Se a dimensão de $u$ for maior do que a de $v$, a função deve lançar a exceção `ValueError`."
   ]
  },
  {
   "cell_type": "code",
   "execution_count": 8,
   "metadata": {
    "collapsed": false,
    "deletable": false,
    "nbgrader": {
     "checksum": "515a466fa351da5ba1c570551706a61d",
     "grade": false,
     "grade_id": "completar_fun",
     "locked": false,
     "solution": true
    }
   },
   "outputs": [],
   "source": [
    "def completar(u,v):\n",
    "    if len(u) > len(v):\n",
    "        raise ValueError()\n",
    "    \n",
    "    return u[:] + [0]*(len(v)-len(u))"
   ]
  },
  {
   "cell_type": "markdown",
   "metadata": {},
   "source": [
    "De novo, teste a sua função antes dos asserts (se você quiser)"
   ]
  },
  {
   "cell_type": "code",
   "execution_count": 9,
   "metadata": {
    "collapsed": false,
    "deletable": false,
    "nbgrader": {
     "checksum": "3a22cc7819589302e5965326cca0c091",
     "grade": true,
     "grade_id": "completar_test1",
     "locked": true,
     "points": 2,
     "solution": false
    }
   },
   "outputs": [],
   "source": [
    "u = [1,2,3]\n",
    "v1 = [math.pi]*10\n",
    "v2 = [1,1,1,1,1,1]\n",
    "v3 = random(3)\n",
    "assert(completar(u,v1) == [1,2,3,0,0,0,0,0,0,0])\n",
    "assert(completar(u,v2) == [1,2,3,0,0,0])\n",
    "assert(completar(u,v3) == [1,2,3])"
   ]
  },
  {
   "cell_type": "markdown",
   "metadata": {},
   "source": [
    "A seguir, a função `verify_exc` verifica se, ao chamar uma outra função (`f`) ocorre a exceção `ex`."
   ]
  },
  {
   "cell_type": "code",
   "execution_count": 10,
   "metadata": {
    "collapsed": true,
    "deletable": false,
    "nbgrader": {
     "checksum": "de8d9dea7efa38c78af6c6e4678c4025",
     "grade": false,
     "grade_id": "verify_ex",
     "locked": true,
     "solution": false
    }
   },
   "outputs": [],
   "source": [
    "def verify_exc(f, ex):\n",
    "    try:\n",
    "        f()\n",
    "        return False\n",
    "    except ex:\n",
    "        return True"
   ]
  },
  {
   "cell_type": "code",
   "execution_count": 11,
   "metadata": {
    "collapsed": false,
    "deletable": false,
    "nbgrader": {
     "checksum": "e583a257def90c09e931977e2b8dbfe2",
     "grade": true,
     "grade_id": "completar_testmenos",
     "locked": true,
     "points": 1,
     "solution": false
    }
   },
   "outputs": [],
   "source": [
    "def completar_menos():\n",
    "    return completar(u, [1,2])\n",
    "\n",
    "assert(verify_exc(completar_menos, ValueError) == True)"
   ]
  },
  {
   "cell_type": "code",
   "execution_count": 12,
   "metadata": {
    "collapsed": false,
    "deletable": false,
    "nbgrader": {
     "checksum": "a3734c18ce6c013abc53169c6aa28830",
     "grade": true,
     "grade_id": "completar_testzero",
     "locked": true,
     "points": 3,
     "solution": false
    }
   },
   "outputs": [],
   "source": [
    "def completar_a_zero():\n",
    "    return completar(u, [])\n",
    "\n",
    "assert( completar([], [1,2,3]) == [0,0,0] )\n",
    "assert( completar([], []) == [])\n",
    "assert( verify_exc(completar_a_zero, ValueError) == True )"
   ]
  },
  {
   "cell_type": "markdown",
   "metadata": {},
   "source": [
    "## Exercício 3:\n",
    "\n",
    "Adapte a função `f_vetor` para uma função `f_matriz`."
   ]
  },
  {
   "cell_type": "code",
   "execution_count": 13,
   "metadata": {
    "collapsed": true,
    "deletable": false,
    "nbgrader": {
     "checksum": "39775fdc799ca7535a90ce8d05ac7951",
     "grade": false,
     "grade_id": "f_matriz_fun",
     "locked": false,
     "solution": true
    }
   },
   "outputs": [],
   "source": [
    "def f_matriz(f,m):\n",
    "    return [[f(j) for j in i] for i in m]"
   ]
  },
  {
   "cell_type": "code",
   "execution_count": 14,
   "metadata": {
    "collapsed": false,
    "deletable": false,
    "nbgrader": {
     "checksum": "8a8fb38d80c99f56e7d8983a1c78e13f",
     "grade": true,
     "grade_id": "f_matriz_test1",
     "locked": true,
     "points": 2,
     "solution": false
    }
   },
   "outputs": [],
   "source": [
    "x = math.sin(1)\n",
    "y = math.sin(2)\n",
    "z = math.sin(3)\n",
    "assert( f_matriz(math.sin, [[]]) == [[]])\n",
    "assert( f_matriz(math.sin, [[1,2],[3,0]]) == [[x,y],[z,0.0]])"
   ]
  },
  {
   "cell_type": "code",
   "execution_count": 15,
   "metadata": {
    "collapsed": true,
    "deletable": false,
    "nbgrader": {
     "checksum": "d1c2ae1ac6e3beba6a78899db6d9281e",
     "grade": true,
     "grade_id": "f_matriz_testexc",
     "locked": true,
     "points": 2,
     "solution": false
    }
   },
   "outputs": [],
   "source": [
    "def teste_vetor():\n",
    "    return f_matriz(math.sin, [1,2,3])\n",
    "\n",
    "assert( verify_exc(teste_vetor, TypeError) )"
   ]
  },
  {
   "cell_type": "markdown",
   "metadata": {},
   "source": [
    "# Parte 2: Recorrências\n",
    "\n",
    "Escreva uma função **recursiva** que retorne o $n$-ésimo número de \"Tribonacci\", definido pelas equações\n",
    "$$ T_0 = 0 \\qquad T_1 = 1 \\qquad T_2 = 1$$\n",
    "$$ F_{n+3} = F_{n+2} + F_{n+1} + F_n. $$"
   ]
  },
  {
   "cell_type": "code",
   "execution_count": 16,
   "metadata": {
    "collapsed": true,
    "deletable": false,
    "nbgrader": {
     "checksum": "914478c6e1387ed3244558b041d075c1",
     "grade": false,
     "grade_id": "fibo_fun",
     "locked": false,
     "solution": true
    }
   },
   "outputs": [],
   "source": [
    "def tribonacci(n):\n",
    "    if n < 0:\n",
    "        raise ValueError()\n",
    "    if n == 0:\n",
    "        return 0\n",
    "    if n == 1 or n == 2:\n",
    "        return 1\n",
    "    \n",
    "    return tribonacci(n-1) + tribonacci(n-2) + tribonacci(n-3)\n"
   ]
  },
  {
   "cell_type": "markdown",
   "metadata": {},
   "source": [
    "Teste que a sua função funciona!"
   ]
  },
  {
   "cell_type": "code",
   "execution_count": 17,
   "metadata": {
    "collapsed": false
   },
   "outputs": [
    {
     "data": {
      "text/plain": [
       "66012"
      ]
     },
     "execution_count": 17,
     "metadata": {},
     "output_type": "execute_result"
    }
   ],
   "source": [
    "tribonacci(20)"
   ]
  },
  {
   "cell_type": "markdown",
   "metadata": {},
   "source": [
    "Agora, os testes que valem ponto!"
   ]
  },
  {
   "cell_type": "code",
   "execution_count": null,
   "metadata": {
    "collapsed": false,
    "deletable": false,
    "nbgrader": {
     "checksum": "d95bfb21d789cf520341acc9eabdc4aa",
     "grade": true,
     "grade_id": "fibo_teste",
     "locked": true,
     "points": 2,
     "solution": false
    }
   },
   "outputs": [],
   "source": [
    "assert(tribonacci(5) == 7)\n",
    "assert(tribonacci(10) == 149)\n",
    "assert(tribonacci(20) == 66012)"
   ]
  },
  {
   "cell_type": "markdown",
   "metadata": {},
   "source": [
    "É sabido que a solução para uma recorrência linear é dada por uma combinação de potências.\n",
    "No nosso caso, $T_n = A a^n + B b^n + C c^n$ onde $a$, $b$ e $c$ são as raízes de $x^3 = x^2 + x + 1$."
   ]
  },
  {
   "cell_type": "markdown",
   "metadata": {},
   "source": [
    "Verifique (numericamente) que $T_{n+1} / T_n$ converge. Para qual valor? De quantos dígitos você tem certeza?"
   ]
  },
  {
   "cell_type": "code",
   "execution_count": null,
   "metadata": {
    "collapsed": false
   },
   "outputs": [
    {
     "name": "stdout",
     "output_type": "stream",
     "text": [
      "1 / 1 = 1.0 \terro: 1.0\n",
      "2 / 1 = 2.0 \terro: 1.0\n",
      "4 / 2 = 2.0 \terro: 0.0\n",
      "7 / 4 = 1.75 \terro: 0.25\n",
      "13 / 7 = 1.8571428571428572 \terro: 0.1071428571428572\n",
      "24 / 13 = 1.8461538461538463 \terro: 0.01098901098901095\n",
      "44 / 24 = 1.8333333333333333 \terro: 0.012820512820512997\n",
      "81 / 44 = 1.8409090909090908 \terro: 0.007575757575757569\n",
      "149 / 81 = 1.8395061728395061 \terro: 0.0014029180695847021\n",
      "274 / 149 = 1.8389261744966443 \terro: 0.0005799983428618205\n",
      "504 / 274 = 1.8394160583941606 \terro: 0.0004898838975162523\n",
      "927 / 504 = 1.8392857142857142 \terro: 0.00013034410844636746\n",
      "1705 / 927 = 1.8392664509169363 \terro: 1.92633687778887e-05\n",
      "3136 / 1705 = 1.8392961876832845 \terro: 2.9736766348209542e-05\n",
      "5768 / 3136 = 1.8392857142857142 \terro: 1.0473397570320842e-05\n",
      "10609 / 5768 = 1.8392857142857142 \terro: 0.0\n",
      "19513 / 10609 = 1.8392873974926949 \terro: 1.6832069806849148e-06\n",
      "35890 / 19513 = 1.8392866294265362 \terro: 7.680661586739745e-07\n",
      "66012 / 35890 = 1.8392867093898022 \terro: 7.996326600867576e-08\n",
      "121415 / 66012 = 1.8392867963400594 \terro: 8.69502572165004e-08\n",
      "223317 / 121415 = 1.8392867438125438 \terro: 5.252751567041969e-08\n",
      "410744 / 223317 = 1.839286753807368 \terro: 9.994824301529093e-09\n",
      "755476 / 410744 = 1.8392867576884873 \terro: 3.881119203796857e-09\n",
      "1389537 / 755476 = 1.8392867543111893 \terro: 3.3772979968205163e-09\n",
      "2555757 / 1389537 = 1.8392867552285401 \terro: 9.173508619397808e-10\n",
      "4700770 / 2555757 = 1.8392867553527195 \terro: 1.2417933348274346e-10\n"
     ]
    }
   ],
   "source": [
    "# Use esta caixa (e outras, se quiser) para fazer contas\n",
    "n = 30\n",
    "tq = [0]*n\n",
    "\n",
    "for i in range(1, n):\n",
    "    t0, t1 = tribonacci(i), tribonacci(i+1)\n",
    "    tq[i] = t1/t0\n",
    "    \n",
    "\n",
    "    print(t1, \"/\", t0, \"=\", tq[i], \"\\terro:\", abs(tq[i] - tq[i-1]) if i > 0 else \"\")"
   ]
  },
  {
   "cell_type": "markdown",
   "metadata": {
    "deletable": false,
    "nbgrader": {
     "checksum": "324a5d91ca3da021d1259b941bd6c891",
     "grade": true,
     "grade_id": "fibo_limite",
     "locked": false,
     "points": 3,
     "solution": true
    }
   },
   "source": [
    "$T_{n+1} / T_n \\rightarrow 1.839286755$\n",
    "\n",
    "A diferença entre os quocientes diminui conforme $i$ cresce. E de $i=4$ até $i=29$, a diferença entre os quocientes de $i$ e $i-1$ vai diminuindo. Isso indica que o quociente está convergindo e o valor dessa diferença dá a precisão que foi obtida até o momento. No caso avaliado, essa precisão é de 9 casas decimais."
   ]
  },
  {
   "cell_type": "markdown",
   "metadata": {},
   "source": [
    "Observe que calcular `tribonacci(30)` pode demorar um pouco. Isso porque a função recursiva se chama muitas vezes.\n",
    "\n",
    "Seja $C_n$ o número de vezes que a função `tribonacci` é chamada para calcular $T_n$.\n",
    "Escreva a recorrência que $C_n$ satisfaz (e as condições iniciais!)."
   ]
  },
  {
   "cell_type": "markdown",
   "metadata": {
    "deletable": false,
    "nbgrader": {
     "checksum": "c901040b3ae569daff196452f470365e",
     "grade": true,
     "grade_id": "rec_calls_rec",
     "locked": false,
     "points": 3,
     "solution": true
    }
   },
   "source": [
    "$ C_0 = C_1 = C_2 = 1 $\n",
    "\n",
    "$ C_n = 1 + C_{n-1} + C_{n-2} + C_{n-3} $, $ n\\in\\mathbb Z $ e $ n\\geq3 $"
   ]
  },
  {
   "cell_type": "markdown",
   "metadata": {},
   "source": [
    "Agora, programe a função que *calcula* $C_n$!"
   ]
  },
  {
   "cell_type": "code",
   "execution_count": null,
   "metadata": {
    "collapsed": false,
    "deletable": false,
    "nbgrader": {
     "checksum": "092855b43fc93dd208431bd2908134c4",
     "grade": true,
     "grade_id": "rec_calls_count_fun",
     "locked": false,
     "points": 3,
     "solution": true
    }
   },
   "outputs": [],
   "source": [
    "def c(n):\n",
    "    if 0 <= n <= 2:\n",
    "        return 1\n",
    "    \n",
    "    return 1 + c(n-1) + c(n-2) + c(n-3)"
   ]
  },
  {
   "cell_type": "code",
   "execution_count": null,
   "metadata": {
    "collapsed": false
   },
   "outputs": [],
   "source": [
    "c(4)"
   ]
  }
 ],
 "metadata": {
  "kernelspec": {
   "display_name": "Python 3",
   "language": "python",
   "name": "python3"
  },
  "language_info": {
   "codemirror_mode": {
    "name": "ipython",
    "version": 3
   },
   "file_extension": ".py",
   "mimetype": "text/x-python",
   "name": "python",
   "nbconvert_exporter": "python",
   "pygments_lexer": "ipython3",
   "version": "3.5.2"
  }
 },
 "nbformat": 4,
 "nbformat_minor": 0
}
