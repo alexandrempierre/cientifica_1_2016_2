{
 "cells": [
  {
   "cell_type": "markdown",
   "metadata": {},
   "source": [
    "# Exercício 1: Recorrências via indução\n",
    "\n",
    "No caso dos números de Tribonacci do Teste 1, a função que calcula o $n$-ésimo número leva um tempo muito grande para calcular $T_n$, porque:\n",
    "\n",
    "- $T_n$ é exponencialmente grande (aproximadamente $Aa^n$, onde $a$ é a maior raiz,\n",
    "- o computador basicamente calcula $T_n$ como uma soma de \"uns\".\n",
    "\n",
    "Isso é muito pouco eficiente, e é devido à forma da recorrência: estamos \"calculando\" $T_n$ a partir de vários valores anteriores, e para cada um deles também expandimos a função."
   ]
  },
  {
   "cell_type": "markdown",
   "metadata": {},
   "source": [
    "## Questão 1.1\n",
    "\n",
    "Expanda \"duas vezes\" $T_{10}$ usando a definição. Quais valores aparecem repetidos?"
   ]
  },
  {
   "cell_type": "markdown",
   "metadata": {
    "deletable": false,
    "nbgrader": {
     "checksum": "77fa74d5d811640257decff292c8d1a4",
     "grade": true,
     "grade_id": "expand_t10",
     "locked": false,
     "points": 2,
     "solution": true
    }
   },
   "source": [
    "$T_5, T_6, T_7$ e $T_8$"
   ]
  },
  {
   "cell_type": "markdown",
   "metadata": {},
   "source": [
    "## Questão 1.2\n",
    "\n",
    "Em vez de usar a recorrência \"descendo\", vamos fazer a recorrência \"subindo\".\n",
    "A dificuldade de fazer assim é que não podemos escrever a função `tribonacci` diretamente,\n",
    "mas temos que criar uma função auxiliar que retorna uma **lista** com todos os valores de $T_k$.\n",
    "\n",
    "Modifique a sua função \"Tribonacci\" para que, dado um valor de $n$, ela retorne a lista $[T_0, T_1, ..., T_n]$.\n",
    "Ela ainda deve ser uma função recursiva."
   ]
  },
  {
   "cell_type": "code",
   "execution_count": 25,
   "metadata": {
    "collapsed": false,
    "deletable": false,
    "nbgrader": {
     "checksum": "40b67fb81da4bc55cfaa156f8fe5a87c",
     "grade": false,
     "grade_id": "tribaux_fun",
     "locked": false,
     "solution": true
    }
   },
   "outputs": [],
   "source": [
    "tn = [0,1,1]\n",
    "\n",
    "def tribonacci_aux(n):\n",
    "    global tn\n",
    "    \n",
    "    if n >= 3:\n",
    "        if len(tn) <= n: tn = tn + [-1]*(n+1 - len(tn))\n",
    "        if tn[n] != -1: return tn\n",
    "\n",
    "        tri_aux = tribonacci_aux(n-1)\n",
    "        tri = tri_aux[n-1] + tri_aux[n-2] + tri_aux[n-3]\n",
    "        del tri_aux\n",
    "\n",
    "        tn[n] = tri\n",
    "    \n",
    "    return tn[:(n+1)]"
   ]
  },
  {
   "cell_type": "code",
   "execution_count": 26,
   "metadata": {
    "collapsed": false
   },
   "outputs": [
    {
     "data": {
      "text/plain": [
       "[0, 1, 1, 2, 4, 7, 13, 24, 44, 81, 149]"
      ]
     },
     "execution_count": 26,
     "metadata": {},
     "output_type": "execute_result"
    }
   ],
   "source": [
    "tribonacci_aux(10)"
   ]
  },
  {
   "cell_type": "code",
   "execution_count": 27,
   "metadata": {
    "collapsed": true,
    "deletable": false,
    "nbgrader": {
     "checksum": "99e94c919f12592f402c5901fc026d35",
     "grade": true,
     "grade_id": "tribaux_test1",
     "locked": true,
     "points": 1,
     "solution": false
    }
   },
   "outputs": [],
   "source": [
    "assert( tribonacci_aux(10) == [0, 1, 1, 2, 4, 7, 13, 24, 44, 81, 149])"
   ]
  },
  {
   "cell_type": "code",
   "execution_count": 28,
   "metadata": {
    "collapsed": false,
    "deletable": false,
    "nbgrader": {
     "checksum": "8c965d46f6fc813e32867d8f0e3d9415",
     "grade": true,
     "grade_id": "tribaux_test2",
     "locked": true,
     "points": 2,
     "solution": false
    }
   },
   "outputs": [],
   "source": [
    "for n in [15,37,44,99]:\n",
    "    assert (len(tribonacci_aux(n)) == n+1)"
   ]
  },
  {
   "cell_type": "markdown",
   "metadata": {},
   "source": [
    "Agora, escreva a função `tribonacci`, que dado $n$, retorna $T_n$, usando a função auxiliar."
   ]
  },
  {
   "cell_type": "code",
   "execution_count": 29,
   "metadata": {
    "collapsed": false,
    "deletable": false,
    "nbgrader": {
     "checksum": "d2877b035645a699a626ac47dbf39e41",
     "grade": false,
     "grade_id": "trib_fun",
     "locked": false,
     "solution": true
    }
   },
   "outputs": [],
   "source": [
    "def tribonacci(n):\n",
    "    if n < 0: return None\n",
    "    \n",
    "    return tribonacci_aux(n)[n]"
   ]
  },
  {
   "cell_type": "markdown",
   "metadata": {},
   "source": [
    "Não deve demorar mais para calcular números de Tribonacci grandes:"
   ]
  },
  {
   "cell_type": "code",
   "execution_count": 30,
   "metadata": {
    "collapsed": false
   },
   "outputs": [
    {
     "data": {
      "text/plain": [
       "53324762928098149064722658"
      ]
     },
     "execution_count": 30,
     "metadata": {},
     "output_type": "execute_result"
    }
   ],
   "source": [
    "tribonacci(99)"
   ]
  },
  {
   "cell_type": "code",
   "execution_count": 31,
   "metadata": {
    "collapsed": false
   },
   "outputs": [
    {
     "name": "stdout",
     "output_type": "stream",
     "text": [
      "The slowest run took 7.35 times longer than the fastest. This could mean that an intermediate result is being cached.\n",
      "100000 loops, best of 3: 1.89 µs per loop\n"
     ]
    }
   ],
   "source": [
    "%timeit tribonacci(99)"
   ]
  },
  {
   "cell_type": "code",
   "execution_count": 32,
   "metadata": {
    "collapsed": true,
    "deletable": false,
    "nbgrader": {
     "checksum": "46416017a5d3f16ab57fe9c9f6311872",
     "grade": true,
     "grade_id": "trib_testNone",
     "locked": true,
     "points": 1,
     "solution": false
    }
   },
   "outputs": [],
   "source": [
    "assert( tribonacci(-10) == None )"
   ]
  },
  {
   "cell_type": "code",
   "execution_count": 33,
   "metadata": {
    "collapsed": true,
    "deletable": false,
    "nbgrader": {
     "checksum": "4ec024fd4edbbd156d7ed7b6497fb867",
     "grade": true,
     "grade_id": "trib_test1",
     "locked": true,
     "points": 2,
     "solution": false
    }
   },
   "outputs": [],
   "source": [
    "assert(tribonacci(100) == 98079530178586034536500564)\n",
    "assert(tribonacci(123) == 119816209721856219780831547518850)"
   ]
  },
  {
   "cell_type": "code",
   "execution_count": 34,
   "metadata": {
    "collapsed": false,
    "deletable": false,
    "nbgrader": {
     "checksum": "7652940b762f471dde1f07838a14a87a",
     "grade": true,
     "grade_id": "trib_test2",
     "locked": true,
     "points": 2,
     "solution": false
    }
   },
   "outputs": [],
   "source": [
    "assert(tribonacci(800) == 17627422574752471525353674694219309679415886268963416637505056512245910229707078249039069017307408844578863945092089664268949381128058682920238927787970827914877430203951735522550301577864821340865462900648024912)"
   ]
  },
  {
   "cell_type": "markdown",
   "metadata": {},
   "source": [
    "## Questão 1.3\n",
    "\n",
    "Quantas vezes a função `tribonacci_aux` é chamada quando passamos um inteiro $n \\ge 0$? Como no Teste1, escreva uma recorrência que dá o número de vezes $C_n$ que ela é chamada."
   ]
  },
  {
   "cell_type": "markdown",
   "metadata": {
    "deletable": false,
    "nbgrader": {
     "checksum": "c7aac8ffae4d001c788ae24dc8923c75",
     "grade": true,
     "grade_id": "trib_calls",
     "locked": false,
     "points": 2,
     "solution": true
    }
   },
   "source": [
    "$C_0 = C_1 = C_2 = 1$\n",
    "\n",
    "$C_n = C_{n-1} + 1, n \\geq 3$\n",
    "\n",
    "Isso ocorre porque as chamadas para avaliar números que já apareceram na expansão da recursão são substituídas por uma consulta à lista."
   ]
  },
  {
   "cell_type": "markdown",
   "metadata": {},
   "source": [
    "## Observação\n",
    "\n",
    "Existem várias técnicas para modificar uma função recursiva de forma a torná-la mais eficiente.\n",
    "A ideia geral deste exercício consiste em escrever\n",
    "- uma função _auxiliar_, recursiva, que faz a maior parte das contas,\n",
    "- e uma função _principal_, que chama a função auxiliar depois de algumas verificações chama a função auxiliar, e depois \"traduz\" o resultado da auxiliar de volta para o usuário (no nosso caso, não queremos a lista inteira, só um número)."
   ]
  },
  {
   "cell_type": "markdown",
   "metadata": {},
   "source": [
    "# Exercício 2: Mais bisseção\n",
    "\n",
    "Vamos continuar estudando o método de bisseção, agora com garantias de erros absolutos e relativos ao mesmo tempo."
   ]
  },
  {
   "cell_type": "markdown",
   "metadata": {},
   "source": [
    "## Questão 2.1: uma função auxiliar\n",
    "\n",
    "Quando a bisseção retorna uma \"raiz\", ela dá o ponto médio de um intervalo $[a,b]$, onde temos certeza que há uma raiz de $f$.\n",
    "\n",
    "Escreva uma função `absrel(a,b)` que, dado um intervalo $[a,b]$, retorna o maior erro absoluto e o maior erro relativo que pode ocorrer ao considerar que a raiz é o ponto médio deste intervalo."
   ]
  },
  {
   "cell_type": "code",
   "execution_count": null,
   "metadata": {
    "collapsed": true
   },
   "outputs": [],
   "source": [
    "from numpy import infty"
   ]
  },
  {
   "cell_type": "code",
   "execution_count": null,
   "metadata": {
    "collapsed": true,
    "deletable": false,
    "nbgrader": {
     "checksum": "6d00e86f6ec03610e905712373bae3ad",
     "grade": false,
     "grade_id": "absrel_fun",
     "locked": false,
     "solution": true
    }
   },
   "outputs": [],
   "source": [
    "def absrel(a,b):\n",
    "    pass"
   ]
  },
  {
   "cell_type": "code",
   "execution_count": null,
   "metadata": {
    "collapsed": false
   },
   "outputs": [],
   "source": [
    "absrel(10,11)"
   ]
  },
  {
   "cell_type": "code",
   "execution_count": null,
   "metadata": {
    "collapsed": false,
    "deletable": false,
    "nbgrader": {
     "checksum": "ed77b42487de5cd7a606aba851a9f07f",
     "grade": true,
     "grade_id": "absrel_test1",
     "locked": true,
     "points": 2,
     "solution": false
    }
   },
   "outputs": [],
   "source": [
    "assert( absrel(1,2) == (.5, .5) )\n",
    "assert( absrel(10,11) == (0.5, 0.05))"
   ]
  },
  {
   "cell_type": "code",
   "execution_count": null,
   "metadata": {
    "collapsed": true,
    "deletable": false,
    "nbgrader": {
     "checksum": "3c5d1263efa823a67c5e257c76172a2e",
     "grade": true,
     "grade_id": "absrel_test2",
     "locked": true,
     "points": 2,
     "solution": false
    }
   },
   "outputs": [],
   "source": [
    "assert( absrel(-2,1) == (1.5, +infty) )"
   ]
  },
  {
   "cell_type": "markdown",
   "metadata": {},
   "source": [
    "## Questão 2.2: uma nova função de bisseção\n",
    "\n",
    "Modifique o método da bisseção para terminar quando o erro absoluto E o erro relativo forem menores que uma certa tolerância.\n",
    "Retorne uma tripla contendo, nesta ordem:\n",
    "\n",
    "- uma estimativa para a raiz $z$,\n",
    "- uma estimativa para o erro absoluto $eabs$,\n",
    "- uma estimativa para o erro relativo $erel$."
   ]
  },
  {
   "cell_type": "code",
   "execution_count": null,
   "metadata": {
    "collapsed": false,
    "deletable": false,
    "nbgrader": {
     "checksum": "5b18d3cf1af3a0ebcaf43746e924876d",
     "grade": false,
     "grade_id": "biss",
     "locked": false,
     "solution": true
    }
   },
   "outputs": [],
   "source": [
    "# YOUR CODE HERE\n",
    "raise NotImplementedError()"
   ]
  },
  {
   "cell_type": "markdown",
   "metadata": {},
   "source": [
    "Não se preocupe em obter valores iguais para as cotas superiores dos erros absoluto e relativo.\n",
    "\n",
    "O importante é que estas estimativas sejam **coerentes** com os requisitos do método da bisseção:\n",
    "\n",
    "- o erro absoluto real (ou seja, a diferença entre a raiz certa e a raiz calculada) deve ser menor do que a estimativa do erro absoluto,\n",
    "- o erro relativo real deve ser menor do que a estimativa do erro relativo.\n",
    "\n",
    "Note que é exatamente isso que vai ser testado em seguida!"
   ]
  },
  {
   "cell_type": "code",
   "execution_count": null,
   "metadata": {
    "collapsed": false
   },
   "outputs": [],
   "source": [
    "from math import sin, cos\n",
    "bissecao(cos, 1,5)"
   ]
  },
  {
   "cell_type": "code",
   "execution_count": null,
   "metadata": {
    "collapsed": false,
    "deletable": false,
    "nbgrader": {
     "checksum": "63599d70ac0e550b969504b1a3b79008",
     "grade": true,
     "grade_id": "biss_test1",
     "locked": true,
     "points": 3,
     "solution": false
    }
   },
   "outputs": [],
   "source": [
    "from math import pi\n",
    "x,err,rel = bissecao(sin,1,5)\n",
    "\n",
    "# Testando que o valor retornado está perto da resposta, e satisfaz as próprias estimativas\n",
    "assert(abs(x - pi)/pi < rel)\n",
    "assert(abs(x - pi) < err)\n",
    "\n",
    "# Testando que sai pela razão certa\n",
    "assert (rel < 1e-10)\n",
    "assert (err < 1e-10)"
   ]
  },
  {
   "cell_type": "code",
   "execution_count": null,
   "metadata": {
    "collapsed": true
   },
   "outputs": [],
   "source": [
    "def f(x):\n",
    "    return ((x**2 - 2)**2 - 2)**2 - 2 - x"
   ]
  },
  {
   "cell_type": "code",
   "execution_count": null,
   "metadata": {
    "collapsed": true,
    "deletable": false,
    "nbgrader": {
     "checksum": "929ff193f9241722986fcd87532b9ac6",
     "grade": true,
     "grade_id": "biss_test2",
     "locked": true,
     "points": 3,
     "solution": false
    }
   },
   "outputs": [],
   "source": [
    "x,err,rel = bissecao(f,1.4,1.6,reltol=1e-12)\n",
    "\n",
    "# Testando que o valor retornado está perto da resposta, e satisfaz as próprias estimativas\n",
    "v = 1.532088886238\n",
    "assert(abs(x - v)/v < rel)\n",
    "assert(abs(x - v) < err)\n",
    "\n",
    "# Testando que sai pela razão certa\n",
    "assert (err < 1e-10)\n",
    "assert (rel < 1e-12)"
   ]
  },
  {
   "cell_type": "markdown",
   "metadata": {},
   "source": [
    "## Questão 2.2\n",
    "\n",
    "Explique porque este método não funciona para achar uma raiz do seno no intervalo $[-1,1]$."
   ]
  },
  {
   "cell_type": "markdown",
   "metadata": {
    "deletable": false,
    "nbgrader": {
     "checksum": "1acd34a450c2167b29f341acb8207e64",
     "grade": true,
     "grade_id": "biss_zero",
     "locked": false,
     "points": 2,
     "solution": true
    }
   },
   "source": [
    "YOUR ANSWER HERE"
   ]
  },
  {
   "cell_type": "markdown",
   "metadata": {},
   "source": [
    "## Questão 2.3\n",
    "\n",
    "Quantas vezes o seu método de bisseção chama a rotina `f` que calcula o valor de $f(x)$?\n",
    "Implemente este valor de retorno a mais para a bisseção."
   ]
  },
  {
   "cell_type": "code",
   "execution_count": null,
   "metadata": {
    "collapsed": true,
    "deletable": false,
    "nbgrader": {
     "checksum": "3d18f4d3bbaf94f2f1274c46ef36a249",
     "grade": false,
     "grade_id": "bissn",
     "locked": false,
     "solution": true
    }
   },
   "outputs": [],
   "source": [
    "# YOUR CODE HERE\n",
    "raise NotImplementedError()"
   ]
  },
  {
   "cell_type": "code",
   "execution_count": null,
   "metadata": {
    "collapsed": false
   },
   "outputs": [],
   "source": [
    "# Talvez você obtenha um valor próximo de 60 para n\n",
    "bissecao_ncalls(cos,100,103)"
   ]
  },
  {
   "cell_type": "code",
   "execution_count": null,
   "metadata": {
    "collapsed": false,
    "deletable": false,
    "nbgrader": {
     "checksum": "c82c12d3a43ea30c4a021a136c6cc24a",
     "grade": true,
     "grade_id": "bissn_test1",
     "locked": true,
     "points": 3,
     "solution": false
    }
   },
   "outputs": [],
   "source": [
    "x,err,rel,n = bissecao_ncalls(sin,100,103)\n",
    "\n",
    "assert(abs(x - 32*pi) < err)\n",
    "assert(abs(x - 32*pi)/(32*pi) < rel)\n",
    "assert(25 < n < 70)"
   ]
  },
  {
   "cell_type": "code",
   "execution_count": null,
   "metadata": {
    "collapsed": true,
    "deletable": false,
    "nbgrader": {
     "checksum": "9381c8745fbf55086c37ffee2562dd6a",
     "grade": true,
     "grade_id": "bissn_test2",
     "locked": true,
     "points": 3,
     "solution": false
    }
   },
   "outputs": [],
   "source": [
    "x,err,rel,n = bissecao_ncalls(f,-0.5,0)\n",
    "\n",
    "v = -0.4450418679126287\n",
    "assert(abs(x - v)/v < rel)\n",
    "assert(abs(x - v) < err)\n",
    "\n",
    "# Testando que sai pela razão certa\n",
    "assert (err < 1e-10)\n",
    "assert(30 < n < 80)"
   ]
  }
 ],
 "metadata": {
  "kernelspec": {
   "display_name": "Python 3",
   "language": "python",
   "name": "python3"
  },
  "language_info": {
   "codemirror_mode": {
    "name": "ipython",
    "version": 3
   },
   "file_extension": ".py",
   "mimetype": "text/x-python",
   "name": "python",
   "nbconvert_exporter": "python",
   "pygments_lexer": "ipython3",
   "version": "3.5.2"
  }
 },
 "nbformat": 4,
 "nbformat_minor": 0
}
