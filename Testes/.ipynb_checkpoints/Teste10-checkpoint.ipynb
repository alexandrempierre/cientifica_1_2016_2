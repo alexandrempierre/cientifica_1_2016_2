{
 "cells": [
  {
   "cell_type": "code",
   "execution_count": 1,
   "metadata": {
    "collapsed": false
   },
   "outputs": [
    {
     "name": "stdout",
     "output_type": "stream",
     "text": [
      "Populating the interactive namespace from numpy and matplotlib\n"
     ]
    }
   ],
   "source": [
    "%pylab inline"
   ]
  },
  {
   "cell_type": "markdown",
   "metadata": {},
   "source": [
    "# Autovetores\n",
    "\n",
    "## Iteração de Rayleigh\n",
    "\n",
    "Vimos que podemos iterar um vetor $v$ pela matriz $A$, obtendo a sequência de vetores $A^n v$,\n",
    "por multiplicações sucessivas, e que isso permite encontrar um autovetor."
   ]
  },
  {
   "cell_type": "markdown",
   "metadata": {},
   "source": [
    "### Questão 1\n",
    "\n",
    "Implemente uma função `itera(A,v,tol)` que itera o vetor $v$, normalizando a cada iteração,\n",
    "e que retorna ($\\lambda$, $v_\\lambda$, $n$) com uma estimativa do autovalor e do autovetor,\n",
    "além do número de iterações realizadas."
   ]
  },
  {
   "cell_type": "code",
   "execution_count": 4,
   "metadata": {
    "collapsed": true
   },
   "outputs": [],
   "source": [
    "def normalize(v):\n",
    "    if isinstance(v,list):\n",
    "        v = array(v)\n",
    "    assert(isinstance(v,ndarray))\n",
    "    assert(any(v != 0))\n",
    "    \n",
    "    return v/norm(v)"
   ]
  },
  {
   "cell_type": "code",
   "execution_count": 17,
   "metadata": {
    "collapsed": false,
    "deletable": false,
    "nbgrader": {
     "checksum": "0348f1c69893c0360c5b4dc7399bbbe2",
     "grade": false,
     "grade_id": "itera",
     "locked": false,
     "solution": true
    }
   },
   "outputs": [],
   "source": [
    "def itera(A,v,tol=1e-12):\n",
    "    n,m = shape(A)\n",
    "    assert n==m, 'A must be square'\n",
    "    \n",
    "    n_calls = 1\n",
    "    v = normalize(v)\n",
    "    Av = dot(A,v)\n",
    "    v1 = normalize(Av)\n",
    "    err = dot(A,v) - norm(Av)*v\n",
    "    while norm(err) >= tol:\n",
    "        n_calls += 1\n",
    "        v = v1\n",
    "        Av = dot(A,v)\n",
    "        v1 = normalize(Av)\n",
    "        err = dot(A,v) - norm(Av)*v\n",
    "    \n",
    "    return norm(Av),v1,n_calls\n",
    "    \n",
    "    '''# YOUR CODE HERE\n",
    "    raise NotImplementedError()'''"
   ]
  },
  {
   "cell_type": "markdown",
   "metadata": {},
   "source": [
    "Verifique que a sua função está funcionando:"
   ]
  },
  {
   "cell_type": "code",
   "execution_count": 20,
   "metadata": {
    "collapsed": false,
    "deletable": false,
    "nbgrader": {
     "checksum": "fe45fe981a5d999e3969009e6244a116",
     "grade": true,
     "grade_id": "itera_22",
     "locked": true,
     "points": 3,
     "solution": false
    }
   },
   "outputs": [],
   "source": [
    "# Autovetores conhecidos\n",
    "A = [[1,2],[2,1]]\n",
    "l, v, n = itera(A,[1,2])\n",
    "assert(abs(l-3) < 1e-15)\n",
    "assert(all(abs(2*v-[sqrt(2),sqrt(2)] < 1e-12)))\n",
    "assert(n < 30)"
   ]
  },
  {
   "cell_type": "code",
   "execution_count": 35,
   "metadata": {
    "collapsed": false,
    "deletable": false,
    "nbgrader": {
     "checksum": "eea2456be8b8bceffced1e877f39eb5a",
     "grade": true,
     "grade_id": "itera_44",
     "locked": true,
     "points": 2,
     "solution": false
    }
   },
   "outputs": [],
   "source": [
    "# Autovetores aleatórios: verificando que satisfaz (aproximadamente) a definição\n",
    "seed(4444)\n",
    "A = rand(4,4)\n",
    "l, v, n = itera(A, rand(4))\n",
    "err = dot(A,v) - l*v\n",
    "assert(norm(err) < 1e-12)\n",
    "assert(n < 30)"
   ]
  },
  {
   "cell_type": "markdown",
   "metadata": {},
   "source": [
    "### Questão 2: outros autovetores?\n",
    "\n",
    "Encontre um vetor $u$ ortogonal a $v$ da questão anterior."
   ]
  },
  {
   "cell_type": "code",
   "execution_count": 44,
   "metadata": {
    "collapsed": true,
    "deletable": false,
    "nbgrader": {
     "checksum": "50a5f195bd867fff99183807c5be2d76",
     "grade": false,
     "grade_id": "u_perp_v",
     "locked": false,
     "solution": true
    }
   },
   "outputs": [],
   "source": [
    "def vetor_ortogonal(v):\n",
    "    assert(isinstance(v,list) or isinstance(v,ndarray))\n",
    "    assert(len(v) >= 2)\n",
    "    return array([-v[1],v[0]]+[0 for v_i in v[2:]])\n",
    "\n",
    "u = vetor_ortogonal(v)"
   ]
  },
  {
   "cell_type": "code",
   "execution_count": 43,
   "metadata": {
    "collapsed": true,
    "deletable": false,
    "nbgrader": {
     "checksum": "d9d9a8789536e920db7fe5c82f1e076d",
     "grade": true,
     "grade_id": "orthogonal",
     "locked": true,
     "points": 2,
     "solution": false
    }
   },
   "outputs": [],
   "source": [
    "assert(abs(dot(u,v)) < 1e-15)"
   ]
  },
  {
   "cell_type": "markdown",
   "metadata": {},
   "source": [
    "O vetor $u$ converge para o mesmo valor que $v$? Explique."
   ]
  },
  {
   "cell_type": "code",
   "execution_count": null,
   "metadata": {
    "collapsed": false,
    "deletable": false,
    "nbgrader": {
     "checksum": "21d0891e9ed9bfa5ac96134663a01adf",
     "grade": false,
     "grade_id": "itera_A_u",
     "locked": true,
     "solution": false
    }
   },
   "outputs": [],
   "source": [
    "itera(A,u)"
   ]
  },
  {
   "cell_type": "code",
   "execution_count": null,
   "metadata": {
    "collapsed": true,
    "deletable": false,
    "nbgrader": {
     "checksum": "df976776073cc16cf135e4278751972d",
     "grade": true,
     "grade_id": "itera_A_u_exp",
     "locked": false,
     "points": 2,
     "solution": true
    }
   },
   "outputs": [],
   "source": [
    "# YOUR CODE HERE\n",
    "raise NotImplementedError()"
   ]
  },
  {
   "cell_type": "markdown",
   "metadata": {},
   "source": [
    "# Iteração inversa\n",
    "\n",
    "Em vez de iterar $A^n v$, é possível iterar $A^{-n} v$.\n",
    "Assim, em vez de \"aumentar\" os vetores correspondentes aos autovalores de módulo grande,\n",
    "estes serão \"diminuídos\", e sobra o vetor do \"menor\" (de novo, em módulo) autovalor.\n",
    "\n",
    "É claro que não vamos calcular $A^{-1}$ e iterar, já que a própria $A^{-1}$ é numericamente instável.\n",
    "O que vamos fazer é: resolver $Ax = v$, o que dá $v_{-1} = A^{-1}v = x$.\n",
    "Depois resolvemos $Ay = v_{-1}$, o que dá $v_{-2} = A^{-1}v_{-1} = A^{-2}v$.\n",
    "E assim por diante.\n",
    "\n",
    "Por isso é importante fatorar $A$, para que a solução de _vários sistemas_ com a mesma matriz $A$ seja rápida.\n",
    "Ou seja, não vamos usar `solve` ;-)\n",
    "\n",
    "Como na iteração \"normal\" (progressiva, de Rayleigh), normaliza-se a cada iteração os vetores obtidos."
   ]
  },
  {
   "cell_type": "markdown",
   "metadata": {},
   "source": [
    "### Questão 3. Implementando\n",
    "\n",
    "Implemente a iteração inversa.\n",
    "Retorne \n",
    "- o autovalor $\\lambda$;\n",
    "- a lista de todos os vetores $v_{-k}$ produzidos, para observar a velocidade de convergência.\n",
    "\n",
    "No `scipy`, existem duas funções que você pode usar:\n",
    "- `lu_factor` para a fatoração,\n",
    "- `lu_solve` para resolver $Ax = b$ com a informação retornada pela `lu_factor`."
   ]
  },
  {
   "cell_type": "code",
   "execution_count": null,
   "metadata": {
    "collapsed": true
   },
   "outputs": [],
   "source": [
    "from scipy.linalg import lu_factor, lu_solve"
   ]
  },
  {
   "cell_type": "code",
   "execution_count": null,
   "metadata": {
    "collapsed": true,
    "deletable": false,
    "nbgrader": {
     "checksum": "db594f6babe98946f5f922460e879def",
     "grade": true,
     "grade_id": "backwards_iter",
     "locked": false,
     "points": 2,
     "solution": true
    }
   },
   "outputs": [],
   "source": [
    "def backwards_iter(A, v, tol=1e-6):\n",
    "    n,m = shape(A)\n",
    "    assert n==m, 'A must be square'\n",
    "    \n",
    "    # YOUR CODE HERE\n",
    "    raise NotImplementedError()"
   ]
  },
  {
   "cell_type": "code",
   "execution_count": null,
   "metadata": {
    "collapsed": false,
    "deletable": false,
    "nbgrader": {
     "checksum": "c78992bc05cbdd318645f2e6976f6bcb",
     "grade": true,
     "grade_id": "backwards_iter_test",
     "locked": true,
     "points": 2,
     "solution": false
    }
   },
   "outputs": [],
   "source": [
    "A = identity(4) + ones((4,4))\n",
    "lam, ws = backwards_iter(A, rand(4))\n",
    "last = ws[-1]\n",
    "\n",
    "# Testa a convergência do vetor para um autovetor correspondente a $\\lambda = 1$.\n",
    "assert (dot(last, dot(A,last)) - 1) < 1e-6"
   ]
  },
  {
   "cell_type": "code",
   "execution_count": null,
   "metadata": {
    "collapsed": false,
    "deletable": false,
    "nbgrader": {
     "checksum": "6e41d1814dce5759fae3f1a4e44d7217",
     "grade": true,
     "grade_id": "backwards_iter_cv_test",
     "locked": true,
     "points": 2,
     "solution": false
    }
   },
   "outputs": [],
   "source": [
    "# Teste que o vetor está cada vez mais próximo do autovetor para o autovalor 1.\n",
    "teste_conv = [dot(x, dot(A,x)) - 1 for x in ws]\n",
    "assert all(diff(teste_conv) < 0)"
   ]
  },
  {
   "cell_type": "markdown",
   "metadata": {},
   "source": [
    "### Questão 4: vendo a convergência\n",
    "\n",
    "Faça um gráfico da velocidade de convergência para o caso acima:\n",
    "- a distância entre os vetores intermediários e o autovetor limite\n",
    "- a distância entre as estimativas do autovalor ($w^T A w$) e o autovalor real.\n",
    "\n",
    "Dica: a função `norm` do `numpy` calcula diferentes normas de vetores (e matrizes, mas não precisaremos disso aqui)."
   ]
  },
  {
   "cell_type": "code",
   "execution_count": null,
   "metadata": {
    "collapsed": false,
    "deletable": false,
    "nbgrader": {
     "checksum": "1de40ede2f4e3183d47a63466d6b99f1",
     "grade": true,
     "grade_id": "limits_4",
     "locked": false,
     "points": 2,
     "solution": true
    }
   },
   "outputs": [],
   "source": [
    "# Determine abaixo o autovetor e o autovalor, nas variáveis l_lim, w_lim\n",
    "# YOUR CODE HERE\n",
    "raise NotImplementedError()"
   ]
  },
  {
   "cell_type": "code",
   "execution_count": null,
   "metadata": {
    "collapsed": false,
    "deletable": false,
    "nbgrader": {
     "checksum": "fd523df48aa499c684e0f853f14c33e5",
     "grade": true,
     "grade_id": "graphs_4",
     "locked": false,
     "points": 4,
     "solution": true
    }
   },
   "outputs": [],
   "source": [
    "# E faça o gráfico aqui. Não esqueça de títulos, legendas, ... que os tornem claros!\n",
    "# YOUR CODE HERE\n",
    "raise NotImplementedError()"
   ]
  },
  {
   "cell_type": "markdown",
   "metadata": {},
   "source": [
    "### Questão 5: Mais dimensões\n",
    "\n",
    "Refaça o estudo acima para uma matriz $20\\times20$: calcule as iteradas inversas e faça gráficos."
   ]
  },
  {
   "cell_type": "code",
   "execution_count": null,
   "metadata": {
    "collapsed": false,
    "deletable": false,
    "nbgrader": {
     "checksum": "d88dd3bfe467d089225c58023d397499",
     "grade": true,
     "grade_id": "graf_backwards",
     "locked": false,
     "points": 2,
     "solution": true
    }
   },
   "outputs": [],
   "source": [
    "seed(3334)\n",
    "A = randn(20,20)\n",
    "A = A + A.T\n",
    "\n",
    "# YOUR CODE HERE\n",
    "raise NotImplementedError()"
   ]
  },
  {
   "cell_type": "markdown",
   "metadata": {},
   "source": [
    "Qual das medidas de erro converge mais rápido?"
   ]
  },
  {
   "cell_type": "markdown",
   "metadata": {
    "deletable": false,
    "nbgrader": {
     "checksum": "4c6281a1935b4596d4c5130139f08a3f",
     "grade": true,
     "grade_id": "velocidade",
     "locked": false,
     "points": 2,
     "solution": true
    }
   },
   "source": [
    "YOUR ANSWER HERE"
   ]
  },
  {
   "cell_type": "markdown",
   "metadata": {},
   "source": [
    "### Questão 6: Tabela\n",
    "\n",
    "Modifique a sua função de iteração inversa para imprimir uma tabela com o seguinte formato:\n",
    "    # Iteração     erro    |   u_1      u_2      u_3   \n",
    "             1   2.0998444 | -0.04944  0.15350  0.06061\n",
    "             2   0.0432280 | -0.04085  0.17360  0.05008\n",
    "             3   0.0069448 | -0.04029  0.17626  0.04782\n",
    "             4   0.0008546 | -0.04025  0.17655  0.04739\n",
    "             5   0.0001012 | -0.04025  0.17654  0.04736\n",
    "             6   0.0000254 | -0.04025  0.17654  0.04736\n",
    "             7   0.0000051 | -0.04025  0.17653  0.04737\n",
    "\n",
    "onde o erro terá 7 casas decimais e $u$, 5.  Cuidado com os sinais de menos.\n",
    "\n",
    "Tabém inclua um limite de iterações a serem feitas."
   ]
  },
  {
   "cell_type": "code",
   "execution_count": null,
   "metadata": {
    "collapsed": true,
    "deletable": false,
    "nbgrader": {
     "checksum": "cd93c427b6b592788c21a35e30c3aa57",
     "grade": false,
     "grade_id": "backwards_table",
     "locked": false,
     "solution": true
    }
   },
   "outputs": [],
   "source": [
    "def backwards_iter(A, v, tol=1e-6, maxiter=20):\n",
    "    n,m = shape(A)\n",
    "    assert n==m, 'A must be square'\n",
    "\n",
    "    # YOUR CODE HERE\n",
    "    raise NotImplementedError()"
   ]
  },
  {
   "cell_type": "code",
   "execution_count": null,
   "metadata": {
    "collapsed": false,
    "deletable": false,
    "nbgrader": {
     "checksum": "fe9df1b68308495e03ad4886c8d7efdf",
     "grade": false,
     "grade_id": "beta_test",
     "locked": true,
     "solution": false
    },
    "scrolled": true
   },
   "outputs": [],
   "source": [
    "# Esta linha deve retornar a tabela-exemplo acima.\n",
    "seed(3332)\n",
    "A = rand(20,20)\n",
    "#A = A + A.T\n",
    "v = rand(20)\n",
    "l,ws = backwards_iter(A,v)"
   ]
  },
  {
   "cell_type": "code",
   "execution_count": null,
   "metadata": {
    "collapsed": false,
    "deletable": false,
    "nbgrader": {
     "checksum": "ccd310561ba21ebbcd06cbf71c88ce07",
     "grade": true,
     "grade_id": "tabela_outra",
     "locked": false,
     "points": 2,
     "solution": true
    }
   },
   "outputs": [],
   "source": [
    "# YOUR CODE HERE\n",
    "raise NotImplementedError()"
   ]
  },
  {
   "cell_type": "markdown",
   "metadata": {},
   "source": [
    "### Questão 7: usando a tabela\n",
    "\n",
    "Observe o que aconteceu no caso acima.\n",
    "É bem possível que mesmo permitindo 1000 iterações, o seu método ache que ainda não convergiu.\n",
    "A tabela pode (deveria!) dar uma idéia porquê.\n",
    "\n",
    "Modifique (se necessário) o critério de detecção de convergência de `backwards_iter` para que este caso também seja percebido."
   ]
  },
  {
   "cell_type": "code",
   "execution_count": null,
   "metadata": {
    "collapsed": true,
    "deletable": false,
    "nbgrader": {
     "checksum": "8986dd614f45e4acefe9b10e17ce9707",
     "grade": false,
     "grade_id": "backwards_final",
     "locked": false,
     "points": 0,
     "solution": true
    }
   },
   "outputs": [],
   "source": [
    "def backwards_iter(A, v, tol=1e-6, maxiter=20):\n",
    "    n,m = shape(A)\n",
    "    assert n==m, 'A must be square'\n",
    "\n",
    "    # YOUR CODE HERE\n",
    "    raise NotImplementedError()"
   ]
  },
  {
   "cell_type": "code",
   "execution_count": null,
   "metadata": {
    "collapsed": false,
    "deletable": false,
    "nbgrader": {
     "checksum": "18b710252e838bfa7ce8efb64af46db9",
     "grade": false,
     "grade_id": "backwards_tabela",
     "locked": true,
     "points": 1,
     "solution": false
    }
   },
   "outputs": [],
   "source": [
    "seed(3332)\n",
    "A = rand(20,20)\n",
    "A = A + A.T\n",
    "v = rand(20)\n",
    "l,ws = backwards_iter(A,v)"
   ]
  },
  {
   "cell_type": "code",
   "execution_count": null,
   "metadata": {
    "collapsed": false,
    "deletable": false,
    "nbgrader": {
     "checksum": "f1facd25f26003ab49f9c5ab899b1551",
     "grade": true,
     "grade_id": "backwards_stop",
     "locked": true,
     "points": 3,
     "solution": false
    },
    "scrolled": true
   },
   "outputs": [],
   "source": [
    "seed(3332)\n",
    "A = rand(20,20)\n",
    "A = A + A.T\n",
    "v = rand(20)\n",
    "l,ws = backwards_iter(A,v, maxiter=1000)\n",
    "assert(len(ws) < 500)"
   ]
  }
 ],
 "metadata": {
  "kernelspec": {
   "display_name": "Python 3",
   "language": "python",
   "name": "python3"
  },
  "language_info": {
   "codemirror_mode": {
    "name": "ipython",
    "version": 3
   },
   "file_extension": ".py",
   "mimetype": "text/x-python",
   "name": "python",
   "nbconvert_exporter": "python",
   "pygments_lexer": "ipython3",
   "version": "3.5.2"
  }
 },
 "nbformat": 4,
 "nbformat_minor": 0
}
