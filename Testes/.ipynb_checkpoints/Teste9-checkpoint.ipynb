{
 "cells": [
  {
   "cell_type": "markdown",
   "metadata": {},
   "source": [
    "# Polinômios ortogonais e integração"
   ]
  },
  {
   "cell_type": "code",
   "execution_count": 1,
   "metadata": {
    "collapsed": false,
    "deletable": false,
    "nbgrader": {
     "checksum": "b33c02bafa2e0acdc3374592604ee504",
     "grade": false,
     "grade_id": "pylab",
     "locked": true,
     "solution": false
    }
   },
   "outputs": [
    {
     "name": "stdout",
     "output_type": "stream",
     "text": [
      "Populating the interactive namespace from numpy and matplotlib\n"
     ]
    }
   ],
   "source": [
    "%pylab inline"
   ]
  },
  {
   "cell_type": "markdown",
   "metadata": {},
   "source": [
    "## Parte 1: Produtos internos e Ortogonalização\n",
    "\n",
    "Vamos generalizar a idéia do algoritmo de Gram-Schmidt para um produto interno qualquer:\n",
    "Dados\n",
    "1. Uma família L.I. de vetores $v_i$ (não precisa ser uma base)\n",
    "2. Um produto interno $Q(\\cdot, \\cdot)$\n",
    "\n",
    "queremos determinar um conjunto de vetores $u_i$ que sejam ortonormais com relação a $Q$.\n",
    "\n",
    "### Questão 1:\n",
    "\n",
    "Vamos nos limitar a vetores de $R^n$ (porque é o que o seu computador entende fácil com `array`s do `numpy`.\n",
    "\n",
    "Escreva uma função `GramSchmidt(vs, Q)` que recebe uma lista `vs` de vetores do mesmo tamanho e uma função `Q` que calcula o produto interno, e retorna uma lista `us` de vetores ortonormais tais que o espaço gerado pelos vetores `us[:k]` seja o mesmo que o gerado pelos vetores `vs[:k]`.  Essas duas propriedades caracterizam completamente o algoritmo de Gram-Schmidt (a menos de trocar o sinal de `us`)\n",
    "\n",
    "Dica: normalize o primeiro vetor e retire a componente dele dos seguintes, e continue por indução."
   ]
  },
  {
   "cell_type": "code",
   "execution_count": 34,
   "metadata": {
    "collapsed": false,
    "deletable": false,
    "nbgrader": {
     "checksum": "228b32e6a68460ec88d7c6f2e53d01db",
     "grade": false,
     "grade_id": "gs_fun",
     "locked": false,
     "solution": true
    }
   },
   "outputs": [],
   "source": [
    "def normalize(v,Q=None):\n",
    "    assert(isinstance(v,ndarray))\n",
    "    if Q is None:\n",
    "        return v/norm(v)\n",
    "    assert(callable(Q))\n",
    "    sqr_norm = Q(v,v)\n",
    "    return v*sqrt(sqr_norm)/sqr_norm\n",
    "\n",
    "def proj(u,v,Q):\n",
    "    assert(len(u) == len(v))\n",
    "    assert(isinstance(u,ndarray) and isinstance(v,ndarray))\n",
    "    return Q(u,v)/Q(u,u)*u\n",
    "\n",
    "def GramSchmidt(vs, Q):\n",
    "    ''' Gram-Schmidt orthonormalization of the vectors `vs` with inner product Q.'''\n",
    "    vs = [array(v) for v in vs]\n",
    "    us = []\n",
    "    for i,v in enumerate(vs):\n",
    "        u = v - sum(proj(u_i,v,Q) for u_i in us[:i+1])\n",
    "        us.append(normalize(u,Q))\n",
    "    return us"
   ]
  },
  {
   "cell_type": "code",
   "execution_count": 35,
   "metadata": {
    "collapsed": true,
    "deletable": false,
    "nbgrader": {
     "checksum": "9ee4698cfd0148c10769157a2b65c325",
     "grade": false,
     "grade_id": "canonico",
     "locked": true,
     "solution": false
    }
   },
   "outputs": [],
   "source": [
    "def canonico(u,v):\n",
    "    ''' Produto interno canônico em R^n '''\n",
    "    return sum(ui*vi for ui,vi in zip(u,v))"
   ]
  },
  {
   "cell_type": "markdown",
   "metadata": {},
   "source": [
    "Testes\n",
    "1. Acertando a base num caso simples\n",
    "2. Acertando a base num caso mais complicado\n",
    "3. Testa de fato que os vetores retornados são ortonormais"
   ]
  },
  {
   "cell_type": "code",
   "execution_count": 36,
   "metadata": {
    "collapsed": false,
    "deletable": false,
    "nbgrader": {
     "checksum": "3a5ad3955edc4232df36a6083753e9fc",
     "grade": true,
     "grade_id": "gs_base1",
     "locked": true,
     "points": 1,
     "solution": false
    }
   },
   "outputs": [],
   "source": [
    "base1 = eye(3)\n",
    "us = GramSchmidt([[3,0,0], [2,5,0], [4,3,2]], canonico)\n",
    "assert(allclose(base1, us, rtol=1e-12, atol=1e-12))"
   ]
  },
  {
   "cell_type": "code",
   "execution_count": 37,
   "metadata": {
    "collapsed": false,
    "deletable": false,
    "nbgrader": {
     "checksum": "ec95dad18ed3217331d77307675d3a10",
     "grade": true,
     "grade_id": "gs_vector1",
     "locked": true,
     "points": 1,
     "solution": false
    }
   },
   "outputs": [],
   "source": [
    "v2 = [-0.49205628,  0.33667009,  0.80282867]\n",
    "us = GramSchmidt([[3,2,1], [2,5,6], [4,3,2]], canonico)\n",
    "assert(allclose(us[1], v2))"
   ]
  },
  {
   "cell_type": "code",
   "execution_count": 38,
   "metadata": {
    "collapsed": false,
    "deletable": false,
    "nbgrader": {
     "checksum": "80be0e494eb21781569d1f082fe111d3",
     "grade": true,
     "grade_id": "gs_random1",
     "locked": true,
     "points": 1,
     "solution": false
    }
   },
   "outputs": [],
   "source": [
    "us = GramSchmidt(rand(6,6), canonico)\n",
    "produtos = [[canonico(ui,uj) for ui in us] for uj in us]\n",
    "assert(allclose(eye(6), produtos, rtol=1e-12, atol=1e-12))"
   ]
  },
  {
   "cell_type": "markdown",
   "metadata": {},
   "source": [
    "Agora, os testes para um produto interno diferente:"
   ]
  },
  {
   "cell_type": "code",
   "execution_count": 39,
   "metadata": {
    "collapsed": true,
    "deletable": false,
    "nbgrader": {
     "checksum": "61dfe496cbc331d1a5dddaac236eee90",
     "grade": false,
     "grade_id": "pi_diagonal",
     "locked": true,
     "solution": false
    }
   },
   "outputs": [],
   "source": [
    "def pi_diagonal(d):\n",
    "    ''' Produto interno com pesos na diagonal em R^n '''\n",
    "    def pi(u,v):\n",
    "        return sum(di*ui*vi for di,ui,vi in zip(d,u,v))\n",
    "    return pi"
   ]
  },
  {
   "cell_type": "code",
   "execution_count": 40,
   "metadata": {
    "collapsed": false,
    "deletable": false,
    "nbgrader": {
     "checksum": "03ee53cdad69758c4073000f5006e84b",
     "grade": true,
     "grade_id": "gs_base2",
     "locked": true,
     "points": 2,
     "solution": false
    }
   },
   "outputs": [],
   "source": [
    "pesos = [3,2,4]\n",
    "Q = pi_diagonal(pesos)\n",
    "base1 = eye(3)/sqrt(pesos)\n",
    "us = GramSchmidt([[3,0,0], [2,5,0], [4,3,2]], Q)\n",
    "assert(allclose(base1, us, rtol=1e-12, atol=1e-12))"
   ]
  },
  {
   "cell_type": "code",
   "execution_count": 41,
   "metadata": {
    "collapsed": false,
    "deletable": false,
    "nbgrader": {
     "checksum": "5e5e1d57fec9a93e2dd36b8deac4dbb7",
     "grade": true,
     "grade_id": "gs_vector2",
     "locked": true,
     "points": 1,
     "solution": false
    }
   },
   "outputs": [],
   "source": [
    "v2 = [-0.267168  ,  0.17563822,  0.42548978]\n",
    "us = GramSchmidt([[3,2,1], [2,5,6], [4,3,2]], Q)\n",
    "assert(allclose(us[1], v2))"
   ]
  },
  {
   "cell_type": "code",
   "execution_count": 42,
   "metadata": {
    "collapsed": false,
    "deletable": false,
    "nbgrader": {
     "checksum": "3d0278ede032c0d6c9806d3dfa0e9462",
     "grade": true,
     "grade_id": "gs_random2",
     "locked": true,
     "points": 2,
     "solution": false
    }
   },
   "outputs": [],
   "source": [
    "Q = pi_diagonal(rand(6))\n",
    "us = GramSchmidt(rand(6,6), Q)\n",
    "produtos = [[Q(ui,uj) for ui in us] for uj in us]\n",
    "assert(allclose(eye(6), produtos, rtol=1e-12, atol=1e-12))"
   ]
  },
  {
   "cell_type": "markdown",
   "metadata": {},
   "source": [
    "### Questão 2: Álgebra Linear\n",
    "\n",
    "Seria bom poder usar algum algoritmo \"já pronto\" para calcular uma base ortonormal.\n",
    "\n",
    "Uma ideia é a seguinte: a base canônica já é um conjunto L.I., então basta calcular uma base ortonormal a partir desta.\n",
    "Considere a matriz $P$ que contém os produtos internos entre os vetores $e_i$ e $e_j$ na entrada $P_{i,j}$.\n",
    "$P$ é uma matriz simétrica, positiva definida; é a \"matriz do produto interno\" na base canônica.\n",
    "\n",
    "A fatoração de Cholesky de $P$ dá uma matriz $L$, triangular inferior, tal que $P = L \\cdot L^T$.\n",
    "Considere a inversa $L_\\text{inv} = L^{-1}$.\n",
    "\n",
    "Mostre que:\n",
    "1. $L_\\text{inv}$ também é triangular inferior; e deduza que\n",
    "2. As linhas de $L_\\text{inv}$ são L.I.\n",
    "3. O produto interno de dois vetores $u$ e $v$ é dado por $\\sum u_i P_{i,j} v_j = u^T P v$; e deduza que\n",
    "4. As linhas de $L_\\text{inv}$ são ortogonais com relação ao produto interno definido pela matriz $P$."
   ]
  },
  {
   "cell_type": "markdown",
   "metadata": {
    "deletable": false,
    "nbgrader": {
     "checksum": "c31331ce0457893254d4aab6e163e22a",
     "grade": true,
     "grade_id": "gs_cholesky",
     "locked": false,
     "points": 5,
     "solution": true
    }
   },
   "source": [
    "A matriz identidade $I$ é o elemento neutro do produto de matrizes, ou seja, $I.A = A.I = A$, os elementos de $I$ são definidos por $I_{ij} = \\delta_{ij} = \\begin{cases} 1, \\text{ se } i = j \\\\ 0, \\text{ se } i \\neq j \\end{cases}$\n",
    "\n",
    "O produto interno entre dois vetores $\\langle u,v \\rangle$ é definido pelas seguintes propriedades:\n",
    "\n",
    "(1) $\\langle u,v \\rangle$ = $\\langle v,u \\rangle$\n",
    "\n",
    "(2) $\\langle u + kx,v \\rangle$ = $\\langle u,v \\rangle$ + $k \\langle x,v \\rangle$, a primeira propriedade garante que isso vale para os dois termos do produto interno\n",
    "\n",
    "(3) $\\langle u,u \\rangle \\geq 0$\n",
    "\n",
    "Além disso: $\\langle u,u \\rangle = 0 \\iff u = 0$\n",
    "\n",
    "Uma definição que vem com o produto interno é a de perpendicularidade: $\\langle u,v \\rangle = 0 \\iff u \\perp v$. Definido dessa forma, o vetor nulo é perpendicular a qualquer vetor, inclusive ao próprio vetor nulo. Por enquanto vai ficar assim mesmo $v \\perp v \\iff v = 0$\n",
    "\n",
    "1. Uma forma de encontrar a inversa de uma matriz $L$ é aplicar a Eliminação de Gauss-Jordan que consiste em zerar os elementos acima e abaixo do pivô, se os elementos acima já estão zerados nada vai ser feito nesse sentido.\n",
    "\n",
    "2. Dada uma matriz $L$ sua inversa $L_{inv} = L^{-1}$ é tal que $L.L_{inv} = L_{inv}.L = I$. Sabendo disso é fácil notar que $L = (L_{inv})^{-1}$ já que $L_{inv}.L = L.L_{inv} = I$. Sabendo que para ser invertível uma matriz tem que ter linhas L.I., então $L_{inv}$ tem que ter linhas L.I.\n",
    "\n",
    "3. Para vetores $u,v \\in V$, onde $V$ é um espaço vetorial com um número finito de dimensões e produto interno:\n",
    "\n",
    "$\\displaystyle u = \\sum\\limits_i^d u_i e_i$\n",
    "\n",
    "$\\displaystyle v = \\sum\\limits_j^d v_j e_j$\n",
    "\n",
    "$\\displaystyle \\langle u,v \\rangle = \n",
    "\\langle \\sum\\limits_i^d u_i e_i, \\sum\\limits_j^d v_j e_j \\rangle = \n",
    "\\sum\\limits_i^d u_i \\langle e_i, \\sum\\limits_j^d v_j e_j \\rangle = \n",
    "\\sum\\limits_i^d u_i \\langle \\sum\\limits_j^d v_j e_j, e_i \\rangle = \n",
    "\\sum\\limits_i^d u_i \\sum\\limits_j^d v_j \\langle e_j, e_i \\rangle = \n",
    "\\sum\\limits_i^d \\sum\\limits_j^d u_i \\langle e_i, e_j \\rangle v_j = \n",
    "\\sum\\limits_{i,j} u_i P_{i,j} v_j = u^T P v$ $\\blacksquare$\n",
    "\n",
    "4. Sejam $L_{inv}^T e_i, L_{inv}^T e_j$ linhas quaisquer de $L_{inv}$:\n",
    "\n",
    "$\\langle L_{inv}^T e_i, L_{inv}^T e_j \\rangle = \n",
    "(L_{inv}^T e_i)^T P L_{inv}^T e_j = \n",
    "e_i^T (L_{inv}^T)^T P L_{inv} e_j =\n",
    "e_i^T L_{inv} L L^T L_{inv}^T e_j = \n",
    "e_i^T (L_{inv} L) (L_{inv} L)^T e_j = \n",
    "e_i^T e_j$\n",
    "\n",
    "$\\displaystyle e_i^T e_j = \\sum\\limits_{k}e_{i_k} e_{j_k}$ é o produto interno canônico no $\\mathbb{R}^n$. Logo $\\langle L_{inv}^T e_i, L_{inv}^T e_j \\rangle = \\langle e_i, e_j \\rangle = \\delta_{ij}$. Como $\\langle u,v \\rangle = 0$ apenas se $u \\perp v$, concluo que as linhas de $L_inv$ são perpendiculares e, por ser uma matriz invertível, são diferentes do vetor nulo. $\\blacksquare$"
   ]
  },
  {
   "cell_type": "markdown",
   "metadata": {},
   "source": [
    "Agora, escreva um programa que, dado o produto interno pela função $Q$, calcula uma base ortonormal usando `cholesky`."
   ]
  },
  {
   "cell_type": "code",
   "execution_count": 73,
   "metadata": {
    "collapsed": false,
    "deletable": false,
    "nbgrader": {
     "checksum": "8016ea70505354363ba934969bdff6eb",
     "grade": false,
     "grade_id": "base_on",
     "locked": false,
     "solution": true
    }
   },
   "outputs": [],
   "source": [
    "def vetor_base_canonica(d,k):\n",
    "    ''' Retorna vetor da base canônica do R^d com 1 na k-ésima entrada '''\n",
    "    assert(k < d)\n",
    "    e = [0]*d\n",
    "    e[k] = 1\n",
    "    return array(e)\n",
    "\n",
    "def matriz_prod_interno(d,Q):\n",
    "    ''' Monta a matriz produto interno com d linhas e d colunas '''\n",
    "    e = vetor_base_canonica\n",
    "    return array([ [ Q(e(d,i),e(d,j)) for j in range(d) ] for i in range(d) ])\n",
    "\n",
    "def base_on(d,Q):\n",
    "    ''' d = dimensão, Q = produto interno'''\n",
    "    P = matriz_prod_interno(d,Q)\n",
    "    L_inv = inv(cholesky(P))\n",
    "    return [normalize(L_inv[i],Q) for i in range(d)]"
   ]
  },
  {
   "cell_type": "code",
   "execution_count": 74,
   "metadata": {
    "collapsed": true,
    "deletable": false,
    "nbgrader": {
     "checksum": "fd5948773b0b0d4e2ed79bcac754a9de",
     "grade": false,
     "grade_id": "pi_random",
     "locked": true,
     "solution": false
    }
   },
   "outputs": [],
   "source": [
    "# Gerando um produto interno meio aleatório:\n",
    "A = rand(3,3)\n",
    "M = dot(A.T, A)\n",
    "def Q(u,v):\n",
    "    return sum([ui*M[i,j]*vj for i,ui in enumerate(u) for j,vj in enumerate(v)])"
   ]
  },
  {
   "cell_type": "code",
   "execution_count": 75,
   "metadata": {
    "collapsed": false,
    "deletable": false,
    "nbgrader": {
     "checksum": "a4a462827a2879c16b7a6668bf23f322",
     "grade": true,
     "grade_id": "base_on_3",
     "locked": true,
     "points": 2,
     "solution": false
    }
   },
   "outputs": [],
   "source": [
    "us = base_on(3,Q)\n",
    "produtos = [[Q(ui,uj) for ui in us] for uj in us]\n",
    "assert(allclose(produtos, eye(3)))"
   ]
  },
  {
   "cell_type": "markdown",
   "metadata": {},
   "source": [
    "Comparando com Gram-Schmidt:"
   ]
  },
  {
   "cell_type": "code",
   "execution_count": 76,
   "metadata": {
    "collapsed": false,
    "deletable": false,
    "nbgrader": {
     "checksum": "49d2b60b737f0896595b386d61a54401",
     "grade": true,
     "grade_id": "base_on_gs",
     "locked": true,
     "points": 2,
     "solution": false
    }
   },
   "outputs": [
    {
     "name": "stdout",
     "output_type": "stream",
     "text": [
      "CPU times: user 0 ns, sys: 0 ns, total: 0 ns\n",
      "Wall time: 2.19 ms\n",
      "CPU times: user 3.33 ms, sys: 0 ns, total: 3.33 ms\n",
      "Wall time: 4.29 ms\n"
     ]
    }
   ],
   "source": [
    "%time base_gs = GramSchmidt(eye(3), Q)\n",
    "%time base_chol = base_on(3,Q)\n",
    "assert(allclose(base_gs, base_chol))"
   ]
  },
  {
   "cell_type": "code",
   "execution_count": 77,
   "metadata": {
    "collapsed": false,
    "deletable": false,
    "nbgrader": {
     "checksum": "c6167bb5a9edc409f392d70672e4ce38",
     "grade": true,
     "grade_id": "base_on_big",
     "locked": true,
     "points": 2,
     "solution": false
    }
   },
   "outputs": [
    {
     "name": "stdout",
     "output_type": "stream",
     "text": [
      "CPU times: user 43.3 ms, sys: 0 ns, total: 43.3 ms\n",
      "Wall time: 77.7 ms\n",
      "CPU times: user 153 ms, sys: 0 ns, total: 153 ms\n",
      "Wall time: 186 ms\n"
     ]
    }
   ],
   "source": [
    "# Gerando um produto interno meio aleatório:\n",
    "dim = 10\n",
    "A = rand(dim,dim)\n",
    "M = dot(A.T, A)\n",
    "def Q(u,v):\n",
    "    return sum([ui*M[i,j]*vj for i,ui in enumerate(u) for j,vj in enumerate(v)])\n",
    "\n",
    "%time base_gs = GramSchmidt(eye(dim), Q)\n",
    "%time base_chol = base_on(dim,Q)\n",
    "assert(allclose(base_gs, base_chol))"
   ]
  },
  {
   "cell_type": "markdown",
   "metadata": {},
   "source": [
    "É possível que `base_on` seja mais **lenta** do que GramSchmidt.\n",
    "1. Qual parte desta função você acha que está levando mais tempo?\n",
    "2. Em que casos você acha que vale a pena usar (algo similar a) `base_on`?"
   ]
  },
  {
   "cell_type": "markdown",
   "metadata": {
    "deletable": false,
    "nbgrader": {
     "checksum": "10c67897f21600db619a46f7d0165e88",
     "grade": true,
     "grade_id": "cholesky_lento",
     "locked": false,
     "points": 3,
     "solution": true
    }
   },
   "source": [
    "1. A montagem da matriz produto interno $P$. O produto interno pode ter até complexidade quadrática nas dimensões $O(d^2)$, atribuir elementos a uma matriz com $d$ linhas e $d$ colunas tem complexidade $O(d^2)$, ao fazer $O(d^2)$ operações para definir cada elemento da matriz, fico com uma complexidade total $O(d^4)$ para montar a matriz $P$.\n",
    "2. Já tendo a matriz $P$ de antemão e sendo ela uma matriz fácil de decompor por `cholesky` em $P = L L^T$ e resultando numa matriz $L$ fácil de inverter (triangular inferior é fácil de inverter, por exemplo). Um classe de matrizes que tem todas essas características é a das matrizes diagonais, $L = \\sqrt{P}$, $L$ também seria diagonal e uma matriz diagonal pode ser invertida com a troca das $d$ entradas da diagonal por suas inversas."
   ]
  },
  {
   "cell_type": "markdown",
   "metadata": {},
   "source": [
    "## Parte 2: Polinômios\n",
    "\n",
    "Vamos representar polinômios pelo `array` dos seus coeficientes, em ordem crescente.\n",
    "Ou seja, o polinômio $P(x) = x^3 - 4x + 1$ será dado por `[1, -4, 0, 1]`, ou qualquer outro array que comece assim e continue com zeros (se $P$ estiver num espaço de polinômios com grau maior!)."
   ]
  },
  {
   "cell_type": "markdown",
   "metadata": {},
   "source": [
    "### Questão 3: Produto interno\n",
    "\n",
    "Escreva a função `Q_int(u,v)` que calcula o produto interno de dois polinômios $u$ e $v$,\n",
    "dado pela integral $\\int_{-1}^1 u(t)v(t) \\, dt$.\n",
    "\n",
    "Sugestão: escreva primeiro uma função que calcula o produto interno dos polinômios $x^j$, $x^k$, e depois use a linearidade."
   ]
  },
  {
   "cell_type": "code",
   "execution_count": 49,
   "metadata": {
    "collapsed": true,
    "deletable": false,
    "nbgrader": {
     "checksum": "a883933f45b4d8d6aa3bd3baa191f30a",
     "grade": false,
     "grade_id": "Q_int",
     "locked": false,
     "points": 0,
     "solution": true
    }
   },
   "outputs": [],
   "source": [
    "def Q_int(u,v):\n",
    "    I = 0\n",
    "    for i,u_i in enumerate(u):\n",
    "        for j,v_j in enumerate(v):\n",
    "            s = i+j\n",
    "            I += u_i*v_j*2/(s+1) if s % 2 == 0 else 0\n",
    "    return I\n",
    "    '''# YOUR CODE HERE\n",
    "    raise NotImplementedError()'''"
   ]
  },
  {
   "cell_type": "markdown",
   "metadata": {},
   "source": [
    "Verifique que o produto interno está certo:"
   ]
  },
  {
   "cell_type": "code",
   "execution_count": 50,
   "metadata": {
    "collapsed": false,
    "deletable": false,
    "nbgrader": {
     "checksum": "9245d98f7a3c1799d63ef6722c417b7e",
     "grade": false,
     "grade_id": "Q_int_5",
     "locked": true,
     "solution": false
    }
   },
   "outputs": [
    {
     "data": {
      "text/plain": [
       "array([[ 2.        ,  0.        ,  0.66666667,  0.        ,  0.4       ],\n",
       "       [ 0.        ,  0.66666667,  0.        ,  0.4       ,  0.        ],\n",
       "       [ 0.66666667,  0.        ,  0.4       ,  0.        ,  0.28571429],\n",
       "       [ 0.        ,  0.4       ,  0.        ,  0.28571429,  0.        ],\n",
       "       [ 0.4       ,  0.        ,  0.28571429,  0.        ,  0.22222222]])"
      ]
     },
     "execution_count": 50,
     "metadata": {},
     "output_type": "execute_result"
    }
   ],
   "source": [
    "array([[Q_int(vi,vj) for vi in eye(5)] for vj in eye(5)])"
   ]
  },
  {
   "cell_type": "code",
   "execution_count": 51,
   "metadata": {
    "collapsed": true,
    "deletable": false,
    "nbgrader": {
     "checksum": "4bff79fab0dde85291957c3b14198054",
     "grade": false,
     "grade_id": "horner",
     "locked": true,
     "solution": false
    }
   },
   "outputs": [],
   "source": [
    "def Horner(coeff):\n",
    "    \"\"\" Horner's rule for polynomial evaluation.\n",
    "    \n",
    "    Given coefficients `coeff` = $[a_0, a_1, ... a_n]$,\n",
    "    returns a function p(x) that calculates the polynomial $\\sum a_n x^n$,\n",
    "    where `x` can be a numpy array (and will be pointwise evaluated).\"\"\"\n",
    "    rcoeff = coeff[::-1]\n",
    "    def p(x):\n",
    "        # Init\n",
    "        acc = 0.0\n",
    "        for c in rcoeff:\n",
    "            acc *= x\n",
    "            acc += c\n",
    "        return acc\n",
    "    return p"
   ]
  },
  {
   "cell_type": "code",
   "execution_count": 52,
   "metadata": {
    "collapsed": false,
    "deletable": false,
    "nbgrader": {
     "checksum": "e5bd9e18e91e5bf00977c2e98a320776",
     "grade": true,
     "grade_id": "Q_int_equal_integral",
     "locked": true,
     "points": 3,
     "solution": false
    }
   },
   "outputs": [],
   "source": [
    "# Testando que Q_int acerta para 10 pares de polinômios de grau 3\n",
    "from scipy.integrate import quad\n",
    "for u,v in zip(rand(10,4),rand(10,4)):\n",
    "    Pu = Horner(u)\n",
    "    Pv = Horner(v)\n",
    "    uv = Q_int(u,v)\n",
    "    def f(t): return Pu(t)*Pv(t)\n",
    "    integral = quad(f, -1, 1)[0]\n",
    "    assert(abs(integral - uv) < 1e-10)"
   ]
  },
  {
   "cell_type": "markdown",
   "metadata": {},
   "source": [
    "### Questão 4: Polinômios de Legendre\n",
    "\n",
    "Agora, ortogonalize os polinômios de grau até 5, usando GramSchmidt:"
   ]
  },
  {
   "cell_type": "code",
   "execution_count": 53,
   "metadata": {
    "collapsed": false,
    "deletable": false,
    "nbgrader": {
     "checksum": "7040e0e8e2d397ada7f4e55db5c46f0a",
     "grade": false,
     "grade_id": "poly_coefs5",
     "locked": true,
     "solution": false
    },
    "scrolled": true
   },
   "outputs": [
    {
     "data": {
      "text/plain": [
       "[array([ 0.70710678,  0.        ,  0.        ,  0.        ,  0.        ,  0.        ]),\n",
       " array([ 0.        ,  1.22474487,  0.        ,  0.        ,  0.        ,  0.        ]),\n",
       " array([-0.79056942,  0.        ,  2.37170825,  0.        ,  0.        ,  0.        ]),\n",
       " array([ 0.        , -2.80624304,  0.        ,  4.67707173,  0.        ,  0.        ]),\n",
       " array([ 0.79549513,  0.        , -7.95495129,  0.        ,  9.2807765 ,  0.        ]),\n",
       " array([  0.        ,   4.39726477,   0.        , -20.52056895,\n",
       "          0.        ,  18.46851205])]"
      ]
     },
     "execution_count": 53,
     "metadata": {},
     "output_type": "execute_result"
    }
   ],
   "source": [
    "deg = 5\n",
    "poly_coefs = GramSchmidt(eye(deg+1), Q_int)\n",
    "poly_coefs"
   ]
  },
  {
   "cell_type": "markdown",
   "metadata": {},
   "source": [
    "Coeficientes normalizados"
   ]
  },
  {
   "cell_type": "code",
   "execution_count": 54,
   "metadata": {
    "collapsed": false
   },
   "outputs": [
    {
     "data": {
      "text/plain": [
       "[array([ 1.,  0.,  0.,  0.,  0.,  0.]),\n",
       " array([ 0.,  1.,  0.,  0.,  0.,  0.]),\n",
       " array([ 1., -0., -3., -0., -0., -0.]),\n",
       " array([-0.        ,  1.        , -0.        , -1.66666667, -0.        , -0.        ]),\n",
       " array([  1.        ,   0.        , -10.        ,   0.        ,\n",
       "         11.66666667,   0.        ]),\n",
       " array([ 0.        ,  1.        ,  0.        , -4.66666667,  0.        ,\n",
       "         4.2       ])]"
      ]
     },
     "execution_count": 54,
     "metadata": {},
     "output_type": "execute_result"
    }
   ],
   "source": [
    "[v/v[0] if v[0] != 0 else v/v[1] for v in _]"
   ]
  },
  {
   "cell_type": "markdown",
   "metadata": {},
   "source": [
    "Calcule as raízes dos 4 primeiros e verifique que são de fato os nós de Gauss-Legendre.\n",
    "Use `Horner` para \"demonstrar\" (ou pelo menos se convencer!) que de fato são as raízes.\n",
    "Por exemplo:"
   ]
  },
  {
   "cell_type": "code",
   "execution_count": 55,
   "metadata": {
    "collapsed": false
   },
   "outputs": [
    {
     "data": {
      "text/plain": [
       "0.0"
      ]
     },
     "execution_count": 55,
     "metadata": {},
     "output_type": "execute_result"
    }
   ],
   "source": [
    "p1 = Horner(poly_coefs[1])\n",
    "p1(0)"
   ]
  },
  {
   "cell_type": "markdown",
   "metadata": {},
   "source": [
    "O polinômio de coeficientes `poly_coefs[0]` é constante e diferente de zero, portanto não tem raízes."
   ]
  },
  {
   "cell_type": "code",
   "execution_count": 82,
   "metadata": {
    "collapsed": false,
    "deletable": false,
    "nbgrader": {
     "checksum": "67c736cc6da5c424e3b89e941c3b9933",
     "grade": true,
     "grade_id": "roots_4_polys",
     "locked": false,
     "points": 3,
     "solution": true
    }
   },
   "outputs": [
    {
     "name": "stdout",
     "output_type": "stream",
     "text": [
      "p2(-0.5773502691896257) = -1.1102230246251565e-16\n",
      "p2(0.5773502691896257) = -1.1102230246251565e-16\n",
      "\n",
      "p3(0) = 0.0\n",
      "\n",
      "p4(0.8611363115940526) = -1.1102230246251565e-16\n",
      "p4(-0.8611363115940526) = -1.1102230246251565e-16\n",
      "\n",
      "\n"
     ]
    }
   ],
   "source": [
    "p={}\n",
    "for i in [2,3,4]:\n",
    "    p[i] = Horner(poly_coefs[i])\n",
    "\n",
    "r={2:[-sqrt(3)/3,sqrt(3)/3],\n",
    "   3:[0],\n",
    "   4:[sqrt((3 + sqrt(4.8))/7),-sqrt((3 + sqrt(4.8))/7)]}\n",
    "\n",
    "s=''\n",
    "for n,p_n in p.items():\n",
    "    for raiz in r[n]:\n",
    "        s += 'p{}({}) = {}'.format(n,raiz,p_n(raiz))\n",
    "        s +='\\n'\n",
    "    s += '\\n'\n",
    "\n",
    "print(s)"
   ]
  },
  {
   "cell_type": "markdown",
   "metadata": {},
   "source": [
    "Agora, faça um gráfico com estes 6 polinômios no intervalo $[-1,1]$:"
   ]
  },
  {
   "cell_type": "code",
   "execution_count": 84,
   "metadata": {
    "collapsed": false,
    "deletable": false,
    "nbgrader": {
     "checksum": "d3b4b628a4af3711ade6e598a2e65b54",
     "grade": true,
     "grade_id": "graph_all_polys",
     "locked": false,
     "points": 2,
     "solution": true
    }
   },
   "outputs": [
    {
     "data": {
      "image/png": "[encoded data removed]",
      "text/plain": [
       "<matplotlib.figure.Figure at 0x7f1ada418da0>"
      ]
     },
     "metadata": {},
     "output_type": "display_data"
    }
   ],
   "source": [
    "xs = linspace(-1,1,num=200)\n",
    "plot(xs,zeros_like(xs),'-.')\n",
    "for i,coefs in enumerate(poly_coefs):\n",
    "    p_n = Horner(coefs)\n",
    "    plot(xs,p_n(xs),label='p{}'.format(i))\n",
    "legend(loc=0);"
   ]
  },
  {
   "cell_type": "markdown",
   "metadata": {},
   "source": [
    "### Questão 5: Encontrando raízes por Newton\n",
    "\n",
    "Explique como, dado um vetor `u` com os coeficientes de um polinômio, obter um vetor `ud` com os coeficientes da sua derivada."
   ]
  },
  {
   "cell_type": "markdown",
   "metadata": {
    "deletable": false,
    "nbgrader": {
     "checksum": "d25527e007be3bfd115c761ba7155763",
     "grade": true,
     "grade_id": "coefs_der",
     "locked": false,
     "points": 2,
     "solution": true
    }
   },
   "source": [
    "Sabendo que a derivada nos polinômios tem as seguintes características:\n",
    "\n",
    "1. É um operador linear: $\\frac{d}{dx} (p + \\lambda q)(x) = \\frac{d}{dx} p(x) + \\lambda\\frac{d}{dx} q(x)$, $\\lambda$ constante\n",
    "2. Derivada de monômio: $\\frac{d}{dx}(\\lambda x^n) = \\lambda \\frac{d}{dx} x^n = \\lambda n x^{n-1}$\n",
    "3. Derivada de constante: $\\frac{d}{dx}\\lambda = 0$\n",
    "\n",
    "Obtendo a derivada de um polinômio:\n",
    "\n",
    "$p(x) = \\sum\\limits_{k=0}^{n} a_n x^k$\n",
    "\n",
    "$\\frac{d}{dx}p(x) = \n",
    "\\frac{d}{dx}\\sum\\limits_{k=0}^{n} a_k x^k = \n",
    "\\sum\\limits_{k=0}^{n} a_k \\frac{d}{dx} x^k = \n",
    "\\sum\\limits_{k=1}^{n} a_k k x^{k-1}$\n",
    "\n",
    "Posso usar a sequência de termos da soma para tornar o processo um pouco mais algorítmico. Tendo o vetor de coeficientes $u$, basta criar um vetor $u_d$ tal que $ud_{i} = u_{i+1}(i+1)$ e sendo $n$ o grau do polinômio, $ud_n = 0$."
   ]
  },
  {
   "cell_type": "code",
   "execution_count": 97,
   "metadata": {
    "collapsed": false
   },
   "outputs": [],
   "source": [
    "# A função que faz a derivação descrita no enunciado\n",
    "def deriva_coefs(u):\n",
    "    return array([u_i*(i+1) for i,u_i in enumerate(u[1:])] + [0])"
   ]
  },
  {
   "cell_type": "code",
   "execution_count": 91,
   "metadata": {
    "collapsed": true,
    "deletable": false,
    "nbgrader": {
     "checksum": "aef97a17ff594007f69153708137b143",
     "grade": false,
     "grade_id": "newton",
     "locked": true,
     "solution": false
    }
   },
   "outputs": [],
   "source": [
    "ncalls = 0\n",
    "def newton(f,df,x, tol=1e-12):\n",
    "    ''' Naive Newton's method for polynomials:  don't call too far from roots, will loop. '''\n",
    "    global ncalls\n",
    "    ncalls += 1\n",
    "    step = f(x)/df(x)\n",
    "    if abs(step) < tol:\n",
    "        return x - step\n",
    "    return newton(f,df,x-step)"
   ]
  },
  {
   "cell_type": "markdown",
   "metadata": {},
   "source": [
    "Use isso para calcular as raízes de $P_5$ com grande precisão:"
   ]
  },
  {
   "cell_type": "code",
   "execution_count": 94,
   "metadata": {
    "collapsed": false,
    "deletable": false,
    "nbgrader": {
     "checksum": "0a1e098d27d157e9185dde984df042bd",
     "grade": false,
     "grade_id": "newton",
     "locked": true,
     "solution": true
    }
   },
   "outputs": [],
   "source": [
    "chutes_iniciais = [-1,-0.5,0,0.5,1]\n",
    "p5 = Horner(poly_coefs[5])\n",
    "\n",
    "dp5_coefs = deriva_coefs(poly_coefs[5])\n",
    "dp5 = Horner(dp5_coefs)\n",
    "minhas_raizes = [newton(p5,dp5,chute) for chute in chutes_iniciais]\n",
    "\n",
    "raizes = minhas_raizes"
   ]
  },
  {
   "cell_type": "code",
   "execution_count": 95,
   "metadata": {
    "collapsed": false,
    "deletable": false,
    "nbgrader": {
     "checksum": "b2ced8bb7fc095861b054a190eab2f00",
     "grade": true,
     "grade_id": "roots_ok",
     "locked": true,
     "points": 3,
     "solution": false
    }
   },
   "outputs": [],
   "source": [
    "assert(allclose(p5(array(raizes)), 0, rtol=1e-15, atol=1e-15))"
   ]
  },
  {
   "cell_type": "markdown",
   "metadata": {},
   "source": [
    "### Questão 6: Todas as raízes de todos polinômios\n",
    "\n",
    "Use\n",
    "- a ideia de que as raízes de $P_{n+1}$ estão \"entre\" as raízes de $P_n$\n",
    "- o método acima se você tem chutes \"bons\" para as raízes\n",
    "\n",
    "para fazer um loop e encontrar **todas** as raízes de **todos** os polinômios até grau 20."
   ]
  },
  {
   "cell_type": "code",
   "execution_count": 96,
   "metadata": {
    "collapsed": true,
    "deletable": false,
    "nbgrader": {
     "checksum": "13b07d79aa564c65fca3785182e98ee1",
     "grade": false,
     "grade_id": "poly_coefs_20",
     "locked": true,
     "solution": false
    }
   },
   "outputs": [],
   "source": [
    "poly_coefs_20 = GramSchmidt(eye(21), Q_int)"
   ]
  },
  {
   "cell_type": "markdown",
   "metadata": {},
   "source": [
    "Escreva aqui uma função que, dados os coeficientes dos polinômios em ordem crescente de grau,\n",
    "encontra as raízes de cada um deles e retorna numa _lista de arrays_."
   ]
  },
  {
   "cell_type": "code",
   "execution_count": null,
   "metadata": {
    "collapsed": true,
    "deletable": false,
    "nbgrader": {
     "checksum": "18dd854450cd9b8a2883faf64aa7a771",
     "grade": false,
     "grade_id": "find_all_roots",
     "locked": false,
     "solution": true
    }
   },
   "outputs": [],
   "source": [
    "def find_all_roots(poly_coefs):\n",
    "    # YOUR CODE HERE\n",
    "    raise NotImplementedError()"
   ]
  },
  {
   "cell_type": "code",
   "execution_count": null,
   "metadata": {
    "collapsed": false,
    "deletable": false,
    "nbgrader": {
     "checksum": "072d2ff149acda3ac08f4c35eec5f182",
     "grade": true,
     "grade_id": "all_roots_first",
     "locked": true,
     "points": 3,
     "solution": false
    }
   },
   "outputs": [],
   "source": [
    "todas_raizes = find_all_roots(poly_coefs_20)\n",
    "\n",
    "for pc, raizes in zip(poly_coefs_20[1:11], todas_raizes[1:11]):\n",
    "    print(len(raizes))\n",
    "    p = Horner(pc)\n",
    "    assert(allclose(p(array(raizes)), 0, rtol=1e-12, atol=1e-12))"
   ]
  },
  {
   "cell_type": "code",
   "execution_count": null,
   "metadata": {
    "collapsed": false,
    "deletable": false,
    "nbgrader": {
     "checksum": "24ec2fd88e69f463c47aabe9f3841cd7",
     "grade": true,
     "grade_id": "all_roots_last",
     "locked": true,
     "points": 2,
     "solution": false
    }
   },
   "outputs": [],
   "source": [
    "# Newton fica menos preciso com grau mais alto...\n",
    "for pc, raizes in zip(poly_coefs_20[11:], todas_raizes[11:]):\n",
    "    print(len(raizes))\n",
    "    p = Horner(pc)\n",
    "    assert(allclose(p(array(raizes)), 0, rtol=2e-10, atol=2e-10))"
   ]
  }
 ],
 "metadata": {
  "kernelspec": {
   "display_name": "Python 3",
   "language": "python",
   "name": "python3"
  },
  "language_info": {
   "codemirror_mode": {
    "name": "ipython",
    "version": 3
   },
   "file_extension": ".py",
   "mimetype": "text/x-python",
   "name": "python",
   "nbconvert_exporter": "python",
   "pygments_lexer": "ipython3",
   "version": "3.5.2"
  }
 },
 "nbformat": 4,
 "nbformat_minor": 1
}
